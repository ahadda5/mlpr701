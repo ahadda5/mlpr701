{
 "cells": [
  {
   "cell_type": "code",
   "execution_count": 1,
   "metadata": {
    "executionInfo": {
     "elapsed": 528,
     "status": "ok",
     "timestamp": 1633411101743,
     "user": {
      "displayName": "Ashraf Haddad",
      "photoUrl": "https://lh3.googleusercontent.com/a-/AOh14Gh_860lEjtF96d2NSUEmAqlYL7dhh3Uz8VnjUivUQ=s64",
      "userId": "13931689762732430725"
     },
     "user_tz": -240
    },
    "id": "OmOATGXZJnD1",
    "scrolled": true
   },
   "outputs": [],
   "source": [
    "### PREAMBLE\n",
    "# Chapter 1 - Introduction to adversarial robustness\n",
    "# noise.jpg\n",
    "\n",
    "import torch\n",
    "import torch.nn as nn\n",
    "import torch.optim as optim\n",
    "import torchvision\n",
    "import torchvision.models as models\n",
    "from torchvision import transforms\n",
    "import time\n",
    "from tqdm.autonotebook import tqdm\n",
    "from torch.utils.data import DataLoader\n",
    "from sklearn.metrics import precision_score, recall_score, f1_score, accuracy_score\n",
    "from inspect import getfullargspec,signature\n",
    "\n",
    "import matplotlib.pyplot as plt\n",
    "import numpy as np\n",
    "\n",
    "from PIL import Image\n",
    "import torch\n",
    "from torch.utils.data import Dataset\n",
    "from torchvision import datasets\n",
    "\n",
    "\n",
    "%matplotlib inline\n",
    "%config InlineBackend.figure_format = 'svg'\n"
   ]
  },
  {
   "cell_type": "code",
   "execution_count": 2,
   "metadata": {
    "colab": {
     "base_uri": "https://localhost:8080/"
    },
    "executionInfo": {
     "elapsed": 6205,
     "status": "ok",
     "timestamp": 1633410088822,
     "user": {
      "displayName": "Ashraf Haddad",
      "photoUrl": "https://lh3.googleusercontent.com/a-/AOh14Gh_860lEjtF96d2NSUEmAqlYL7dhh3Uz8VnjUivUQ=s64",
      "userId": "13931689762732430725"
     },
     "user_tz": -240
    },
    "id": "FMFDHKcxJnES",
    "outputId": "3826cda7-4c98-424d-9b41-5b9b7154fdee"
   },
   "outputs": [
    {
     "name": "stdout",
     "output_type": "stream",
     "text": [
      "torch.Size([16, 10])\n",
      "MnistResNet(\n",
      "  (model): ResNet(\n",
      "    (conv1): Conv2d(1, 64, kernel_size=(7, 7), stride=(2, 2), padding=(3, 3), bias=False)\n",
      "    (bn1): BatchNorm2d(64, eps=1e-05, momentum=0.1, affine=True, track_running_stats=True)\n",
      "    (relu): ReLU(inplace=True)\n",
      "    (maxpool): MaxPool2d(kernel_size=3, stride=2, padding=1, dilation=1, ceil_mode=False)\n",
      "    (layer1): Sequential(\n",
      "      (0): Bottleneck(\n",
      "        (conv1): Conv2d(64, 64, kernel_size=(1, 1), stride=(1, 1), bias=False)\n",
      "        (bn1): BatchNorm2d(64, eps=1e-05, momentum=0.1, affine=True, track_running_stats=True)\n",
      "        (conv2): Conv2d(64, 64, kernel_size=(3, 3), stride=(1, 1), padding=(1, 1), bias=False)\n",
      "        (bn2): BatchNorm2d(64, eps=1e-05, momentum=0.1, affine=True, track_running_stats=True)\n",
      "        (conv3): Conv2d(64, 256, kernel_size=(1, 1), stride=(1, 1), bias=False)\n",
      "        (bn3): BatchNorm2d(256, eps=1e-05, momentum=0.1, affine=True, track_running_stats=True)\n",
      "        (relu): ReLU(inplace=True)\n",
      "        (downsample): Sequential(\n",
      "          (0): Conv2d(64, 256, kernel_size=(1, 1), stride=(1, 1), bias=False)\n",
      "          (1): BatchNorm2d(256, eps=1e-05, momentum=0.1, affine=True, track_running_stats=True)\n",
      "        )\n",
      "      )\n",
      "      (1): Bottleneck(\n",
      "        (conv1): Conv2d(256, 64, kernel_size=(1, 1), stride=(1, 1), bias=False)\n",
      "        (bn1): BatchNorm2d(64, eps=1e-05, momentum=0.1, affine=True, track_running_stats=True)\n",
      "        (conv2): Conv2d(64, 64, kernel_size=(3, 3), stride=(1, 1), padding=(1, 1), bias=False)\n",
      "        (bn2): BatchNorm2d(64, eps=1e-05, momentum=0.1, affine=True, track_running_stats=True)\n",
      "        (conv3): Conv2d(64, 256, kernel_size=(1, 1), stride=(1, 1), bias=False)\n",
      "        (bn3): BatchNorm2d(256, eps=1e-05, momentum=0.1, affine=True, track_running_stats=True)\n",
      "        (relu): ReLU(inplace=True)\n",
      "      )\n",
      "      (2): Bottleneck(\n",
      "        (conv1): Conv2d(256, 64, kernel_size=(1, 1), stride=(1, 1), bias=False)\n",
      "        (bn1): BatchNorm2d(64, eps=1e-05, momentum=0.1, affine=True, track_running_stats=True)\n",
      "        (conv2): Conv2d(64, 64, kernel_size=(3, 3), stride=(1, 1), padding=(1, 1), bias=False)\n",
      "        (bn2): BatchNorm2d(64, eps=1e-05, momentum=0.1, affine=True, track_running_stats=True)\n",
      "        (conv3): Conv2d(64, 256, kernel_size=(1, 1), stride=(1, 1), bias=False)\n",
      "        (bn3): BatchNorm2d(256, eps=1e-05, momentum=0.1, affine=True, track_running_stats=True)\n",
      "        (relu): ReLU(inplace=True)\n",
      "      )\n",
      "    )\n",
      "    (layer2): Sequential(\n",
      "      (0): Bottleneck(\n",
      "        (conv1): Conv2d(256, 128, kernel_size=(1, 1), stride=(1, 1), bias=False)\n",
      "        (bn1): BatchNorm2d(128, eps=1e-05, momentum=0.1, affine=True, track_running_stats=True)\n",
      "        (conv2): Conv2d(128, 128, kernel_size=(3, 3), stride=(2, 2), padding=(1, 1), bias=False)\n",
      "        (bn2): BatchNorm2d(128, eps=1e-05, momentum=0.1, affine=True, track_running_stats=True)\n",
      "        (conv3): Conv2d(128, 512, kernel_size=(1, 1), stride=(1, 1), bias=False)\n",
      "        (bn3): BatchNorm2d(512, eps=1e-05, momentum=0.1, affine=True, track_running_stats=True)\n",
      "        (relu): ReLU(inplace=True)\n",
      "        (downsample): Sequential(\n",
      "          (0): Conv2d(256, 512, kernel_size=(1, 1), stride=(2, 2), bias=False)\n",
      "          (1): BatchNorm2d(512, eps=1e-05, momentum=0.1, affine=True, track_running_stats=True)\n",
      "        )\n",
      "      )\n",
      "      (1): Bottleneck(\n",
      "        (conv1): Conv2d(512, 128, kernel_size=(1, 1), stride=(1, 1), bias=False)\n",
      "        (bn1): BatchNorm2d(128, eps=1e-05, momentum=0.1, affine=True, track_running_stats=True)\n",
      "        (conv2): Conv2d(128, 128, kernel_size=(3, 3), stride=(1, 1), padding=(1, 1), bias=False)\n",
      "        (bn2): BatchNorm2d(128, eps=1e-05, momentum=0.1, affine=True, track_running_stats=True)\n",
      "        (conv3): Conv2d(128, 512, kernel_size=(1, 1), stride=(1, 1), bias=False)\n",
      "        (bn3): BatchNorm2d(512, eps=1e-05, momentum=0.1, affine=True, track_running_stats=True)\n",
      "        (relu): ReLU(inplace=True)\n",
      "      )\n",
      "      (2): Bottleneck(\n",
      "        (conv1): Conv2d(512, 128, kernel_size=(1, 1), stride=(1, 1), bias=False)\n",
      "        (bn1): BatchNorm2d(128, eps=1e-05, momentum=0.1, affine=True, track_running_stats=True)\n",
      "        (conv2): Conv2d(128, 128, kernel_size=(3, 3), stride=(1, 1), padding=(1, 1), bias=False)\n",
      "        (bn2): BatchNorm2d(128, eps=1e-05, momentum=0.1, affine=True, track_running_stats=True)\n",
      "        (conv3): Conv2d(128, 512, kernel_size=(1, 1), stride=(1, 1), bias=False)\n",
      "        (bn3): BatchNorm2d(512, eps=1e-05, momentum=0.1, affine=True, track_running_stats=True)\n",
      "        (relu): ReLU(inplace=True)\n",
      "      )\n",
      "      (3): Bottleneck(\n",
      "        (conv1): Conv2d(512, 128, kernel_size=(1, 1), stride=(1, 1), bias=False)\n",
      "        (bn1): BatchNorm2d(128, eps=1e-05, momentum=0.1, affine=True, track_running_stats=True)\n",
      "        (conv2): Conv2d(128, 128, kernel_size=(3, 3), stride=(1, 1), padding=(1, 1), bias=False)\n",
      "        (bn2): BatchNorm2d(128, eps=1e-05, momentum=0.1, affine=True, track_running_stats=True)\n",
      "        (conv3): Conv2d(128, 512, kernel_size=(1, 1), stride=(1, 1), bias=False)\n",
      "        (bn3): BatchNorm2d(512, eps=1e-05, momentum=0.1, affine=True, track_running_stats=True)\n",
      "        (relu): ReLU(inplace=True)\n",
      "      )\n",
      "    )\n",
      "    (layer3): Sequential(\n",
      "      (0): Bottleneck(\n",
      "        (conv1): Conv2d(512, 256, kernel_size=(1, 1), stride=(1, 1), bias=False)\n",
      "        (bn1): BatchNorm2d(256, eps=1e-05, momentum=0.1, affine=True, track_running_stats=True)\n",
      "        (conv2): Conv2d(256, 256, kernel_size=(3, 3), stride=(2, 2), padding=(1, 1), bias=False)\n",
      "        (bn2): BatchNorm2d(256, eps=1e-05, momentum=0.1, affine=True, track_running_stats=True)\n",
      "        (conv3): Conv2d(256, 1024, kernel_size=(1, 1), stride=(1, 1), bias=False)\n",
      "        (bn3): BatchNorm2d(1024, eps=1e-05, momentum=0.1, affine=True, track_running_stats=True)\n",
      "        (relu): ReLU(inplace=True)\n",
      "        (downsample): Sequential(\n",
      "          (0): Conv2d(512, 1024, kernel_size=(1, 1), stride=(2, 2), bias=False)\n",
      "          (1): BatchNorm2d(1024, eps=1e-05, momentum=0.1, affine=True, track_running_stats=True)\n",
      "        )\n",
      "      )\n",
      "      (1): Bottleneck(\n",
      "        (conv1): Conv2d(1024, 256, kernel_size=(1, 1), stride=(1, 1), bias=False)\n",
      "        (bn1): BatchNorm2d(256, eps=1e-05, momentum=0.1, affine=True, track_running_stats=True)\n",
      "        (conv2): Conv2d(256, 256, kernel_size=(3, 3), stride=(1, 1), padding=(1, 1), bias=False)\n",
      "        (bn2): BatchNorm2d(256, eps=1e-05, momentum=0.1, affine=True, track_running_stats=True)\n",
      "        (conv3): Conv2d(256, 1024, kernel_size=(1, 1), stride=(1, 1), bias=False)\n",
      "        (bn3): BatchNorm2d(1024, eps=1e-05, momentum=0.1, affine=True, track_running_stats=True)\n",
      "        (relu): ReLU(inplace=True)\n",
      "      )\n",
      "      (2): Bottleneck(\n",
      "        (conv1): Conv2d(1024, 256, kernel_size=(1, 1), stride=(1, 1), bias=False)\n",
      "        (bn1): BatchNorm2d(256, eps=1e-05, momentum=0.1, affine=True, track_running_stats=True)\n",
      "        (conv2): Conv2d(256, 256, kernel_size=(3, 3), stride=(1, 1), padding=(1, 1), bias=False)\n",
      "        (bn2): BatchNorm2d(256, eps=1e-05, momentum=0.1, affine=True, track_running_stats=True)\n",
      "        (conv3): Conv2d(256, 1024, kernel_size=(1, 1), stride=(1, 1), bias=False)\n",
      "        (bn3): BatchNorm2d(1024, eps=1e-05, momentum=0.1, affine=True, track_running_stats=True)\n",
      "        (relu): ReLU(inplace=True)\n",
      "      )\n",
      "      (3): Bottleneck(\n",
      "        (conv1): Conv2d(1024, 256, kernel_size=(1, 1), stride=(1, 1), bias=False)\n",
      "        (bn1): BatchNorm2d(256, eps=1e-05, momentum=0.1, affine=True, track_running_stats=True)\n",
      "        (conv2): Conv2d(256, 256, kernel_size=(3, 3), stride=(1, 1), padding=(1, 1), bias=False)\n",
      "        (bn2): BatchNorm2d(256, eps=1e-05, momentum=0.1, affine=True, track_running_stats=True)\n",
      "        (conv3): Conv2d(256, 1024, kernel_size=(1, 1), stride=(1, 1), bias=False)\n",
      "        (bn3): BatchNorm2d(1024, eps=1e-05, momentum=0.1, affine=True, track_running_stats=True)\n",
      "        (relu): ReLU(inplace=True)\n",
      "      )\n",
      "      (4): Bottleneck(\n",
      "        (conv1): Conv2d(1024, 256, kernel_size=(1, 1), stride=(1, 1), bias=False)\n",
      "        (bn1): BatchNorm2d(256, eps=1e-05, momentum=0.1, affine=True, track_running_stats=True)\n",
      "        (conv2): Conv2d(256, 256, kernel_size=(3, 3), stride=(1, 1), padding=(1, 1), bias=False)\n",
      "        (bn2): BatchNorm2d(256, eps=1e-05, momentum=0.1, affine=True, track_running_stats=True)\n",
      "        (conv3): Conv2d(256, 1024, kernel_size=(1, 1), stride=(1, 1), bias=False)\n",
      "        (bn3): BatchNorm2d(1024, eps=1e-05, momentum=0.1, affine=True, track_running_stats=True)\n",
      "        (relu): ReLU(inplace=True)\n",
      "      )\n",
      "      (5): Bottleneck(\n",
      "        (conv1): Conv2d(1024, 256, kernel_size=(1, 1), stride=(1, 1), bias=False)\n",
      "        (bn1): BatchNorm2d(256, eps=1e-05, momentum=0.1, affine=True, track_running_stats=True)\n",
      "        (conv2): Conv2d(256, 256, kernel_size=(3, 3), stride=(1, 1), padding=(1, 1), bias=False)\n",
      "        (bn2): BatchNorm2d(256, eps=1e-05, momentum=0.1, affine=True, track_running_stats=True)\n",
      "        (conv3): Conv2d(256, 1024, kernel_size=(1, 1), stride=(1, 1), bias=False)\n",
      "        (bn3): BatchNorm2d(1024, eps=1e-05, momentum=0.1, affine=True, track_running_stats=True)\n",
      "        (relu): ReLU(inplace=True)\n",
      "      )\n",
      "    )\n",
      "    (layer4): Sequential(\n",
      "      (0): Bottleneck(\n",
      "        (conv1): Conv2d(1024, 512, kernel_size=(1, 1), stride=(1, 1), bias=False)\n",
      "        (bn1): BatchNorm2d(512, eps=1e-05, momentum=0.1, affine=True, track_running_stats=True)\n",
      "        (conv2): Conv2d(512, 512, kernel_size=(3, 3), stride=(2, 2), padding=(1, 1), bias=False)\n",
      "        (bn2): BatchNorm2d(512, eps=1e-05, momentum=0.1, affine=True, track_running_stats=True)\n",
      "        (conv3): Conv2d(512, 2048, kernel_size=(1, 1), stride=(1, 1), bias=False)\n",
      "        (bn3): BatchNorm2d(2048, eps=1e-05, momentum=0.1, affine=True, track_running_stats=True)\n",
      "        (relu): ReLU(inplace=True)\n",
      "        (downsample): Sequential(\n",
      "          (0): Conv2d(1024, 2048, kernel_size=(1, 1), stride=(2, 2), bias=False)\n",
      "          (1): BatchNorm2d(2048, eps=1e-05, momentum=0.1, affine=True, track_running_stats=True)\n",
      "        )\n",
      "      )\n",
      "      (1): Bottleneck(\n",
      "        (conv1): Conv2d(2048, 512, kernel_size=(1, 1), stride=(1, 1), bias=False)\n",
      "        (bn1): BatchNorm2d(512, eps=1e-05, momentum=0.1, affine=True, track_running_stats=True)\n",
      "        (conv2): Conv2d(512, 512, kernel_size=(3, 3), stride=(1, 1), padding=(1, 1), bias=False)\n",
      "        (bn2): BatchNorm2d(512, eps=1e-05, momentum=0.1, affine=True, track_running_stats=True)\n",
      "        (conv3): Conv2d(512, 2048, kernel_size=(1, 1), stride=(1, 1), bias=False)\n",
      "        (bn3): BatchNorm2d(2048, eps=1e-05, momentum=0.1, affine=True, track_running_stats=True)\n",
      "        (relu): ReLU(inplace=True)\n",
      "      )\n",
      "      (2): Bottleneck(\n",
      "        (conv1): Conv2d(2048, 512, kernel_size=(1, 1), stride=(1, 1), bias=False)\n",
      "        (bn1): BatchNorm2d(512, eps=1e-05, momentum=0.1, affine=True, track_running_stats=True)\n",
      "        (conv2): Conv2d(512, 512, kernel_size=(3, 3), stride=(1, 1), padding=(1, 1), bias=False)\n",
      "        (bn2): BatchNorm2d(512, eps=1e-05, momentum=0.1, affine=True, track_running_stats=True)\n",
      "        (conv3): Conv2d(512, 2048, kernel_size=(1, 1), stride=(1, 1), bias=False)\n",
      "        (bn3): BatchNorm2d(2048, eps=1e-05, momentum=0.1, affine=True, track_running_stats=True)\n",
      "        (relu): ReLU(inplace=True)\n",
      "      )\n",
      "    )\n",
      "    (avgpool): AdaptiveAvgPool2d(output_size=(1, 1))\n",
      "    (fc): Linear(in_features=2048, out_features=10, bias=True)\n",
      "  )\n",
      ")\n"
     ]
    }
   ],
   "source": [
    "####################################\n",
    "#Need to run the same with FashionMNIST\n",
    "###################################\n",
    "\n",
    "\n",
    "############################\n",
    "class MnistResNet(nn.Module):\n",
    "  def __init__(self, in_channels=1):\n",
    "    super(MnistResNet, self).__init__()\n",
    "\n",
    "    # Load a pretrained resnet model from torchvision.models in Pytorch\n",
    "    self.model = models.resnet50(pretrained=False)\n",
    "\n",
    "    # Change the input layer to take Grayscale image, instead of RGB images.  **************\n",
    "    # Hence in_channels is set as 1 or 3 respectively\n",
    "    # original definition of the first layer on the ResNet class\n",
    "    # self.conv1 = nn.Conv2d(3, 64, kernel_size=7, stride=2, padding=3, bias=False)\n",
    "    self.model.conv1 = nn.Conv2d(in_channels, 64, kernel_size=7, stride=2, padding=3, bias=False)\n",
    "    \n",
    "    # Change the output layer to output 10 classes instead of 1000 classes\n",
    "    num_ftrs = self.model.fc.in_features\n",
    "    self.model.fc = nn.Linear(num_ftrs, 10)\n",
    "\n",
    "  def forward(self, x):\n",
    "    return self.model(x)\n",
    "\n",
    "\n",
    "my_resnet = MnistResNet()\n",
    "\n",
    "input = torch.randn((16,1,244,244))\n",
    "output = my_resnet(input)\n",
    "print(output.shape)\n",
    "\n",
    "print(my_resnet)"
   ]
  },
  {
   "cell_type": "code",
   "execution_count": 4,
   "metadata": {
    "executionInfo": {
     "elapsed": 310,
     "status": "ok",
     "timestamp": 1633411118948,
     "user": {
      "displayName": "Ashraf Haddad",
      "photoUrl": "https://lh3.googleusercontent.com/a-/AOh14Gh_860lEjtF96d2NSUEmAqlYL7dhh3Uz8VnjUivUQ=s64",
      "userId": "13931689762732430725"
     },
     "user_tz": -240
    },
    "id": "63KiUm0rJnEX"
   },
   "outputs": [],
   "source": [
    "import torch\n",
    "import torch.nn as nn\n",
    "from torchvision.models import resnet50\n",
    "\n",
    "# simple Module to normalize an image\n",
    "class Normalize(nn.Module):\n",
    "    def __init__(self, mean, std):\n",
    "        super(Normalize, self).__init__()\n",
    "        self.mean = torch.Tensor(mean)\n",
    "        self.std = torch.Tensor(std)\n",
    "    def forward(self, x):\n",
    "        return (x - self.mean.type_as(x)[None,:,None,None]) / self.std.type_as(x)[None,:,None,None]\n",
    "\n",
    "def get_data_loaders(train_batch_size, val_batch_size):\n",
    "    fashion_mnist = torchvision.datasets.FashionMNIST(download=True, train=True, root=\".\").train_data.float()\n",
    "    \n",
    "    data_transform = transforms.Compose([ transforms.Resize((224, 224)),\n",
    "                                         transforms.ToTensor(), \n",
    "                                         transforms.Normalize((fashion_mnist.mean()/255,), (fashion_mnist.std()/255,))\n",
    "                                        ])\n",
    "\n",
    "    train_loader = DataLoader(torchvision.datasets.FashionMNIST(download=True, root=\".\", transform=data_transform, train=True),\n",
    "                              batch_size=train_batch_size, shuffle=True)\n",
    "\n",
    "    val_loader = DataLoader(torchvision.datasets.FashionMNIST(download=False, root=\".\", transform=data_transform, train=False),\n",
    "                            batch_size=val_batch_size, shuffle=False)\n",
    "    return train_loader, val_loader\n",
    "\n",
    "\n",
    "def calculate_metric(metric_fn, true_y, pred_y):\n",
    "    if \"average\" in signature(metric_fn).parameters:\n",
    "        return metric_fn(true_y, pred_y, average=\"micro\")\n",
    "    else:\n",
    "        return metric_fn(true_y, pred_y)\n",
    "    \n",
    "def print_scores(p, r, f1, a, batch_size):\n",
    "    for name, scores in zip((\"precision\", \"recall\", \"F1\", \"accuracy\"), (p, r, f1, a)):\n",
    "        print(f\"\\t{name.rjust(14, ' ')}: {sum(scores)/batch_size:.4f}\")\n",
    "        \n",
    "if torch.cuda.is_available():\n",
    "    device = torch.device(\"cuda\") \n",
    "else:\n",
    "    device = torch.device(\"cpu\")"
   ]
  },
  {
   "cell_type": "markdown",
   "metadata": {
    "id": "5k99bvHiJnEa"
   },
   "source": []
  },
  {
   "cell_type": "code",
   "execution_count": 5,
   "metadata": {},
   "outputs": [
    {
     "name": "stdout",
     "output_type": "stream",
     "text": [
      "True\n"
     ]
    }
   ],
   "source": [
    "print(torch.cuda.is_available())"
   ]
  },
  {
   "cell_type": "code",
   "execution_count": 6,
   "metadata": {
    "colab": {
     "base_uri": "https://localhost:8080/",
     "height": 482,
     "referenced_widgets": [
      "85a26bc32c694b3187014db03f2f0945",
      "981ab63dcf574faab9269531fc9828e6",
      "a09bcbb9a8164e258996869b86d5c6fe",
      "33e6a73b77b34192a21e3b53590d5787",
      "b41a57951ea74a23a70cfbf5dc3f08bc",
      "312db40f60d14f1e84c82682448ea9a4",
      "5523dc495fdf4c89a7ec3c3d71fe2c30",
      "d07f7a788d464efc8a968b8097d1708b",
      "e4298bd5dc4e4b0fb17a720eb109d49f",
      "8ab16354cfee4ba2bdc8cdd9c723127c",
      "7335277b3f4a4704954617575b011224",
      "00f28e6fa51d47beb2c0214f7cfcd18e",
      "e6f3bd80225d4b3bba8018c2cabbcc7e",
      "cb443bc99d3343da97358e51cb067635",
      "2c09fb80eac84910ad5056bbfc08daca",
      "bf6175b1b53e42ef916ad68973d012d8",
      "cd21c6f158c1442982166651169ab325",
      "bb93c5ac624c4b2caf44ea61ce66e1ea",
      "739b1aaa7b21423b840a283c758ee4af",
      "af0adeebc1714582b7505a502780e69f",
      "3add4542dd3e4a1e8f8b3b4b8254b62c",
      "b560701a7a6548fc89bde2111c33f8dc",
      "bf3cc9a41b3a4b1b82c8141505fb43d1",
      "b830b87dbe794524850f1b3515ccf4f3",
      "2ebd8e8beb1b4da8a1dd088b9dcacaa2",
      "831e5bdbddf044dd8de88005c5308694",
      "92ce37b6b97047b8823434b3db78968d",
      "11c7d60f4c0a4e55aaeeb7053228898e",
      "5e315f4b022a4f03b6b05a9401fe9661",
      "7e659aaad49a48b1838b55c9321d53f1",
      "65cedc0fc7e04c919e30959b8d61d848",
      "9628882373bc4873921d2223219573d2",
      "1a73c880079d4baf803c8063b10050dd",
      "ff768b9dd13041ba8d1a4fc97268650c",
      "9f06f93037c04c4cab9e77f808ec0e20",
      "9f3bc71605364c458c5d05db36bc4472",
      "d9b30370091749e9a38e3067d92625dd",
      "68a9c9e32450495fbac90b6fbf36ea7c",
      "e4f19f90571f4628b8716884b942598f",
      "0f37df0617274f418a1f71226c724bc8",
      "5d2d20f9acaa438aa3c359a209c4bc32",
      "b39f0a1b76224ec58863b132f5e8ff77",
      "3cb22621e22140539237dd61dedf0b10",
      "b244149bf46f4deea71c61ce9eb8f337"
     ]
    },
    "executionInfo": {
     "elapsed": 15251,
     "status": "ok",
     "timestamp": 1633411143334,
     "user": {
      "displayName": "Ashraf Haddad",
      "photoUrl": "https://lh3.googleusercontent.com/a-/AOh14Gh_860lEjtF96d2NSUEmAqlYL7dhh3Uz8VnjUivUQ=s64",
      "userId": "13931689762732430725"
     },
     "user_tz": -240
    },
    "id": "3JAi9KytJnEc",
    "outputId": "12e22360-f3a8-49af-dc9d-4a56b588571c"
   },
   "outputs": [
    {
     "name": "stdout",
     "output_type": "stream",
     "text": [
      "Downloading http://fashion-mnist.s3-website.eu-central-1.amazonaws.com/train-images-idx3-ubyte.gz\n",
      "Downloading http://fashion-mnist.s3-website.eu-central-1.amazonaws.com/train-images-idx3-ubyte.gz to ./FashionMNIST/raw/train-images-idx3-ubyte.gz\n"
     ]
    },
    {
     "data": {
      "application/vnd.jupyter.widget-view+json": {
       "model_id": "2642706c66454a7daabe17541505747a",
       "version_major": 2,
       "version_minor": 0
      },
      "text/plain": [
       "  0%|          | 0/26421880 [00:00<?, ?it/s]"
      ]
     },
     "metadata": {},
     "output_type": "display_data"
    },
    {
     "name": "stdout",
     "output_type": "stream",
     "text": [
      "Extracting ./FashionMNIST/raw/train-images-idx3-ubyte.gz to ./FashionMNIST/raw\n",
      "\n",
      "Downloading http://fashion-mnist.s3-website.eu-central-1.amazonaws.com/train-labels-idx1-ubyte.gz\n",
      "Downloading http://fashion-mnist.s3-website.eu-central-1.amazonaws.com/train-labels-idx1-ubyte.gz to ./FashionMNIST/raw/train-labels-idx1-ubyte.gz\n"
     ]
    },
    {
     "data": {
      "application/vnd.jupyter.widget-view+json": {
       "model_id": "054e3172f9204f378e9e1ca85a80cc47",
       "version_major": 2,
       "version_minor": 0
      },
      "text/plain": [
       "  0%|          | 0/29515 [00:00<?, ?it/s]"
      ]
     },
     "metadata": {},
     "output_type": "display_data"
    },
    {
     "name": "stdout",
     "output_type": "stream",
     "text": [
      "Extracting ./FashionMNIST/raw/train-labels-idx1-ubyte.gz to ./FashionMNIST/raw\n",
      "\n",
      "Downloading http://fashion-mnist.s3-website.eu-central-1.amazonaws.com/t10k-images-idx3-ubyte.gz\n",
      "Downloading http://fashion-mnist.s3-website.eu-central-1.amazonaws.com/t10k-images-idx3-ubyte.gz to ./FashionMNIST/raw/t10k-images-idx3-ubyte.gz\n"
     ]
    },
    {
     "data": {
      "application/vnd.jupyter.widget-view+json": {
       "model_id": "19e19068f2a04ca7a40cdb745fb38ec1",
       "version_major": 2,
       "version_minor": 0
      },
      "text/plain": [
       "  0%|          | 0/4422102 [00:00<?, ?it/s]"
      ]
     },
     "metadata": {},
     "output_type": "display_data"
    },
    {
     "name": "stdout",
     "output_type": "stream",
     "text": [
      "Extracting ./FashionMNIST/raw/t10k-images-idx3-ubyte.gz to ./FashionMNIST/raw\n",
      "\n",
      "Downloading http://fashion-mnist.s3-website.eu-central-1.amazonaws.com/t10k-labels-idx1-ubyte.gz\n",
      "Downloading http://fashion-mnist.s3-website.eu-central-1.amazonaws.com/t10k-labels-idx1-ubyte.gz to ./FashionMNIST/raw/t10k-labels-idx1-ubyte.gz\n"
     ]
    },
    {
     "data": {
      "application/vnd.jupyter.widget-view+json": {
       "model_id": "a0ca0cb22f5e43cebfa2def5946febbe",
       "version_major": 2,
       "version_minor": 0
      },
      "text/plain": [
       "  0%|          | 0/5148 [00:00<?, ?it/s]"
      ]
     },
     "metadata": {},
     "output_type": "display_data"
    },
    {
     "name": "stdout",
     "output_type": "stream",
     "text": [
      "Extracting ./FashionMNIST/raw/t10k-labels-idx1-ubyte.gz to ./FashionMNIST/raw\n",
      "\n"
     ]
    },
    {
     "name": "stderr",
     "output_type": "stream",
     "text": [
      "/home/sharim.jamal/.conda/envs/test/lib/python3.7/site-packages/torchvision/datasets/mnist.py:62: UserWarning: train_data has been renamed data\n",
      "  warnings.warn(\"train_data has been renamed data\")\n"
     ]
    }
   ],
   "source": [
    "# values are standard normalization for ImageNet images, \n",
    "# from https://github.com/pytorch/examples/blob/master/imagenet/main.py\n",
    "#norm = Normalize(mean=[0.485, 0.456, 0.406], std=[0.229, 0.224, 0.225])\n",
    "\n",
    "# load pre-trained ResNet50, and put into evaluation mode (necessary to e.g. turn off batchnorm)\n",
    "#model = resnet50(pretrained=True)\n",
    "#model.eval();\n",
    "# model:\n",
    "model = MnistResNet().to(device)\n",
    "\n",
    "# params you need to specify:\n",
    "epochs = 150\n",
    "batch_size = 128\n",
    "\n",
    "# Dataloaders\n",
    "train_loader, val_loader = get_data_loaders(batch_size, batch_size)\n",
    "\n",
    "# loss function and optimiyer\n",
    "loss_function = nn.CrossEntropyLoss() # your loss function, cross entropy works well for multi-class problems\n",
    "\n",
    "# optimizer, I've used Adadelta, as it wokrs well without any magic numbers\n",
    "optimizer = torch.optim.Adam(model.parameters(), lr=5e-4) # Using Karpathy's learning rate constant\n",
    "\n",
    "start_ts = time.time()\n",
    "\n",
    "losses = []\n",
    "batches = len(train_loader)\n",
    "val_batches = len(val_loader)"
   ]
  },
  {
   "cell_type": "code",
   "execution_count": 7,
   "metadata": {
    "colab": {
     "base_uri": "https://localhost:8080/",
     "height": 49,
     "referenced_widgets": [
      "372cec36e63543bd83b6db252ed9a12a",
      "4ce65f44a60a4751b7c658bbc09c55ed",
      "14886144ca4e4e55b4dfad5bd6790550",
      "9cdb2f1098454b7db1f3d84da34eb847",
      "f38727e742b44cd0bf10df786020058d",
      "e28fa28cc9ec4a52a18037d911035b07",
      "77e052c7a7de420eafb6cf55d2d406b1",
      "5a997a81ebc34a8db0d7b28d43572638",
      "ab34633ae4864e859b6b3bc1929c30c7",
      "4363655a1cbb4cc492c081b241aee628",
      "0979ace70edf4b0db2e394bdd0de8017"
     ]
    },
    "id": "sSWuFopqJnEf",
    "outputId": "e0cae263-639e-4b37-a1d1-93b5bbb87907"
   },
   "outputs": [
    {
     "data": {
      "application/vnd.jupyter.widget-view+json": {
       "model_id": "4bce9ea6883f4dca8d73e25685b56a20",
       "version_major": 2,
       "version_minor": 0
      },
      "text/plain": [
       "Loss:   0%|          | 0/469 [00:00<?, ?it/s]"
      ]
     },
     "metadata": {},
     "output_type": "display_data"
    },
    {
     "name": "stdout",
     "output_type": "stream",
     "text": [
      "Epoch 1/150, training loss: 0.47302517139199957, validation loss: 0.3424922823905945\n",
      "\t     precision: 0.8772\n",
      "\t        recall: 0.8772\n",
      "\t            F1: 0.0000\n",
      "\t      accuracy: 0.8772\n"
     ]
    },
    {
     "data": {
      "application/vnd.jupyter.widget-view+json": {
       "model_id": "64af01c56a274154984c5d8dcea50834",
       "version_major": 2,
       "version_minor": 0
      },
      "text/plain": [
       "Loss:   0%|          | 0/469 [00:00<?, ?it/s]"
      ]
     },
     "metadata": {},
     "output_type": "display_data"
    },
    {
     "name": "stdout",
     "output_type": "stream",
     "text": [
      "Epoch 2/150, training loss: 0.26650288421462087, validation loss: 0.27798667550086975\n",
      "\t     precision: 0.9022\n",
      "\t        recall: 0.9022\n",
      "\t            F1: 0.0000\n",
      "\t      accuracy: 0.9022\n"
     ]
    },
    {
     "data": {
      "application/vnd.jupyter.widget-view+json": {
       "model_id": "07ca763207354585846ca89061a9b0c4",
       "version_major": 2,
       "version_minor": 0
      },
      "text/plain": [
       "Loss:   0%|          | 0/469 [00:00<?, ?it/s]"
      ]
     },
     "metadata": {},
     "output_type": "display_data"
    },
    {
     "name": "stdout",
     "output_type": "stream",
     "text": [
      "Epoch 3/150, training loss: 0.21742074935039732, validation loss: 0.31579625606536865\n",
      "\t     precision: 0.8932\n",
      "\t        recall: 0.8932\n",
      "\t            F1: 0.0000\n",
      "\t      accuracy: 0.8932\n"
     ]
    },
    {
     "data": {
      "application/vnd.jupyter.widget-view+json": {
       "model_id": "9130905163a74de1a0c7ac3064788cd0",
       "version_major": 2,
       "version_minor": 0
      },
      "text/plain": [
       "Loss:   0%|          | 0/469 [00:00<?, ?it/s]"
      ]
     },
     "metadata": {},
     "output_type": "display_data"
    },
    {
     "name": "stdout",
     "output_type": "stream",
     "text": [
      "Epoch 4/150, training loss: 0.1882737024919565, validation loss: 0.25681835412979126\n",
      "\t     precision: 0.9129\n",
      "\t        recall: 0.9129\n",
      "\t            F1: 0.0000\n",
      "\t      accuracy: 0.9129\n"
     ]
    },
    {
     "data": {
      "application/vnd.jupyter.widget-view+json": {
       "model_id": "a886eda74c9b4174ab4423f44329867c",
       "version_major": 2,
       "version_minor": 0
      },
      "text/plain": [
       "Loss:   0%|          | 0/469 [00:00<?, ?it/s]"
      ]
     },
     "metadata": {},
     "output_type": "display_data"
    },
    {
     "name": "stdout",
     "output_type": "stream",
     "text": [
      "Epoch 5/150, training loss: 0.1749752689478621, validation loss: 0.26656079292297363\n",
      "\t     precision: 0.9009\n",
      "\t        recall: 0.9009\n",
      "\t            F1: 0.0000\n",
      "\t      accuracy: 0.9009\n"
     ]
    },
    {
     "data": {
      "application/vnd.jupyter.widget-view+json": {
       "model_id": "0d88716485fe4645a9069254452463b3",
       "version_major": 2,
       "version_minor": 0
      },
      "text/plain": [
       "Loss:   0%|          | 0/469 [00:00<?, ?it/s]"
      ]
     },
     "metadata": {},
     "output_type": "display_data"
    },
    {
     "name": "stdout",
     "output_type": "stream",
     "text": [
      "Epoch 6/150, training loss: 0.1504579264281401, validation loss: 0.26121291518211365\n",
      "\t     precision: 0.9119\n",
      "\t        recall: 0.9119\n",
      "\t            F1: 0.0000\n",
      "\t      accuracy: 0.9119\n"
     ]
    },
    {
     "data": {
      "application/vnd.jupyter.widget-view+json": {
       "model_id": "0c30bc60b30c462392ac66ef404e315e",
       "version_major": 2,
       "version_minor": 0
      },
      "text/plain": [
       "Loss:   0%|          | 0/469 [00:00<?, ?it/s]"
      ]
     },
     "metadata": {},
     "output_type": "display_data"
    },
    {
     "name": "stdout",
     "output_type": "stream",
     "text": [
      "Epoch 7/150, training loss: 0.13322405566348197, validation loss: 0.22781577706336975\n",
      "\t     precision: 0.9225\n",
      "\t        recall: 0.9225\n",
      "\t            F1: 0.0000\n",
      "\t      accuracy: 0.9225\n"
     ]
    },
    {
     "data": {
      "application/vnd.jupyter.widget-view+json": {
       "model_id": "f627c06325cd46eea9c1548c51f68424",
       "version_major": 2,
       "version_minor": 0
      },
      "text/plain": [
       "Loss:   0%|          | 0/469 [00:00<?, ?it/s]"
      ]
     },
     "metadata": {},
     "output_type": "display_data"
    },
    {
     "name": "stdout",
     "output_type": "stream",
     "text": [
      "Epoch 8/150, training loss: 0.12042371348054932, validation loss: 0.22338539361953735\n",
      "\t     precision: 0.9244\n",
      "\t        recall: 0.9244\n",
      "\t            F1: 0.0000\n",
      "\t      accuracy: 0.9244\n"
     ]
    },
    {
     "data": {
      "application/vnd.jupyter.widget-view+json": {
       "model_id": "a38d040971c343679c6bff80102ef935",
       "version_major": 2,
       "version_minor": 0
      },
      "text/plain": [
       "Loss:   0%|          | 0/469 [00:00<?, ?it/s]"
      ]
     },
     "metadata": {},
     "output_type": "display_data"
    },
    {
     "name": "stdout",
     "output_type": "stream",
     "text": [
      "Epoch 9/150, training loss: 0.10745020887689359, validation loss: 0.25015023350715637\n",
      "\t     precision: 0.9185\n",
      "\t        recall: 0.9185\n",
      "\t            F1: 0.0000\n",
      "\t      accuracy: 0.9185\n"
     ]
    },
    {
     "data": {
      "application/vnd.jupyter.widget-view+json": {
       "model_id": "1b46a28d38ab41b08b15546b26f10b85",
       "version_major": 2,
       "version_minor": 0
      },
      "text/plain": [
       "Loss:   0%|          | 0/469 [00:00<?, ?it/s]"
      ]
     },
     "metadata": {},
     "output_type": "display_data"
    },
    {
     "name": "stdout",
     "output_type": "stream",
     "text": [
      "Epoch 10/150, training loss: 0.08834184597788462, validation loss: 0.2424635887145996\n",
      "\t     precision: 0.9279\n",
      "\t        recall: 0.9279\n",
      "\t            F1: 0.0000\n",
      "\t      accuracy: 0.9279\n"
     ]
    },
    {
     "data": {
      "application/vnd.jupyter.widget-view+json": {
       "model_id": "2f35431152d44a70a9bea71b2d11e6cd",
       "version_major": 2,
       "version_minor": 0
      },
      "text/plain": [
       "Loss:   0%|          | 0/469 [00:00<?, ?it/s]"
      ]
     },
     "metadata": {},
     "output_type": "display_data"
    },
    {
     "name": "stdout",
     "output_type": "stream",
     "text": [
      "Epoch 11/150, training loss: 0.07856093698353973, validation loss: 0.28842082619667053\n",
      "\t     precision: 0.9150\n",
      "\t        recall: 0.9150\n",
      "\t            F1: 0.0000\n",
      "\t      accuracy: 0.9150\n"
     ]
    },
    {
     "data": {
      "application/vnd.jupyter.widget-view+json": {
       "model_id": "348a8d7d018d4c85987c70d55abb46bb",
       "version_major": 2,
       "version_minor": 0
      },
      "text/plain": [
       "Loss:   0%|          | 0/469 [00:00<?, ?it/s]"
      ]
     },
     "metadata": {},
     "output_type": "display_data"
    },
    {
     "name": "stdout",
     "output_type": "stream",
     "text": [
      "Epoch 12/150, training loss: 0.059693342783669036, validation loss: 0.2715892493724823\n",
      "\t     precision: 0.9232\n",
      "\t        recall: 0.9232\n",
      "\t            F1: 0.0000\n",
      "\t      accuracy: 0.9232\n"
     ]
    },
    {
     "data": {
      "application/vnd.jupyter.widget-view+json": {
       "model_id": "1c72935b40114e249a11d6235255adf8",
       "version_major": 2,
       "version_minor": 0
      },
      "text/plain": [
       "Loss:   0%|          | 0/469 [00:00<?, ?it/s]"
      ]
     },
     "metadata": {},
     "output_type": "display_data"
    },
    {
     "name": "stdout",
     "output_type": "stream",
     "text": [
      "Epoch 13/150, training loss: 0.052157718330812355, validation loss: 0.2984316945075989\n",
      "\t     precision: 0.9216\n",
      "\t        recall: 0.9216\n",
      "\t            F1: 0.0000\n",
      "\t      accuracy: 0.9216\n"
     ]
    },
    {
     "data": {
      "application/vnd.jupyter.widget-view+json": {
       "model_id": "6d8b411acbf94fb3a1d4ee9fb4b8a24c",
       "version_major": 2,
       "version_minor": 0
      },
      "text/plain": [
       "Loss:   0%|          | 0/469 [00:00<?, ?it/s]"
      ]
     },
     "metadata": {},
     "output_type": "display_data"
    },
    {
     "name": "stdout",
     "output_type": "stream",
     "text": [
      "Epoch 14/150, training loss: 0.04872616533605036, validation loss: 0.26773157715797424\n",
      "\t     precision: 0.9330\n",
      "\t        recall: 0.9330\n",
      "\t            F1: 0.0000\n",
      "\t      accuracy: 0.9330\n"
     ]
    },
    {
     "data": {
      "application/vnd.jupyter.widget-view+json": {
       "model_id": "b41b18913b414a68be0de19d203e3a37",
       "version_major": 2,
       "version_minor": 0
      },
      "text/plain": [
       "Loss:   0%|          | 0/469 [00:00<?, ?it/s]"
      ]
     },
     "metadata": {},
     "output_type": "display_data"
    },
    {
     "name": "stdout",
     "output_type": "stream",
     "text": [
      "Epoch 15/150, training loss: 0.04282135001347978, validation loss: 0.35116350650787354\n",
      "\t     precision: 0.9182\n",
      "\t        recall: 0.9182\n",
      "\t            F1: 0.0000\n",
      "\t      accuracy: 0.9182\n"
     ]
    },
    {
     "data": {
      "application/vnd.jupyter.widget-view+json": {
       "model_id": "9794f4dd1c944b8eb7e3095f9cf1d7f6",
       "version_major": 2,
       "version_minor": 0
      },
      "text/plain": [
       "Loss:   0%|          | 0/469 [00:00<?, ?it/s]"
      ]
     },
     "metadata": {},
     "output_type": "display_data"
    },
    {
     "name": "stdout",
     "output_type": "stream",
     "text": [
      "Epoch 16/150, training loss: 0.03657584588330334, validation loss: 0.3169282078742981\n",
      "\t     precision: 0.9258\n",
      "\t        recall: 0.9258\n",
      "\t            F1: 0.0000\n",
      "\t      accuracy: 0.9258\n"
     ]
    },
    {
     "data": {
      "application/vnd.jupyter.widget-view+json": {
       "model_id": "038fb14b63a341d2a664b2b3c4fc1c9a",
       "version_major": 2,
       "version_minor": 0
      },
      "text/plain": [
       "Loss:   0%|          | 0/469 [00:00<?, ?it/s]"
      ]
     },
     "metadata": {},
     "output_type": "display_data"
    },
    {
     "name": "stdout",
     "output_type": "stream",
     "text": [
      "Epoch 17/150, training loss: 0.034917446697301575, validation loss: 0.3459402024745941\n",
      "\t     precision: 0.9240\n",
      "\t        recall: 0.9240\n",
      "\t            F1: 0.0000\n",
      "\t      accuracy: 0.9240\n"
     ]
    },
    {
     "data": {
      "application/vnd.jupyter.widget-view+json": {
       "model_id": "927a0ce5c80d4060904f4f4eba5ff993",
       "version_major": 2,
       "version_minor": 0
      },
      "text/plain": [
       "Loss:   0%|          | 0/469 [00:00<?, ?it/s]"
      ]
     },
     "metadata": {},
     "output_type": "display_data"
    },
    {
     "name": "stdout",
     "output_type": "stream",
     "text": [
      "Epoch 18/150, training loss: 0.03719583443348119, validation loss: 0.3151993155479431\n",
      "\t     precision: 0.9263\n",
      "\t        recall: 0.9263\n",
      "\t            F1: 0.0000\n",
      "\t      accuracy: 0.9263\n"
     ]
    },
    {
     "data": {
      "application/vnd.jupyter.widget-view+json": {
       "model_id": "2c6a7f2ef30d4aea9b5278336f1abdcf",
       "version_major": 2,
       "version_minor": 0
      },
      "text/plain": [
       "Loss:   0%|          | 0/469 [00:00<?, ?it/s]"
      ]
     },
     "metadata": {},
     "output_type": "display_data"
    },
    {
     "name": "stdout",
     "output_type": "stream",
     "text": [
      "Epoch 19/150, training loss: 0.026490308737172796, validation loss: 0.3281247913837433\n",
      "\t     precision: 0.9273\n",
      "\t        recall: 0.9273\n",
      "\t            F1: 0.0000\n",
      "\t      accuracy: 0.9273\n"
     ]
    },
    {
     "data": {
      "application/vnd.jupyter.widget-view+json": {
       "model_id": "7417c6350f9f425caf97bf753b3290a6",
       "version_major": 2,
       "version_minor": 0
      },
      "text/plain": [
       "Loss:   0%|          | 0/469 [00:00<?, ?it/s]"
      ]
     },
     "metadata": {},
     "output_type": "display_data"
    },
    {
     "name": "stdout",
     "output_type": "stream",
     "text": [
      "Epoch 20/150, training loss: 0.026428915402377403, validation loss: 0.38401806354522705\n",
      "\t     precision: 0.9242\n",
      "\t        recall: 0.9242\n",
      "\t            F1: 0.0000\n",
      "\t      accuracy: 0.9242\n"
     ]
    },
    {
     "data": {
      "application/vnd.jupyter.widget-view+json": {
       "model_id": "1d58757a61de4ddda0ef021e0e2bfa5c",
       "version_major": 2,
       "version_minor": 0
      },
      "text/plain": [
       "Loss:   0%|          | 0/469 [00:00<?, ?it/s]"
      ]
     },
     "metadata": {},
     "output_type": "display_data"
    },
    {
     "name": "stdout",
     "output_type": "stream",
     "text": [
      "Epoch 21/150, training loss: 0.024200776373959586, validation loss: 0.37922602891921997\n",
      "\t     precision: 0.9166\n",
      "\t        recall: 0.9166\n",
      "\t            F1: 0.0000\n",
      "\t      accuracy: 0.9166\n"
     ]
    },
    {
     "data": {
      "application/vnd.jupyter.widget-view+json": {
       "model_id": "41efdc6b8c4e47418b53720dca1c2c0b",
       "version_major": 2,
       "version_minor": 0
      },
      "text/plain": [
       "Loss:   0%|          | 0/469 [00:00<?, ?it/s]"
      ]
     },
     "metadata": {},
     "output_type": "display_data"
    },
    {
     "name": "stdout",
     "output_type": "stream",
     "text": [
      "Epoch 22/150, training loss: 0.020003123888755834, validation loss: 0.3922041356563568\n",
      "\t     precision: 0.9204\n",
      "\t        recall: 0.9204\n",
      "\t            F1: 0.0000\n",
      "\t      accuracy: 0.9204\n"
     ]
    },
    {
     "data": {
      "application/vnd.jupyter.widget-view+json": {
       "model_id": "e74eb9659b7b4fd98de6ddf13b655cb6",
       "version_major": 2,
       "version_minor": 0
      },
      "text/plain": [
       "Loss:   0%|          | 0/469 [00:00<?, ?it/s]"
      ]
     },
     "metadata": {},
     "output_type": "display_data"
    },
    {
     "name": "stdout",
     "output_type": "stream",
     "text": [
      "Epoch 23/150, training loss: 0.028584224627544876, validation loss: 0.3848216235637665\n",
      "\t     precision: 0.9221\n",
      "\t        recall: 0.9221\n",
      "\t            F1: 0.0000\n",
      "\t      accuracy: 0.9221\n"
     ]
    },
    {
     "data": {
      "application/vnd.jupyter.widget-view+json": {
       "model_id": "4d949ec5a0ea474da43c1ef7628c688e",
       "version_major": 2,
       "version_minor": 0
      },
      "text/plain": [
       "Loss:   0%|          | 0/469 [00:00<?, ?it/s]"
      ]
     },
     "metadata": {},
     "output_type": "display_data"
    },
    {
     "name": "stdout",
     "output_type": "stream",
     "text": [
      "Epoch 24/150, training loss: 0.022380992826292797, validation loss: 0.3495780825614929\n",
      "\t     precision: 0.9335\n",
      "\t        recall: 0.9335\n",
      "\t            F1: 0.0000\n",
      "\t      accuracy: 0.9335\n"
     ]
    },
    {
     "data": {
      "application/vnd.jupyter.widget-view+json": {
       "model_id": "76455a46fd0c4988a6eccf3a4a7b02ab",
       "version_major": 2,
       "version_minor": 0
      },
      "text/plain": [
       "Loss:   0%|          | 0/469 [00:00<?, ?it/s]"
      ]
     },
     "metadata": {},
     "output_type": "display_data"
    },
    {
     "name": "stdout",
     "output_type": "stream",
     "text": [
      "Epoch 25/150, training loss: 0.014616640679513924, validation loss: 0.4106483459472656\n",
      "\t     precision: 0.9223\n",
      "\t        recall: 0.9223\n",
      "\t            F1: 0.0000\n",
      "\t      accuracy: 0.9223\n"
     ]
    },
    {
     "data": {
      "application/vnd.jupyter.widget-view+json": {
       "model_id": "baddcf967a174a69a367fd009704cade",
       "version_major": 2,
       "version_minor": 0
      },
      "text/plain": [
       "Loss:   0%|          | 0/469 [00:00<?, ?it/s]"
      ]
     },
     "metadata": {},
     "output_type": "display_data"
    },
    {
     "name": "stdout",
     "output_type": "stream",
     "text": [
      "Epoch 26/150, training loss: 0.027458545623167453, validation loss: 0.3435186743736267\n",
      "\t     precision: 0.9323\n",
      "\t        recall: 0.9323\n",
      "\t            F1: 0.0000\n",
      "\t      accuracy: 0.9323\n"
     ]
    },
    {
     "data": {
      "application/vnd.jupyter.widget-view+json": {
       "model_id": "305f69c179374fe1a2c610fe6fa29c26",
       "version_major": 2,
       "version_minor": 0
      },
      "text/plain": [
       "Loss:   0%|          | 0/469 [00:00<?, ?it/s]"
      ]
     },
     "metadata": {},
     "output_type": "display_data"
    },
    {
     "name": "stdout",
     "output_type": "stream",
     "text": [
      "Epoch 27/150, training loss: 0.014869298877021762, validation loss: 0.36213353276252747\n",
      "\t     precision: 0.9353\n",
      "\t        recall: 0.9353\n",
      "\t            F1: 0.0000\n",
      "\t      accuracy: 0.9353\n"
     ]
    },
    {
     "data": {
      "application/vnd.jupyter.widget-view+json": {
       "model_id": "461c70f29ba74084b009a124c7ad5e28",
       "version_major": 2,
       "version_minor": 0
      },
      "text/plain": [
       "Loss:   0%|          | 0/469 [00:00<?, ?it/s]"
      ]
     },
     "metadata": {},
     "output_type": "display_data"
    },
    {
     "name": "stdout",
     "output_type": "stream",
     "text": [
      "Epoch 28/150, training loss: 0.01912381890543135, validation loss: 0.43966859579086304\n",
      "\t     precision: 0.9228\n",
      "\t        recall: 0.9228\n",
      "\t            F1: 0.0000\n",
      "\t      accuracy: 0.9228\n"
     ]
    },
    {
     "data": {
      "application/vnd.jupyter.widget-view+json": {
       "model_id": "a42d84a13c0f43abbf5329c955b93ffa",
       "version_major": 2,
       "version_minor": 0
      },
      "text/plain": [
       "Loss:   0%|          | 0/469 [00:00<?, ?it/s]"
      ]
     },
     "metadata": {},
     "output_type": "display_data"
    },
    {
     "name": "stdout",
     "output_type": "stream",
     "text": [
      "Epoch 29/150, training loss: 0.02006441263387899, validation loss: 0.41799530386924744\n",
      "\t     precision: 0.9248\n",
      "\t        recall: 0.9248\n",
      "\t            F1: 0.0000\n",
      "\t      accuracy: 0.9248\n"
     ]
    },
    {
     "data": {
      "application/vnd.jupyter.widget-view+json": {
       "model_id": "97fb929612c84f099080da29b5942ce6",
       "version_major": 2,
       "version_minor": 0
      },
      "text/plain": [
       "Loss:   0%|          | 0/469 [00:00<?, ?it/s]"
      ]
     },
     "metadata": {},
     "output_type": "display_data"
    },
    {
     "name": "stdout",
     "output_type": "stream",
     "text": [
      "Epoch 30/150, training loss: 0.009291662065846437, validation loss: 0.4059062898159027\n",
      "\t     precision: 0.9272\n",
      "\t        recall: 0.9272\n",
      "\t            F1: 0.0000\n",
      "\t      accuracy: 0.9272\n"
     ]
    },
    {
     "data": {
      "application/vnd.jupyter.widget-view+json": {
       "model_id": "08720611ff0444cba557713882aa1313",
       "version_major": 2,
       "version_minor": 0
      },
      "text/plain": [
       "Loss:   0%|          | 0/469 [00:00<?, ?it/s]"
      ]
     },
     "metadata": {},
     "output_type": "display_data"
    },
    {
     "name": "stdout",
     "output_type": "stream",
     "text": [
      "Epoch 31/150, training loss: 0.018030471471318258, validation loss: 0.4016881287097931\n",
      "\t     precision: 0.9258\n",
      "\t        recall: 0.9258\n",
      "\t            F1: 0.0000\n",
      "\t      accuracy: 0.9258\n"
     ]
    },
    {
     "data": {
      "application/vnd.jupyter.widget-view+json": {
       "model_id": "4b32dbeb37f84b438f19de82e64ddbe1",
       "version_major": 2,
       "version_minor": 0
      },
      "text/plain": [
       "Loss:   0%|          | 0/469 [00:00<?, ?it/s]"
      ]
     },
     "metadata": {},
     "output_type": "display_data"
    },
    {
     "name": "stdout",
     "output_type": "stream",
     "text": [
      "Epoch 32/150, training loss: 0.016363815580757692, validation loss: 0.4296009838581085\n",
      "\t     precision: 0.9202\n",
      "\t        recall: 0.9202\n",
      "\t            F1: 0.0000\n",
      "\t      accuracy: 0.9202\n"
     ]
    },
    {
     "data": {
      "application/vnd.jupyter.widget-view+json": {
       "model_id": "f0853be7f1d44832bb5c848fae8bae75",
       "version_major": 2,
       "version_minor": 0
      },
      "text/plain": [
       "Loss:   0%|          | 0/469 [00:00<?, ?it/s]"
      ]
     },
     "metadata": {},
     "output_type": "display_data"
    },
    {
     "name": "stdout",
     "output_type": "stream",
     "text": [
      "Epoch 33/150, training loss: 0.01928238205598426, validation loss: 0.3838426172733307\n",
      "\t     precision: 0.9304\n",
      "\t        recall: 0.9304\n",
      "\t            F1: 0.0000\n",
      "\t      accuracy: 0.9304\n"
     ]
    },
    {
     "data": {
      "application/vnd.jupyter.widget-view+json": {
       "model_id": "a0b9ee33e3ae46658be2edea9b248b83",
       "version_major": 2,
       "version_minor": 0
      },
      "text/plain": [
       "Loss:   0%|          | 0/469 [00:00<?, ?it/s]"
      ]
     },
     "metadata": {},
     "output_type": "display_data"
    },
    {
     "name": "stdout",
     "output_type": "stream",
     "text": [
      "Epoch 34/150, training loss: 0.012286056414448734, validation loss: 0.37861189246177673\n",
      "\t     precision: 0.9300\n",
      "\t        recall: 0.9300\n",
      "\t            F1: 0.0000\n",
      "\t      accuracy: 0.9300\n"
     ]
    },
    {
     "data": {
      "application/vnd.jupyter.widget-view+json": {
       "model_id": "4a5c327a700f4487b766aa08ad66ba8c",
       "version_major": 2,
       "version_minor": 0
      },
      "text/plain": [
       "Loss:   0%|          | 0/469 [00:00<?, ?it/s]"
      ]
     },
     "metadata": {},
     "output_type": "display_data"
    },
    {
     "name": "stdout",
     "output_type": "stream",
     "text": [
      "Epoch 35/150, training loss: 0.015605594587029774, validation loss: 0.40475982427597046\n",
      "\t     precision: 0.9305\n",
      "\t        recall: 0.9305\n",
      "\t            F1: 0.0000\n",
      "\t      accuracy: 0.9305\n"
     ]
    },
    {
     "data": {
      "application/vnd.jupyter.widget-view+json": {
       "model_id": "be39c6b044444897931cce585e2a9dcb",
       "version_major": 2,
       "version_minor": 0
      },
      "text/plain": [
       "Loss:   0%|          | 0/469 [00:00<?, ?it/s]"
      ]
     },
     "metadata": {},
     "output_type": "display_data"
    },
    {
     "name": "stdout",
     "output_type": "stream",
     "text": [
      "Epoch 36/150, training loss: 0.012096319727474642, validation loss: 0.4086267948150635\n",
      "\t     precision: 0.9296\n",
      "\t        recall: 0.9296\n",
      "\t            F1: 0.0000\n",
      "\t      accuracy: 0.9296\n"
     ]
    },
    {
     "data": {
      "application/vnd.jupyter.widget-view+json": {
       "model_id": "4fcfb72d058745e3aca55a2ff2f373f8",
       "version_major": 2,
       "version_minor": 0
      },
      "text/plain": [
       "Loss:   0%|          | 0/469 [00:00<?, ?it/s]"
      ]
     },
     "metadata": {},
     "output_type": "display_data"
    },
    {
     "name": "stdout",
     "output_type": "stream",
     "text": [
      "Epoch 37/150, training loss: 0.015128393868461742, validation loss: 0.4310753345489502\n",
      "\t     precision: 0.9260\n",
      "\t        recall: 0.9260\n",
      "\t            F1: 0.0000\n",
      "\t      accuracy: 0.9260\n"
     ]
    },
    {
     "data": {
      "application/vnd.jupyter.widget-view+json": {
       "model_id": "b3b0135556f64563be5aa2e4ee4e2c18",
       "version_major": 2,
       "version_minor": 0
      },
      "text/plain": [
       "Loss:   0%|          | 0/469 [00:00<?, ?it/s]"
      ]
     },
     "metadata": {},
     "output_type": "display_data"
    },
    {
     "name": "stdout",
     "output_type": "stream",
     "text": [
      "Epoch 38/150, training loss: 0.00984165648029852, validation loss: 0.45006605982780457\n",
      "\t     precision: 0.9243\n",
      "\t        recall: 0.9243\n",
      "\t            F1: 0.0000\n",
      "\t      accuracy: 0.9243\n"
     ]
    },
    {
     "data": {
      "application/vnd.jupyter.widget-view+json": {
       "model_id": "ff1d07e36ffa4def9114370fc6957c61",
       "version_major": 2,
       "version_minor": 0
      },
      "text/plain": [
       "Loss:   0%|          | 0/469 [00:00<?, ?it/s]"
      ]
     },
     "metadata": {},
     "output_type": "display_data"
    },
    {
     "name": "stdout",
     "output_type": "stream",
     "text": [
      "Epoch 39/150, training loss: 0.011452832480727844, validation loss: 0.4279809892177582\n",
      "\t     precision: 0.9291\n",
      "\t        recall: 0.9291\n",
      "\t            F1: 0.0000\n",
      "\t      accuracy: 0.9291\n"
     ]
    },
    {
     "data": {
      "application/vnd.jupyter.widget-view+json": {
       "model_id": "7edbc88b43334b5fa00d9d95b9b6b8ee",
       "version_major": 2,
       "version_minor": 0
      },
      "text/plain": [
       "Loss:   0%|          | 0/469 [00:00<?, ?it/s]"
      ]
     },
     "metadata": {},
     "output_type": "display_data"
    },
    {
     "name": "stdout",
     "output_type": "stream",
     "text": [
      "Epoch 40/150, training loss: 0.011169312426746925, validation loss: 0.48162615299224854\n",
      "\t     precision: 0.9201\n",
      "\t        recall: 0.9201\n",
      "\t            F1: 0.0000\n",
      "\t      accuracy: 0.9201\n"
     ]
    },
    {
     "data": {
      "application/vnd.jupyter.widget-view+json": {
       "model_id": "f58722ce66e54812b706e24da6679c29",
       "version_major": 2,
       "version_minor": 0
      },
      "text/plain": [
       "Loss:   0%|          | 0/469 [00:00<?, ?it/s]"
      ]
     },
     "metadata": {},
     "output_type": "display_data"
    },
    {
     "name": "stdout",
     "output_type": "stream",
     "text": [
      "Epoch 41/150, training loss: 0.01250384307895186, validation loss: 0.4731251299381256\n",
      "\t     precision: 0.9215\n",
      "\t        recall: 0.9215\n",
      "\t            F1: 0.0000\n",
      "\t      accuracy: 0.9215\n"
     ]
    },
    {
     "data": {
      "application/vnd.jupyter.widget-view+json": {
       "model_id": "bb5497fc5a5b4acba6e02dd8ac4905ed",
       "version_major": 2,
       "version_minor": 0
      },
      "text/plain": [
       "Loss:   0%|          | 0/469 [00:00<?, ?it/s]"
      ]
     },
     "metadata": {},
     "output_type": "display_data"
    },
    {
     "name": "stdout",
     "output_type": "stream",
     "text": [
      "Epoch 42/150, training loss: 0.012392320905643822, validation loss: 0.4289112985134125\n",
      "\t     precision: 0.9253\n",
      "\t        recall: 0.9253\n",
      "\t            F1: 0.0000\n",
      "\t      accuracy: 0.9253\n"
     ]
    },
    {
     "data": {
      "application/vnd.jupyter.widget-view+json": {
       "model_id": "6a794227cc7444489e8bd33692aec8db",
       "version_major": 2,
       "version_minor": 0
      },
      "text/plain": [
       "Loss:   0%|          | 0/469 [00:00<?, ?it/s]"
      ]
     },
     "metadata": {},
     "output_type": "display_data"
    },
    {
     "name": "stdout",
     "output_type": "stream",
     "text": [
      "Epoch 43/150, training loss: 0.009591584756097228, validation loss: 0.4248558282852173\n",
      "\t     precision: 0.9257\n",
      "\t        recall: 0.9257\n",
      "\t            F1: 0.0000\n",
      "\t      accuracy: 0.9257\n"
     ]
    },
    {
     "data": {
      "application/vnd.jupyter.widget-view+json": {
       "model_id": "051cd05753f8452e94003a977ec524fa",
       "version_major": 2,
       "version_minor": 0
      },
      "text/plain": [
       "Loss:   0%|          | 0/469 [00:00<?, ?it/s]"
      ]
     },
     "metadata": {},
     "output_type": "display_data"
    },
    {
     "name": "stdout",
     "output_type": "stream",
     "text": [
      "Epoch 44/150, training loss: 0.010277427614143925, validation loss: 0.4422774612903595\n",
      "\t     precision: 0.9302\n",
      "\t        recall: 0.9302\n",
      "\t            F1: 0.0000\n",
      "\t      accuracy: 0.9302\n"
     ]
    },
    {
     "data": {
      "application/vnd.jupyter.widget-view+json": {
       "model_id": "30fd60e9107345309080ab007ad28c2d",
       "version_major": 2,
       "version_minor": 0
      },
      "text/plain": [
       "Loss:   0%|          | 0/469 [00:00<?, ?it/s]"
      ]
     },
     "metadata": {},
     "output_type": "display_data"
    },
    {
     "name": "stdout",
     "output_type": "stream",
     "text": [
      "Epoch 45/150, training loss: 0.011018520214505292, validation loss: 0.4353356659412384\n",
      "\t     precision: 0.9292\n",
      "\t        recall: 0.9292\n",
      "\t            F1: 0.0000\n",
      "\t      accuracy: 0.9292\n"
     ]
    },
    {
     "data": {
      "application/vnd.jupyter.widget-view+json": {
       "model_id": "fdbe2b8b363c4431863228a791c4a023",
       "version_major": 2,
       "version_minor": 0
      },
      "text/plain": [
       "Loss:   0%|          | 0/469 [00:00<?, ?it/s]"
      ]
     },
     "metadata": {},
     "output_type": "display_data"
    },
    {
     "name": "stdout",
     "output_type": "stream",
     "text": [
      "Epoch 46/150, training loss: 0.007468828856536793, validation loss: 0.42958590388298035\n",
      "\t     precision: 0.9291\n",
      "\t        recall: 0.9291\n",
      "\t            F1: 0.0000\n",
      "\t      accuracy: 0.9291\n"
     ]
    },
    {
     "data": {
      "application/vnd.jupyter.widget-view+json": {
       "model_id": "5144ef38b5694df69ad8f2a704ae979d",
       "version_major": 2,
       "version_minor": 0
      },
      "text/plain": [
       "Loss:   0%|          | 0/469 [00:00<?, ?it/s]"
      ]
     },
     "metadata": {},
     "output_type": "display_data"
    },
    {
     "name": "stdout",
     "output_type": "stream",
     "text": [
      "Epoch 47/150, training loss: 0.008989400600436823, validation loss: 0.41034647822380066\n",
      "\t     precision: 0.9301\n",
      "\t        recall: 0.9301\n",
      "\t            F1: 0.0000\n",
      "\t      accuracy: 0.9301\n"
     ]
    },
    {
     "data": {
      "application/vnd.jupyter.widget-view+json": {
       "model_id": "9f0f02ff33a64ac986abd28874648347",
       "version_major": 2,
       "version_minor": 0
      },
      "text/plain": [
       "Loss:   0%|          | 0/469 [00:00<?, ?it/s]"
      ]
     },
     "metadata": {},
     "output_type": "display_data"
    },
    {
     "name": "stdout",
     "output_type": "stream",
     "text": [
      "Epoch 48/150, training loss: 0.012400765979583044, validation loss: 0.439252108335495\n",
      "\t     precision: 0.9293\n",
      "\t        recall: 0.9293\n",
      "\t            F1: 0.0000\n",
      "\t      accuracy: 0.9293\n"
     ]
    },
    {
     "data": {
      "application/vnd.jupyter.widget-view+json": {
       "model_id": "df46f12dd7b2496c8d7455530f69c2ff",
       "version_major": 2,
       "version_minor": 0
      },
      "text/plain": [
       "Loss:   0%|          | 0/469 [00:00<?, ?it/s]"
      ]
     },
     "metadata": {},
     "output_type": "display_data"
    },
    {
     "name": "stdout",
     "output_type": "stream",
     "text": [
      "Epoch 49/150, training loss: 0.007510479550857009, validation loss: 0.4141555726528168\n",
      "\t     precision: 0.9319\n",
      "\t        recall: 0.9319\n",
      "\t            F1: 0.0000\n",
      "\t      accuracy: 0.9319\n"
     ]
    },
    {
     "data": {
      "application/vnd.jupyter.widget-view+json": {
       "model_id": "9d90567d1b1a4a6db049eea6bda37b7b",
       "version_major": 2,
       "version_minor": 0
      },
      "text/plain": [
       "Loss:   0%|          | 0/469 [00:00<?, ?it/s]"
      ]
     },
     "metadata": {},
     "output_type": "display_data"
    },
    {
     "name": "stdout",
     "output_type": "stream",
     "text": [
      "Epoch 50/150, training loss: 0.010659262482692314, validation loss: 0.4650478661060333\n",
      "\t     precision: 0.9191\n",
      "\t        recall: 0.9191\n",
      "\t            F1: 0.0000\n",
      "\t      accuracy: 0.9191\n"
     ]
    },
    {
     "data": {
      "application/vnd.jupyter.widget-view+json": {
       "model_id": "7260112828b64676a6b71226156058c2",
       "version_major": 2,
       "version_minor": 0
      },
      "text/plain": [
       "Loss:   0%|          | 0/469 [00:00<?, ?it/s]"
      ]
     },
     "metadata": {},
     "output_type": "display_data"
    },
    {
     "name": "stdout",
     "output_type": "stream",
     "text": [
      "Epoch 51/150, training loss: 0.009183384116947167, validation loss: 0.3810846209526062\n",
      "\t     precision: 0.9351\n",
      "\t        recall: 0.9351\n",
      "\t            F1: 0.0000\n",
      "\t      accuracy: 0.9351\n"
     ]
    },
    {
     "data": {
      "application/vnd.jupyter.widget-view+json": {
       "model_id": "b6d27e409caf446bb5402b8a3c6f81ad",
       "version_major": 2,
       "version_minor": 0
      },
      "text/plain": [
       "Loss:   0%|          | 0/469 [00:00<?, ?it/s]"
      ]
     },
     "metadata": {},
     "output_type": "display_data"
    },
    {
     "name": "stdout",
     "output_type": "stream",
     "text": [
      "Epoch 52/150, training loss: 0.0052427130988249694, validation loss: 0.49413996934890747\n",
      "\t     precision: 0.9221\n",
      "\t        recall: 0.9221\n",
      "\t            F1: 0.0000\n",
      "\t      accuracy: 0.9221\n"
     ]
    },
    {
     "data": {
      "application/vnd.jupyter.widget-view+json": {
       "model_id": "91baef752173410abb4e29e446a35347",
       "version_major": 2,
       "version_minor": 0
      },
      "text/plain": [
       "Loss:   0%|          | 0/469 [00:00<?, ?it/s]"
      ]
     },
     "metadata": {},
     "output_type": "display_data"
    },
    {
     "name": "stdout",
     "output_type": "stream",
     "text": [
      "Epoch 53/150, training loss: 0.009124764816757551, validation loss: 0.48980554938316345\n",
      "\t     precision: 0.9246\n",
      "\t        recall: 0.9246\n",
      "\t            F1: 0.0000\n",
      "\t      accuracy: 0.9246\n"
     ]
    },
    {
     "data": {
      "application/vnd.jupyter.widget-view+json": {
       "model_id": "16e0d77da0864f3ba0181737a4a36f38",
       "version_major": 2,
       "version_minor": 0
      },
      "text/plain": [
       "Loss:   0%|          | 0/469 [00:00<?, ?it/s]"
      ]
     },
     "metadata": {},
     "output_type": "display_data"
    },
    {
     "name": "stdout",
     "output_type": "stream",
     "text": [
      "Epoch 54/150, training loss: 0.011195523050242736, validation loss: 0.43570801615715027\n",
      "\t     precision: 0.9314\n",
      "\t        recall: 0.9314\n",
      "\t            F1: 0.0000\n",
      "\t      accuracy: 0.9314\n"
     ]
    },
    {
     "data": {
      "application/vnd.jupyter.widget-view+json": {
       "model_id": "8274edf8be224e85bc88237a0b3f6940",
       "version_major": 2,
       "version_minor": 0
      },
      "text/plain": [
       "Loss:   0%|          | 0/469 [00:00<?, ?it/s]"
      ]
     },
     "metadata": {},
     "output_type": "display_data"
    },
    {
     "name": "stdout",
     "output_type": "stream",
     "text": [
      "Epoch 55/150, training loss: 0.007153990636949153, validation loss: 0.5835070013999939\n",
      "\t     precision: 0.9091\n",
      "\t        recall: 0.9091\n",
      "\t            F1: 0.0000\n",
      "\t      accuracy: 0.9091\n"
     ]
    },
    {
     "data": {
      "application/vnd.jupyter.widget-view+json": {
       "model_id": "c16417a4ca11494fb43abbce33c8d2d7",
       "version_major": 2,
       "version_minor": 0
      },
      "text/plain": [
       "Loss:   0%|          | 0/469 [00:00<?, ?it/s]"
      ]
     },
     "metadata": {},
     "output_type": "display_data"
    },
    {
     "name": "stdout",
     "output_type": "stream",
     "text": [
      "Epoch 56/150, training loss: 0.007527964799368834, validation loss: 0.4242125153541565\n",
      "\t     precision: 0.9330\n",
      "\t        recall: 0.9330\n",
      "\t            F1: 0.0000\n",
      "\t      accuracy: 0.9330\n"
     ]
    },
    {
     "data": {
      "application/vnd.jupyter.widget-view+json": {
       "model_id": "e7cc55d5ff90456896540a1e63c646d6",
       "version_major": 2,
       "version_minor": 0
      },
      "text/plain": [
       "Loss:   0%|          | 0/469 [00:00<?, ?it/s]"
      ]
     },
     "metadata": {},
     "output_type": "display_data"
    },
    {
     "name": "stdout",
     "output_type": "stream",
     "text": [
      "Epoch 57/150, training loss: 0.003616059016489039, validation loss: 0.520085334777832\n",
      "\t     precision: 0.9277\n",
      "\t        recall: 0.9277\n",
      "\t            F1: 0.0000\n",
      "\t      accuracy: 0.9277\n"
     ]
    },
    {
     "data": {
      "application/vnd.jupyter.widget-view+json": {
       "model_id": "df86a3fc667b455fa5618a68f4eadf99",
       "version_major": 2,
       "version_minor": 0
      },
      "text/plain": [
       "Loss:   0%|          | 0/469 [00:00<?, ?it/s]"
      ]
     },
     "metadata": {},
     "output_type": "display_data"
    },
    {
     "name": "stdout",
     "output_type": "stream",
     "text": [
      "Epoch 58/150, training loss: 0.014147538175848724, validation loss: 0.4235714375972748\n",
      "\t     precision: 0.9295\n",
      "\t        recall: 0.9295\n",
      "\t            F1: 0.0000\n",
      "\t      accuracy: 0.9295\n"
     ]
    },
    {
     "data": {
      "application/vnd.jupyter.widget-view+json": {
       "model_id": "f76e2406e1bb431f81980f9cde743d5f",
       "version_major": 2,
       "version_minor": 0
      },
      "text/plain": [
       "Loss:   0%|          | 0/469 [00:00<?, ?it/s]"
      ]
     },
     "metadata": {},
     "output_type": "display_data"
    },
    {
     "name": "stdout",
     "output_type": "stream",
     "text": [
      "Epoch 59/150, training loss: 0.004444062398687471, validation loss: 0.4446788728237152\n",
      "\t     precision: 0.9307\n",
      "\t        recall: 0.9307\n",
      "\t            F1: 0.0000\n",
      "\t      accuracy: 0.9307\n"
     ]
    },
    {
     "data": {
      "application/vnd.jupyter.widget-view+json": {
       "model_id": "f621a7e156bb4c48a2ab3864265fd448",
       "version_major": 2,
       "version_minor": 0
      },
      "text/plain": [
       "Loss:   0%|          | 0/469 [00:00<?, ?it/s]"
      ]
     },
     "metadata": {},
     "output_type": "display_data"
    },
    {
     "name": "stdout",
     "output_type": "stream",
     "text": [
      "Epoch 60/150, training loss: 0.0073040005555317766, validation loss: 0.5344234704971313\n",
      "\t     precision: 0.9193\n",
      "\t        recall: 0.9193\n",
      "\t            F1: 0.0000\n",
      "\t      accuracy: 0.9193\n"
     ]
    },
    {
     "data": {
      "application/vnd.jupyter.widget-view+json": {
       "model_id": "e29b6522ae294e11929d351a6d5d1780",
       "version_major": 2,
       "version_minor": 0
      },
      "text/plain": [
       "Loss:   0%|          | 0/469 [00:00<?, ?it/s]"
      ]
     },
     "metadata": {},
     "output_type": "display_data"
    },
    {
     "name": "stdout",
     "output_type": "stream",
     "text": [
      "Epoch 61/150, training loss: 0.007445624937113988, validation loss: 0.4985865354537964\n",
      "\t     precision: 0.9315\n",
      "\t        recall: 0.9315\n",
      "\t            F1: 0.0000\n",
      "\t      accuracy: 0.9315\n"
     ]
    },
    {
     "data": {
      "application/vnd.jupyter.widget-view+json": {
       "model_id": "cf0d5f241a4640d0ba0bb28e0ea00bfa",
       "version_major": 2,
       "version_minor": 0
      },
      "text/plain": [
       "Loss:   0%|          | 0/469 [00:00<?, ?it/s]"
      ]
     },
     "metadata": {},
     "output_type": "display_data"
    },
    {
     "name": "stdout",
     "output_type": "stream",
     "text": [
      "Epoch 62/150, training loss: 0.0037046217269384066, validation loss: 0.4893343150615692\n",
      "\t     precision: 0.9286\n",
      "\t        recall: 0.9286\n",
      "\t            F1: 0.0000\n",
      "\t      accuracy: 0.9286\n"
     ]
    },
    {
     "data": {
      "application/vnd.jupyter.widget-view+json": {
       "model_id": "1eb46b1409e14bb0b677ce0eb6fa9bda",
       "version_major": 2,
       "version_minor": 0
      },
      "text/plain": [
       "Loss:   0%|          | 0/469 [00:00<?, ?it/s]"
      ]
     },
     "metadata": {},
     "output_type": "display_data"
    },
    {
     "name": "stdout",
     "output_type": "stream",
     "text": [
      "Epoch 63/150, training loss: 0.011215827259957126, validation loss: 0.42673546075820923\n",
      "\t     precision: 0.9358\n",
      "\t        recall: 0.9358\n",
      "\t            F1: 0.0000\n",
      "\t      accuracy: 0.9358\n"
     ]
    },
    {
     "data": {
      "application/vnd.jupyter.widget-view+json": {
       "model_id": "055c3eec17c24daf84c6ac3fa1a32438",
       "version_major": 2,
       "version_minor": 0
      },
      "text/plain": [
       "Loss:   0%|          | 0/469 [00:00<?, ?it/s]"
      ]
     },
     "metadata": {},
     "output_type": "display_data"
    },
    {
     "name": "stdout",
     "output_type": "stream",
     "text": [
      "Epoch 64/150, training loss: 0.0033481700203165095, validation loss: 0.4483688175678253\n",
      "\t     precision: 0.9343\n",
      "\t        recall: 0.9343\n",
      "\t            F1: 0.0000\n",
      "\t      accuracy: 0.9343\n"
     ]
    },
    {
     "data": {
      "application/vnd.jupyter.widget-view+json": {
       "model_id": "3adbf20be894498c9c2f28c16a0c3cc6",
       "version_major": 2,
       "version_minor": 0
      },
      "text/plain": [
       "Loss:   0%|          | 0/469 [00:00<?, ?it/s]"
      ]
     },
     "metadata": {},
     "output_type": "display_data"
    },
    {
     "name": "stdout",
     "output_type": "stream",
     "text": [
      "Epoch 65/150, training loss: 0.010028434471257527, validation loss: 0.438093364238739\n",
      "\t     precision: 0.9305\n",
      "\t        recall: 0.9305\n",
      "\t            F1: 0.0000\n",
      "\t      accuracy: 0.9305\n"
     ]
    },
    {
     "data": {
      "application/vnd.jupyter.widget-view+json": {
       "model_id": "9ccd5b86e2db4487b609ae54c5608bdf",
       "version_major": 2,
       "version_minor": 0
      },
      "text/plain": [
       "Loss:   0%|          | 0/469 [00:00<?, ?it/s]"
      ]
     },
     "metadata": {},
     "output_type": "display_data"
    },
    {
     "name": "stdout",
     "output_type": "stream",
     "text": [
      "Epoch 66/150, training loss: 0.007002195021949306, validation loss: 0.4457624554634094\n",
      "\t     precision: 0.9289\n",
      "\t        recall: 0.9289\n",
      "\t            F1: 0.0000\n",
      "\t      accuracy: 0.9289\n"
     ]
    },
    {
     "data": {
      "application/vnd.jupyter.widget-view+json": {
       "model_id": "ebcd93bfc52a4afa94d51604b7254990",
       "version_major": 2,
       "version_minor": 0
      },
      "text/plain": [
       "Loss:   0%|          | 0/469 [00:00<?, ?it/s]"
      ]
     },
     "metadata": {},
     "output_type": "display_data"
    },
    {
     "name": "stdout",
     "output_type": "stream",
     "text": [
      "Epoch 67/150, training loss: 0.005356450244540138, validation loss: 0.44722068309783936\n",
      "\t     precision: 0.9293\n",
      "\t        recall: 0.9293\n",
      "\t            F1: 0.0000\n",
      "\t      accuracy: 0.9293\n"
     ]
    },
    {
     "data": {
      "application/vnd.jupyter.widget-view+json": {
       "model_id": "dd23edda4ec24580afca4098b7938bca",
       "version_major": 2,
       "version_minor": 0
      },
      "text/plain": [
       "Loss:   0%|          | 0/469 [00:00<?, ?it/s]"
      ]
     },
     "metadata": {},
     "output_type": "display_data"
    },
    {
     "name": "stdout",
     "output_type": "stream",
     "text": [
      "Epoch 68/150, training loss: 0.004028579558392389, validation loss: 0.48144981265068054\n",
      "\t     precision: 0.9305\n",
      "\t        recall: 0.9305\n",
      "\t            F1: 0.0000\n",
      "\t      accuracy: 0.9305\n"
     ]
    },
    {
     "data": {
      "application/vnd.jupyter.widget-view+json": {
       "model_id": "12914bf7c9004e6eba57bd0bc6c9d67b",
       "version_major": 2,
       "version_minor": 0
      },
      "text/plain": [
       "Loss:   0%|          | 0/469 [00:00<?, ?it/s]"
      ]
     },
     "metadata": {},
     "output_type": "display_data"
    },
    {
     "name": "stdout",
     "output_type": "stream",
     "text": [
      "Epoch 69/150, training loss: 0.008111798087028797, validation loss: 0.43470528721809387\n",
      "\t     precision: 0.9341\n",
      "\t        recall: 0.9341\n",
      "\t            F1: 0.0000\n",
      "\t      accuracy: 0.9341\n"
     ]
    },
    {
     "data": {
      "application/vnd.jupyter.widget-view+json": {
       "model_id": "55c074b46fce44c2b3cbbfa9b656d5b2",
       "version_major": 2,
       "version_minor": 0
      },
      "text/plain": [
       "Loss:   0%|          | 0/469 [00:00<?, ?it/s]"
      ]
     },
     "metadata": {},
     "output_type": "display_data"
    },
    {
     "name": "stdout",
     "output_type": "stream",
     "text": [
      "Epoch 70/150, training loss: 0.0030412426846670956, validation loss: 0.4439360201358795\n",
      "\t     precision: 0.9356\n",
      "\t        recall: 0.9356\n",
      "\t            F1: 0.0000\n",
      "\t      accuracy: 0.9356\n"
     ]
    },
    {
     "data": {
      "application/vnd.jupyter.widget-view+json": {
       "model_id": "ad893f173e43420d993e980a1f7ce38d",
       "version_major": 2,
       "version_minor": 0
      },
      "text/plain": [
       "Loss:   0%|          | 0/469 [00:00<?, ?it/s]"
      ]
     },
     "metadata": {},
     "output_type": "display_data"
    },
    {
     "name": "stdout",
     "output_type": "stream",
     "text": [
      "Epoch 71/150, training loss: 0.010236397320866513, validation loss: 0.4477940797805786\n",
      "\t     precision: 0.9277\n",
      "\t        recall: 0.9277\n",
      "\t            F1: 0.0000\n",
      "\t      accuracy: 0.9277\n"
     ]
    },
    {
     "data": {
      "application/vnd.jupyter.widget-view+json": {
       "model_id": "34ef374a6077491ebeeaabd111cc93ee",
       "version_major": 2,
       "version_minor": 0
      },
      "text/plain": [
       "Loss:   0%|          | 0/469 [00:00<?, ?it/s]"
      ]
     },
     "metadata": {},
     "output_type": "display_data"
    },
    {
     "name": "stdout",
     "output_type": "stream",
     "text": [
      "Epoch 72/150, training loss: 0.006650467875749485, validation loss: 0.45789971947669983\n",
      "\t     precision: 0.9318\n",
      "\t        recall: 0.9318\n",
      "\t            F1: 0.0000\n",
      "\t      accuracy: 0.9318\n"
     ]
    },
    {
     "data": {
      "application/vnd.jupyter.widget-view+json": {
       "model_id": "4afe461b41834af1bcca4f27e751ed44",
       "version_major": 2,
       "version_minor": 0
      },
      "text/plain": [
       "Loss:   0%|          | 0/469 [00:00<?, ?it/s]"
      ]
     },
     "metadata": {},
     "output_type": "display_data"
    },
    {
     "name": "stdout",
     "output_type": "stream",
     "text": [
      "Epoch 73/150, training loss: 0.0028809565191914017, validation loss: 0.5301542282104492\n",
      "\t     precision: 0.9280\n",
      "\t        recall: 0.9280\n",
      "\t            F1: 0.0000\n",
      "\t      accuracy: 0.9280\n"
     ]
    },
    {
     "data": {
      "application/vnd.jupyter.widget-view+json": {
       "model_id": "fed339664e484d2595c3df8a902652b2",
       "version_major": 2,
       "version_minor": 0
      },
      "text/plain": [
       "Loss:   0%|          | 0/469 [00:00<?, ?it/s]"
      ]
     },
     "metadata": {},
     "output_type": "display_data"
    },
    {
     "name": "stdout",
     "output_type": "stream",
     "text": [
      "Epoch 74/150, training loss: 0.005463023731079914, validation loss: 0.5495824217796326\n",
      "\t     precision: 0.9186\n",
      "\t        recall: 0.9186\n",
      "\t            F1: 0.0000\n",
      "\t      accuracy: 0.9186\n"
     ]
    },
    {
     "data": {
      "application/vnd.jupyter.widget-view+json": {
       "model_id": "d51b95f332154646ab78d5d1dfe4b8e4",
       "version_major": 2,
       "version_minor": 0
      },
      "text/plain": [
       "Loss:   0%|          | 0/469 [00:00<?, ?it/s]"
      ]
     },
     "metadata": {},
     "output_type": "display_data"
    },
    {
     "name": "stdout",
     "output_type": "stream",
     "text": [
      "Epoch 75/150, training loss: 0.00709404703000159, validation loss: 0.4597667455673218\n",
      "\t     precision: 0.9339\n",
      "\t        recall: 0.9339\n",
      "\t            F1: 0.0000\n",
      "\t      accuracy: 0.9339\n"
     ]
    },
    {
     "data": {
      "application/vnd.jupyter.widget-view+json": {
       "model_id": "ee1c7fe17c4040cb947716116bd5de8e",
       "version_major": 2,
       "version_minor": 0
      },
      "text/plain": [
       "Loss:   0%|          | 0/469 [00:00<?, ?it/s]"
      ]
     },
     "metadata": {},
     "output_type": "display_data"
    },
    {
     "name": "stdout",
     "output_type": "stream",
     "text": [
      "Epoch 76/150, training loss: 0.0031713867856630958, validation loss: 0.48289263248443604\n",
      "\t     precision: 0.9312\n",
      "\t        recall: 0.9312\n",
      "\t            F1: 0.0000\n",
      "\t      accuracy: 0.9312\n"
     ]
    },
    {
     "data": {
      "application/vnd.jupyter.widget-view+json": {
       "model_id": "a20a7029011d4aadadf7d8937ec7b697",
       "version_major": 2,
       "version_minor": 0
      },
      "text/plain": [
       "Loss:   0%|          | 0/469 [00:00<?, ?it/s]"
      ]
     },
     "metadata": {},
     "output_type": "display_data"
    },
    {
     "name": "stdout",
     "output_type": "stream",
     "text": [
      "Epoch 77/150, training loss: 0.005486143014749609, validation loss: 0.45729562640190125\n",
      "\t     precision: 0.9315\n",
      "\t        recall: 0.9315\n",
      "\t            F1: 0.0000\n",
      "\t      accuracy: 0.9315\n"
     ]
    },
    {
     "data": {
      "application/vnd.jupyter.widget-view+json": {
       "model_id": "a3cd1e8e0c63480e9e0353ee4ae0b8f6",
       "version_major": 2,
       "version_minor": 0
      },
      "text/plain": [
       "Loss:   0%|          | 0/469 [00:00<?, ?it/s]"
      ]
     },
     "metadata": {},
     "output_type": "display_data"
    },
    {
     "name": "stdout",
     "output_type": "stream",
     "text": [
      "Epoch 78/150, training loss: 0.006258939587960044, validation loss: 0.4616309106349945\n",
      "\t     precision: 0.9324\n",
      "\t        recall: 0.9324\n",
      "\t            F1: 0.0000\n",
      "\t      accuracy: 0.9324\n"
     ]
    },
    {
     "data": {
      "application/vnd.jupyter.widget-view+json": {
       "model_id": "521039147a3d40f59695e572a82b2961",
       "version_major": 2,
       "version_minor": 0
      },
      "text/plain": [
       "Loss:   0%|          | 0/469 [00:00<?, ?it/s]"
      ]
     },
     "metadata": {},
     "output_type": "display_data"
    },
    {
     "name": "stdout",
     "output_type": "stream",
     "text": [
      "Epoch 79/150, training loss: 0.008515908001597646, validation loss: 0.4461154341697693\n",
      "\t     precision: 0.9300\n",
      "\t        recall: 0.9300\n",
      "\t            F1: 0.0000\n",
      "\t      accuracy: 0.9300\n"
     ]
    },
    {
     "data": {
      "application/vnd.jupyter.widget-view+json": {
       "model_id": "fdfbd4c170b14ce88c614afffb466fca",
       "version_major": 2,
       "version_minor": 0
      },
      "text/plain": [
       "Loss:   0%|          | 0/469 [00:00<?, ?it/s]"
      ]
     },
     "metadata": {},
     "output_type": "display_data"
    },
    {
     "name": "stdout",
     "output_type": "stream",
     "text": [
      "Epoch 80/150, training loss: 0.0027937975824056252, validation loss: 0.4768143892288208\n",
      "\t     precision: 0.9319\n",
      "\t        recall: 0.9319\n",
      "\t            F1: 0.0000\n",
      "\t      accuracy: 0.9319\n"
     ]
    },
    {
     "data": {
      "application/vnd.jupyter.widget-view+json": {
       "model_id": "d100a39c785842179dbe49f448986908",
       "version_major": 2,
       "version_minor": 0
      },
      "text/plain": [
       "Loss:   0%|          | 0/469 [00:00<?, ?it/s]"
      ]
     },
     "metadata": {},
     "output_type": "display_data"
    },
    {
     "name": "stdout",
     "output_type": "stream",
     "text": [
      "Epoch 81/150, training loss: 0.003314848570191805, validation loss: 0.5381299257278442\n",
      "\t     precision: 0.9265\n",
      "\t        recall: 0.9265\n",
      "\t            F1: 0.0000\n",
      "\t      accuracy: 0.9265\n"
     ]
    },
    {
     "data": {
      "application/vnd.jupyter.widget-view+json": {
       "model_id": "634e00b3b3f04f8da2825d8cbbdb5d72",
       "version_major": 2,
       "version_minor": 0
      },
      "text/plain": [
       "Loss:   0%|          | 0/469 [00:00<?, ?it/s]"
      ]
     },
     "metadata": {},
     "output_type": "display_data"
    },
    {
     "name": "stdout",
     "output_type": "stream",
     "text": [
      "Epoch 82/150, training loss: 0.007451810818652014, validation loss: 0.4521316885948181\n",
      "\t     precision: 0.9318\n",
      "\t        recall: 0.9318\n",
      "\t            F1: 0.0000\n",
      "\t      accuracy: 0.9318\n"
     ]
    },
    {
     "data": {
      "application/vnd.jupyter.widget-view+json": {
       "model_id": "ea74ce221d9841a8acfa5f65ac333802",
       "version_major": 2,
       "version_minor": 0
      },
      "text/plain": [
       "Loss:   0%|          | 0/469 [00:00<?, ?it/s]"
      ]
     },
     "metadata": {},
     "output_type": "display_data"
    },
    {
     "name": "stdout",
     "output_type": "stream",
     "text": [
      "Epoch 83/150, training loss: 0.004094486272123579, validation loss: 0.46169397234916687\n",
      "\t     precision: 0.9336\n",
      "\t        recall: 0.9336\n",
      "\t            F1: 0.0000\n",
      "\t      accuracy: 0.9336\n"
     ]
    },
    {
     "data": {
      "application/vnd.jupyter.widget-view+json": {
       "model_id": "00645e41ec1840eba449415a76aa5325",
       "version_major": 2,
       "version_minor": 0
      },
      "text/plain": [
       "Loss:   0%|          | 0/469 [00:00<?, ?it/s]"
      ]
     },
     "metadata": {},
     "output_type": "display_data"
    },
    {
     "name": "stdout",
     "output_type": "stream",
     "text": [
      "Epoch 84/150, training loss: 0.0027959965396150907, validation loss: 0.49546998739242554\n",
      "\t     precision: 0.9327\n",
      "\t        recall: 0.9327\n",
      "\t            F1: 0.0000\n",
      "\t      accuracy: 0.9327\n"
     ]
    },
    {
     "data": {
      "application/vnd.jupyter.widget-view+json": {
       "model_id": "70b57eaa3e0c4f6091c8745d440f5747",
       "version_major": 2,
       "version_minor": 0
      },
      "text/plain": [
       "Loss:   0%|          | 0/469 [00:00<?, ?it/s]"
      ]
     },
     "metadata": {},
     "output_type": "display_data"
    },
    {
     "name": "stdout",
     "output_type": "stream",
     "text": [
      "Epoch 85/150, training loss: 0.00535722083273569, validation loss: 0.49179279804229736\n",
      "\t     precision: 0.9299\n",
      "\t        recall: 0.9299\n",
      "\t            F1: 0.0000\n",
      "\t      accuracy: 0.9299\n"
     ]
    },
    {
     "data": {
      "application/vnd.jupyter.widget-view+json": {
       "model_id": "d81a251ec27c4c81bc2441b9884338c4",
       "version_major": 2,
       "version_minor": 0
      },
      "text/plain": [
       "Loss:   0%|          | 0/469 [00:00<?, ?it/s]"
      ]
     },
     "metadata": {},
     "output_type": "display_data"
    },
    {
     "name": "stdout",
     "output_type": "stream",
     "text": [
      "Epoch 86/150, training loss: 0.00546192655714227, validation loss: 0.5076163411140442\n",
      "\t     precision: 0.9303\n",
      "\t        recall: 0.9303\n",
      "\t            F1: 0.0000\n",
      "\t      accuracy: 0.9303\n"
     ]
    },
    {
     "data": {
      "application/vnd.jupyter.widget-view+json": {
       "model_id": "b7d5c10a794640cb9a09009fcca801ae",
       "version_major": 2,
       "version_minor": 0
      },
      "text/plain": [
       "Loss:   0%|          | 0/469 [00:00<?, ?it/s]"
      ]
     },
     "metadata": {},
     "output_type": "display_data"
    },
    {
     "name": "stdout",
     "output_type": "stream",
     "text": [
      "Epoch 87/150, training loss: 0.002163669150933802, validation loss: 0.5427847504615784\n",
      "\t     precision: 0.9285\n",
      "\t        recall: 0.9285\n",
      "\t            F1: 0.0000\n",
      "\t      accuracy: 0.9285\n"
     ]
    },
    {
     "data": {
      "application/vnd.jupyter.widget-view+json": {
       "model_id": "1916baf5c128467197a0b136eebfd72d",
       "version_major": 2,
       "version_minor": 0
      },
      "text/plain": [
       "Loss:   0%|          | 0/469 [00:00<?, ?it/s]"
      ]
     },
     "metadata": {},
     "output_type": "display_data"
    },
    {
     "name": "stdout",
     "output_type": "stream",
     "text": [
      "Epoch 88/150, training loss: 0.0063140164629435095, validation loss: 0.4520373046398163\n",
      "\t     precision: 0.9357\n",
      "\t        recall: 0.9357\n",
      "\t            F1: 0.0000\n",
      "\t      accuracy: 0.9357\n"
     ]
    },
    {
     "data": {
      "application/vnd.jupyter.widget-view+json": {
       "model_id": "5971cd7fcd574189a36101c7ad7e1022",
       "version_major": 2,
       "version_minor": 0
      },
      "text/plain": [
       "Loss:   0%|          | 0/469 [00:00<?, ?it/s]"
      ]
     },
     "metadata": {},
     "output_type": "display_data"
    },
    {
     "name": "stdout",
     "output_type": "stream",
     "text": [
      "Epoch 89/150, training loss: 0.006898910103859489, validation loss: 0.4696275293827057\n",
      "\t     precision: 0.9309\n",
      "\t        recall: 0.9309\n",
      "\t            F1: 0.0000\n",
      "\t      accuracy: 0.9309\n"
     ]
    },
    {
     "data": {
      "application/vnd.jupyter.widget-view+json": {
       "model_id": "b40b09a608234344a13fa78b89164fa2",
       "version_major": 2,
       "version_minor": 0
      },
      "text/plain": [
       "Loss:   0%|          | 0/469 [00:00<?, ?it/s]"
      ]
     },
     "metadata": {},
     "output_type": "display_data"
    },
    {
     "name": "stdout",
     "output_type": "stream",
     "text": [
      "Epoch 90/150, training loss: 0.005434165316910754, validation loss: 0.4689931273460388\n",
      "\t     precision: 0.9322\n",
      "\t        recall: 0.9322\n",
      "\t            F1: 0.0000\n",
      "\t      accuracy: 0.9322\n"
     ]
    },
    {
     "data": {
      "application/vnd.jupyter.widget-view+json": {
       "model_id": "da3bcbbfab9443b8a41363928ff1cdb2",
       "version_major": 2,
       "version_minor": 0
      },
      "text/plain": [
       "Loss:   0%|          | 0/469 [00:00<?, ?it/s]"
      ]
     },
     "metadata": {},
     "output_type": "display_data"
    },
    {
     "name": "stdout",
     "output_type": "stream",
     "text": [
      "Epoch 91/150, training loss: 0.0025277351721162363, validation loss: 0.4424130916595459\n",
      "\t     precision: 0.9359\n",
      "\t        recall: 0.9359\n",
      "\t            F1: 0.0000\n",
      "\t      accuracy: 0.9359\n"
     ]
    },
    {
     "data": {
      "application/vnd.jupyter.widget-view+json": {
       "model_id": "1bc41a86218c4f9fb3d8da6aebb589c7",
       "version_major": 2,
       "version_minor": 0
      },
      "text/plain": [
       "Loss:   0%|          | 0/469 [00:00<?, ?it/s]"
      ]
     },
     "metadata": {},
     "output_type": "display_data"
    },
    {
     "name": "stdout",
     "output_type": "stream",
     "text": [
      "Epoch 92/150, training loss: 0.002072711550363044, validation loss: 0.5338454842567444\n",
      "\t     precision: 0.9299\n",
      "\t        recall: 0.9299\n",
      "\t            F1: 0.0000\n",
      "\t      accuracy: 0.9299\n"
     ]
    },
    {
     "data": {
      "application/vnd.jupyter.widget-view+json": {
       "model_id": "3d47adf3fab14c5cb3207d15e4d0c2c0",
       "version_major": 2,
       "version_minor": 0
      },
      "text/plain": [
       "Loss:   0%|          | 0/469 [00:00<?, ?it/s]"
      ]
     },
     "metadata": {},
     "output_type": "display_data"
    },
    {
     "name": "stdout",
     "output_type": "stream",
     "text": [
      "Epoch 93/150, training loss: 0.006729416322074386, validation loss: 0.49767830967903137\n",
      "\t     precision: 0.9287\n",
      "\t        recall: 0.9287\n",
      "\t            F1: 0.0000\n",
      "\t      accuracy: 0.9287\n"
     ]
    },
    {
     "data": {
      "application/vnd.jupyter.widget-view+json": {
       "model_id": "b2705b7773324843a7e32fba3a2114d6",
       "version_major": 2,
       "version_minor": 0
      },
      "text/plain": [
       "Loss:   0%|          | 0/469 [00:00<?, ?it/s]"
      ]
     },
     "metadata": {},
     "output_type": "display_data"
    },
    {
     "name": "stdout",
     "output_type": "stream",
     "text": [
      "Epoch 94/150, training loss: 0.004840607484440435, validation loss: 0.47510579228401184\n",
      "\t     precision: 0.9346\n",
      "\t        recall: 0.9346\n",
      "\t            F1: 0.0000\n",
      "\t      accuracy: 0.9346\n"
     ]
    },
    {
     "data": {
      "application/vnd.jupyter.widget-view+json": {
       "model_id": "643ab8cb17ea411eb850035e42112f0b",
       "version_major": 2,
       "version_minor": 0
      },
      "text/plain": [
       "Loss:   0%|          | 0/469 [00:00<?, ?it/s]"
      ]
     },
     "metadata": {},
     "output_type": "display_data"
    },
    {
     "name": "stdout",
     "output_type": "stream",
     "text": [
      "Epoch 95/150, training loss: 0.0019401067449254469, validation loss: 0.49969762563705444\n",
      "\t     precision: 0.9302\n",
      "\t        recall: 0.9302\n",
      "\t            F1: 0.0000\n",
      "\t      accuracy: 0.9302\n"
     ]
    },
    {
     "data": {
      "application/vnd.jupyter.widget-view+json": {
       "model_id": "800575040e494fbd897e1aee6a44ba0f",
       "version_major": 2,
       "version_minor": 0
      },
      "text/plain": [
       "Loss:   0%|          | 0/469 [00:00<?, ?it/s]"
      ]
     },
     "metadata": {},
     "output_type": "display_data"
    },
    {
     "name": "stdout",
     "output_type": "stream",
     "text": [
      "Epoch 96/150, training loss: 0.004060771607297179, validation loss: 0.49380436539649963\n",
      "\t     precision: 0.9303\n",
      "\t        recall: 0.9303\n",
      "\t            F1: 0.0000\n",
      "\t      accuracy: 0.9303\n"
     ]
    },
    {
     "data": {
      "application/vnd.jupyter.widget-view+json": {
       "model_id": "0b92456eb9694ffcb1f01945701bff6a",
       "version_major": 2,
       "version_minor": 0
      },
      "text/plain": [
       "Loss:   0%|          | 0/469 [00:00<?, ?it/s]"
      ]
     },
     "metadata": {},
     "output_type": "display_data"
    },
    {
     "name": "stdout",
     "output_type": "stream",
     "text": [
      "Epoch 97/150, training loss: 0.0050194546930006625, validation loss: 0.5249698758125305\n",
      "\t     precision: 0.9287\n",
      "\t        recall: 0.9287\n",
      "\t            F1: 0.0000\n",
      "\t      accuracy: 0.9287\n"
     ]
    },
    {
     "data": {
      "application/vnd.jupyter.widget-view+json": {
       "model_id": "14efac52f4d547b5befcad1d0458d9bc",
       "version_major": 2,
       "version_minor": 0
      },
      "text/plain": [
       "Loss:   0%|          | 0/469 [00:00<?, ?it/s]"
      ]
     },
     "metadata": {},
     "output_type": "display_data"
    },
    {
     "name": "stdout",
     "output_type": "stream",
     "text": [
      "Epoch 98/150, training loss: 0.005234407199571703, validation loss: 0.47000741958618164\n",
      "\t     precision: 0.9317\n",
      "\t        recall: 0.9317\n",
      "\t            F1: 0.0000\n",
      "\t      accuracy: 0.9317\n"
     ]
    },
    {
     "data": {
      "application/vnd.jupyter.widget-view+json": {
       "model_id": "4d7fa5ba86d94be1bb503a433b2d8e8e",
       "version_major": 2,
       "version_minor": 0
      },
      "text/plain": [
       "Loss:   0%|          | 0/469 [00:00<?, ?it/s]"
      ]
     },
     "metadata": {},
     "output_type": "display_data"
    },
    {
     "name": "stdout",
     "output_type": "stream",
     "text": [
      "Epoch 99/150, training loss: 0.003238470178751477, validation loss: 0.528768002986908\n",
      "\t     precision: 0.9272\n",
      "\t        recall: 0.9272\n",
      "\t            F1: 0.0000\n",
      "\t      accuracy: 0.9272\n"
     ]
    },
    {
     "data": {
      "application/vnd.jupyter.widget-view+json": {
       "model_id": "35502b88f50940c09a89c906bf6e7c9a",
       "version_major": 2,
       "version_minor": 0
      },
      "text/plain": [
       "Loss:   0%|          | 0/469 [00:00<?, ?it/s]"
      ]
     },
     "metadata": {},
     "output_type": "display_data"
    },
    {
     "name": "stdout",
     "output_type": "stream",
     "text": [
      "Epoch 100/150, training loss: 0.002999852533743996, validation loss: 0.5101628303527832\n",
      "\t     precision: 0.9313\n",
      "\t        recall: 0.9313\n",
      "\t            F1: 0.0000\n",
      "\t      accuracy: 0.9313\n"
     ]
    },
    {
     "data": {
      "application/vnd.jupyter.widget-view+json": {
       "model_id": "1c439b9f48a64ee7ae9779844e7e9867",
       "version_major": 2,
       "version_minor": 0
      },
      "text/plain": [
       "Loss:   0%|          | 0/469 [00:00<?, ?it/s]"
      ]
     },
     "metadata": {},
     "output_type": "display_data"
    },
    {
     "name": "stdout",
     "output_type": "stream",
     "text": [
      "Epoch 101/150, training loss: 0.0023456599381886448, validation loss: 0.5033289194107056\n",
      "\t     precision: 0.9298\n",
      "\t        recall: 0.9298\n",
      "\t            F1: 0.0000\n",
      "\t      accuracy: 0.9298\n"
     ]
    },
    {
     "data": {
      "application/vnd.jupyter.widget-view+json": {
       "model_id": "e88c162c36be44a7b5229d70db3ce56d",
       "version_major": 2,
       "version_minor": 0
      },
      "text/plain": [
       "Loss:   0%|          | 0/469 [00:00<?, ?it/s]"
      ]
     },
     "metadata": {},
     "output_type": "display_data"
    },
    {
     "name": "stdout",
     "output_type": "stream",
     "text": [
      "Epoch 102/150, training loss: 0.0070927115314313805, validation loss: 0.4956144094467163\n",
      "\t     precision: 0.9284\n",
      "\t        recall: 0.9284\n",
      "\t            F1: 0.0000\n",
      "\t      accuracy: 0.9284\n"
     ]
    },
    {
     "data": {
      "application/vnd.jupyter.widget-view+json": {
       "model_id": "34d540722fdc4b3788715f70bc0360f5",
       "version_major": 2,
       "version_minor": 0
      },
      "text/plain": [
       "Loss:   0%|          | 0/469 [00:00<?, ?it/s]"
      ]
     },
     "metadata": {},
     "output_type": "display_data"
    },
    {
     "name": "stdout",
     "output_type": "stream",
     "text": [
      "Epoch 103/150, training loss: 0.003904520775811447, validation loss: 0.4868665933609009\n",
      "\t     precision: 0.9299\n",
      "\t        recall: 0.9299\n",
      "\t            F1: 0.0000\n",
      "\t      accuracy: 0.9299\n"
     ]
    },
    {
     "data": {
      "application/vnd.jupyter.widget-view+json": {
       "model_id": "24eda0f0751f4d66a722940fcda7db0e",
       "version_major": 2,
       "version_minor": 0
      },
      "text/plain": [
       "Loss:   0%|          | 0/469 [00:00<?, ?it/s]"
      ]
     },
     "metadata": {},
     "output_type": "display_data"
    },
    {
     "name": "stdout",
     "output_type": "stream",
     "text": [
      "Epoch 104/150, training loss: 0.001995464140710091, validation loss: 0.4721446931362152\n",
      "\t     precision: 0.9354\n",
      "\t        recall: 0.9354\n",
      "\t            F1: 0.0000\n",
      "\t      accuracy: 0.9354\n"
     ]
    },
    {
     "data": {
      "application/vnd.jupyter.widget-view+json": {
       "model_id": "49ea2f844e914127a53b2881c6c821c0",
       "version_major": 2,
       "version_minor": 0
      },
      "text/plain": [
       "Loss:   0%|          | 0/469 [00:00<?, ?it/s]"
      ]
     },
     "metadata": {},
     "output_type": "display_data"
    },
    {
     "name": "stdout",
     "output_type": "stream",
     "text": [
      "Epoch 105/150, training loss: 0.0012731214229268135, validation loss: 0.4753677248954773\n",
      "\t     precision: 0.9376\n",
      "\t        recall: 0.9376\n",
      "\t            F1: 0.0000\n",
      "\t      accuracy: 0.9376\n"
     ]
    },
    {
     "data": {
      "application/vnd.jupyter.widget-view+json": {
       "model_id": "5164f2a88db24933a5cb0d481b988a4b",
       "version_major": 2,
       "version_minor": 0
      },
      "text/plain": [
       "Loss:   0%|          | 0/469 [00:00<?, ?it/s]"
      ]
     },
     "metadata": {},
     "output_type": "display_data"
    },
    {
     "name": "stdout",
     "output_type": "stream",
     "text": [
      "Epoch 106/150, training loss: 0.006488029165594625, validation loss: 0.5327711701393127\n",
      "\t     precision: 0.9252\n",
      "\t        recall: 0.9252\n",
      "\t            F1: 0.0000\n",
      "\t      accuracy: 0.9252\n"
     ]
    },
    {
     "data": {
      "application/vnd.jupyter.widget-view+json": {
       "model_id": "a482249254f84c808de2665f06da7d27",
       "version_major": 2,
       "version_minor": 0
      },
      "text/plain": [
       "Loss:   0%|          | 0/469 [00:00<?, ?it/s]"
      ]
     },
     "metadata": {},
     "output_type": "display_data"
    },
    {
     "name": "stdout",
     "output_type": "stream",
     "text": [
      "Epoch 107/150, training loss: 0.004478159183571615, validation loss: 0.47550806403160095\n",
      "\t     precision: 0.9329\n",
      "\t        recall: 0.9329\n",
      "\t            F1: 0.0000\n",
      "\t      accuracy: 0.9329\n"
     ]
    },
    {
     "data": {
      "application/vnd.jupyter.widget-view+json": {
       "model_id": "275f1032658d4b9eb9399d69d90984a0",
       "version_major": 2,
       "version_minor": 0
      },
      "text/plain": [
       "Loss:   0%|          | 0/469 [00:00<?, ?it/s]"
      ]
     },
     "metadata": {},
     "output_type": "display_data"
    },
    {
     "name": "stdout",
     "output_type": "stream",
     "text": [
      "Epoch 108/150, training loss: 0.0024770855569157843, validation loss: 0.4871506094932556\n",
      "\t     precision: 0.9317\n",
      "\t        recall: 0.9317\n",
      "\t            F1: 0.0000\n",
      "\t      accuracy: 0.9317\n"
     ]
    },
    {
     "data": {
      "application/vnd.jupyter.widget-view+json": {
       "model_id": "d0eebbb590c245a291945f55b9c5943e",
       "version_major": 2,
       "version_minor": 0
      },
      "text/plain": [
       "Loss:   0%|          | 0/469 [00:00<?, ?it/s]"
      ]
     },
     "metadata": {},
     "output_type": "display_data"
    },
    {
     "name": "stdout",
     "output_type": "stream",
     "text": [
      "Epoch 109/150, training loss: 0.004473391171158059, validation loss: 0.4694370925426483\n",
      "\t     precision: 0.9357\n",
      "\t        recall: 0.9357\n",
      "\t            F1: 0.0000\n",
      "\t      accuracy: 0.9357\n"
     ]
    },
    {
     "data": {
      "application/vnd.jupyter.widget-view+json": {
       "model_id": "dd219add42724519a06396e04e72fb21",
       "version_major": 2,
       "version_minor": 0
      },
      "text/plain": [
       "Loss:   0%|          | 0/469 [00:00<?, ?it/s]"
      ]
     },
     "metadata": {},
     "output_type": "display_data"
    },
    {
     "name": "stdout",
     "output_type": "stream",
     "text": [
      "Epoch 110/150, training loss: 0.001853864445266231, validation loss: 0.48392003774642944\n",
      "\t     precision: 0.9312\n",
      "\t        recall: 0.9312\n",
      "\t            F1: 0.0000\n",
      "\t      accuracy: 0.9312\n"
     ]
    },
    {
     "data": {
      "application/vnd.jupyter.widget-view+json": {
       "model_id": "5ad1b3e19cc8451f96114095a665ccea",
       "version_major": 2,
       "version_minor": 0
      },
      "text/plain": [
       "Loss:   0%|          | 0/469 [00:00<?, ?it/s]"
      ]
     },
     "metadata": {},
     "output_type": "display_data"
    },
    {
     "name": "stdout",
     "output_type": "stream",
     "text": [
      "Epoch 111/150, training loss: 0.003276020844462462, validation loss: 0.5245298147201538\n",
      "\t     precision: 0.9307\n",
      "\t        recall: 0.9307\n",
      "\t            F1: 0.0000\n",
      "\t      accuracy: 0.9307\n"
     ]
    },
    {
     "data": {
      "application/vnd.jupyter.widget-view+json": {
       "model_id": "f91709704bc645558d3cf0282b2a6b9d",
       "version_major": 2,
       "version_minor": 0
      },
      "text/plain": [
       "Loss:   0%|          | 0/469 [00:00<?, ?it/s]"
      ]
     },
     "metadata": {},
     "output_type": "display_data"
    },
    {
     "name": "stdout",
     "output_type": "stream",
     "text": [
      "Epoch 112/150, training loss: 0.00571551020471488, validation loss: 0.5072780251502991\n",
      "\t     precision: 0.9320\n",
      "\t        recall: 0.9320\n",
      "\t            F1: 0.0000\n",
      "\t      accuracy: 0.9320\n"
     ]
    },
    {
     "data": {
      "application/vnd.jupyter.widget-view+json": {
       "model_id": "520d8560a2394617b28585399535fe5a",
       "version_major": 2,
       "version_minor": 0
      },
      "text/plain": [
       "Loss:   0%|          | 0/469 [00:00<?, ?it/s]"
      ]
     },
     "metadata": {},
     "output_type": "display_data"
    },
    {
     "name": "stdout",
     "output_type": "stream",
     "text": [
      "Epoch 113/150, training loss: 0.0038443373889949515, validation loss: 0.4857141077518463\n",
      "\t     precision: 0.9334\n",
      "\t        recall: 0.9334\n",
      "\t            F1: 0.0000\n",
      "\t      accuracy: 0.9334\n"
     ]
    },
    {
     "data": {
      "application/vnd.jupyter.widget-view+json": {
       "model_id": "da91f6c66d3941eca19f7ad4c360f840",
       "version_major": 2,
       "version_minor": 0
      },
      "text/plain": [
       "Loss:   0%|          | 0/469 [00:00<?, ?it/s]"
      ]
     },
     "metadata": {},
     "output_type": "display_data"
    },
    {
     "name": "stdout",
     "output_type": "stream",
     "text": [
      "Epoch 114/150, training loss: 0.001454145626318439, validation loss: 0.49845799803733826\n",
      "\t     precision: 0.9318\n",
      "\t        recall: 0.9318\n",
      "\t            F1: 0.0000\n",
      "\t      accuracy: 0.9318\n"
     ]
    },
    {
     "data": {
      "application/vnd.jupyter.widget-view+json": {
       "model_id": "de5b2d69064749a38659910cb58166c0",
       "version_major": 2,
       "version_minor": 0
      },
      "text/plain": [
       "Loss:   0%|          | 0/469 [00:00<?, ?it/s]"
      ]
     },
     "metadata": {},
     "output_type": "display_data"
    },
    {
     "name": "stdout",
     "output_type": "stream",
     "text": [
      "Epoch 115/150, training loss: 0.0026393269931662315, validation loss: 0.49042168259620667\n",
      "\t     precision: 0.9348\n",
      "\t        recall: 0.9348\n",
      "\t            F1: 0.0000\n",
      "\t      accuracy: 0.9348\n"
     ]
    },
    {
     "data": {
      "application/vnd.jupyter.widget-view+json": {
       "model_id": "29642e6f9610429e93022ae5e1b8e819",
       "version_major": 2,
       "version_minor": 0
      },
      "text/plain": [
       "Loss:   0%|          | 0/469 [00:00<?, ?it/s]"
      ]
     },
     "metadata": {},
     "output_type": "display_data"
    },
    {
     "name": "stdout",
     "output_type": "stream",
     "text": [
      "Epoch 116/150, training loss: 0.005039651575905422, validation loss: 0.48325204849243164\n",
      "\t     precision: 0.9343\n",
      "\t        recall: 0.9343\n",
      "\t            F1: 0.0000\n",
      "\t      accuracy: 0.9343\n"
     ]
    },
    {
     "data": {
      "application/vnd.jupyter.widget-view+json": {
       "model_id": "14a41ef90b3440f5b9f5b966beeed201",
       "version_major": 2,
       "version_minor": 0
      },
      "text/plain": [
       "Loss:   0%|          | 0/469 [00:00<?, ?it/s]"
      ]
     },
     "metadata": {},
     "output_type": "display_data"
    },
    {
     "name": "stdout",
     "output_type": "stream",
     "text": [
      "Epoch 117/150, training loss: 0.003704394526297603, validation loss: 0.5971496105194092\n",
      "\t     precision: 0.9257\n",
      "\t        recall: 0.9257\n",
      "\t            F1: 0.0000\n",
      "\t      accuracy: 0.9257\n"
     ]
    },
    {
     "data": {
      "application/vnd.jupyter.widget-view+json": {
       "model_id": "071234e5e7944e15bf72d9a9a875ab3e",
       "version_major": 2,
       "version_minor": 0
      },
      "text/plain": [
       "Loss:   0%|          | 0/469 [00:00<?, ?it/s]"
      ]
     },
     "metadata": {},
     "output_type": "display_data"
    },
    {
     "name": "stdout",
     "output_type": "stream",
     "text": [
      "Epoch 118/150, training loss: 0.0024579684328345525, validation loss: 0.5273917317390442\n",
      "\t     precision: 0.9326\n",
      "\t        recall: 0.9326\n",
      "\t            F1: 0.0000\n",
      "\t      accuracy: 0.9326\n"
     ]
    },
    {
     "data": {
      "application/vnd.jupyter.widget-view+json": {
       "model_id": "5ac8969a4e214743a9052e5675a53261",
       "version_major": 2,
       "version_minor": 0
      },
      "text/plain": [
       "Loss:   0%|          | 0/469 [00:00<?, ?it/s]"
      ]
     },
     "metadata": {},
     "output_type": "display_data"
    },
    {
     "name": "stdout",
     "output_type": "stream",
     "text": [
      "Epoch 119/150, training loss: 0.005353099673957496, validation loss: 0.479952871799469\n",
      "\t     precision: 0.9328\n",
      "\t        recall: 0.9328\n",
      "\t            F1: 0.0000\n",
      "\t      accuracy: 0.9328\n"
     ]
    },
    {
     "data": {
      "application/vnd.jupyter.widget-view+json": {
       "model_id": "0ec78bbc568a443b99e3913bb89589d0",
       "version_major": 2,
       "version_minor": 0
      },
      "text/plain": [
       "Loss:   0%|          | 0/469 [00:00<?, ?it/s]"
      ]
     },
     "metadata": {},
     "output_type": "display_data"
    },
    {
     "name": "stdout",
     "output_type": "stream",
     "text": [
      "Epoch 120/150, training loss: 0.0027216895369354187, validation loss: 0.4597163200378418\n",
      "\t     precision: 0.9347\n",
      "\t        recall: 0.9347\n",
      "\t            F1: 0.0000\n",
      "\t      accuracy: 0.9347\n"
     ]
    },
    {
     "data": {
      "application/vnd.jupyter.widget-view+json": {
       "model_id": "13f18859c68c46aea38b8fb9dfcd0a97",
       "version_major": 2,
       "version_minor": 0
      },
      "text/plain": [
       "Loss:   0%|          | 0/469 [00:00<?, ?it/s]"
      ]
     },
     "metadata": {},
     "output_type": "display_data"
    },
    {
     "name": "stdout",
     "output_type": "stream",
     "text": [
      "Epoch 121/150, training loss: 0.00229874415764456, validation loss: 0.4951033294200897\n",
      "\t     precision: 0.9370\n",
      "\t        recall: 0.9370\n",
      "\t            F1: 0.0000\n",
      "\t      accuracy: 0.9370\n"
     ]
    },
    {
     "data": {
      "application/vnd.jupyter.widget-view+json": {
       "model_id": "bde34d91d09a46bebdd314ab1b083946",
       "version_major": 2,
       "version_minor": 0
      },
      "text/plain": [
       "Loss:   0%|          | 0/469 [00:00<?, ?it/s]"
      ]
     },
     "metadata": {},
     "output_type": "display_data"
    },
    {
     "name": "stdout",
     "output_type": "stream",
     "text": [
      "Epoch 122/150, training loss: 0.0022295991468445886, validation loss: 0.48371121287345886\n",
      "\t     precision: 0.9354\n",
      "\t        recall: 0.9354\n",
      "\t            F1: 0.0000\n",
      "\t      accuracy: 0.9354\n"
     ]
    },
    {
     "data": {
      "application/vnd.jupyter.widget-view+json": {
       "model_id": "21c5c7d7373549b18e7044e327bc16f9",
       "version_major": 2,
       "version_minor": 0
      },
      "text/plain": [
       "Loss:   0%|          | 0/469 [00:00<?, ?it/s]"
      ]
     },
     "metadata": {},
     "output_type": "display_data"
    },
    {
     "name": "stdout",
     "output_type": "stream",
     "text": [
      "Epoch 123/150, training loss: 0.002081348162213518, validation loss: 0.5483639240264893\n",
      "\t     precision: 0.9341\n",
      "\t        recall: 0.9341\n",
      "\t            F1: 0.0000\n",
      "\t      accuracy: 0.9341\n"
     ]
    },
    {
     "data": {
      "application/vnd.jupyter.widget-view+json": {
       "model_id": "0345898fefa04df98a0d79291eff9eb2",
       "version_major": 2,
       "version_minor": 0
      },
      "text/plain": [
       "Loss:   0%|          | 0/469 [00:00<?, ?it/s]"
      ]
     },
     "metadata": {},
     "output_type": "display_data"
    },
    {
     "name": "stdout",
     "output_type": "stream",
     "text": [
      "Epoch 124/150, training loss: 0.0065022394358121, validation loss: 0.4717467725276947\n",
      "\t     precision: 0.9325\n",
      "\t        recall: 0.9325\n",
      "\t            F1: 0.0000\n",
      "\t      accuracy: 0.9325\n"
     ]
    },
    {
     "data": {
      "application/vnd.jupyter.widget-view+json": {
       "model_id": "efce44f26a4e44c481b39bc4b1cfb17c",
       "version_major": 2,
       "version_minor": 0
      },
      "text/plain": [
       "Loss:   0%|          | 0/469 [00:00<?, ?it/s]"
      ]
     },
     "metadata": {},
     "output_type": "display_data"
    },
    {
     "name": "stdout",
     "output_type": "stream",
     "text": [
      "Epoch 125/150, training loss: 0.0008780903328798308, validation loss: 0.47577938437461853\n",
      "\t     precision: 0.9360\n",
      "\t        recall: 0.9360\n",
      "\t            F1: 0.0000\n",
      "\t      accuracy: 0.9360\n"
     ]
    },
    {
     "data": {
      "application/vnd.jupyter.widget-view+json": {
       "model_id": "693bf01333df46a696e525d038478975",
       "version_major": 2,
       "version_minor": 0
      },
      "text/plain": [
       "Loss:   0%|          | 0/469 [00:00<?, ?it/s]"
      ]
     },
     "metadata": {},
     "output_type": "display_data"
    },
    {
     "name": "stdout",
     "output_type": "stream",
     "text": [
      "Epoch 126/150, training loss: 0.000567625588761043, validation loss: 0.5010768175125122\n",
      "\t     precision: 0.9360\n",
      "\t        recall: 0.9360\n",
      "\t            F1: 0.0000\n",
      "\t      accuracy: 0.9360\n"
     ]
    },
    {
     "data": {
      "application/vnd.jupyter.widget-view+json": {
       "model_id": "e394ba3194dd41ee82fc407f530ae113",
       "version_major": 2,
       "version_minor": 0
      },
      "text/plain": [
       "Loss:   0%|          | 0/469 [00:00<?, ?it/s]"
      ]
     },
     "metadata": {},
     "output_type": "display_data"
    },
    {
     "name": "stdout",
     "output_type": "stream",
     "text": [
      "Epoch 127/150, training loss: 0.0014717281603505794, validation loss: 0.607610285282135\n",
      "\t     precision: 0.9242\n",
      "\t        recall: 0.9242\n",
      "\t            F1: 0.0000\n",
      "\t      accuracy: 0.9242\n"
     ]
    },
    {
     "data": {
      "application/vnd.jupyter.widget-view+json": {
       "model_id": "6568393afbaf400091841dfc1e8e3dfa",
       "version_major": 2,
       "version_minor": 0
      },
      "text/plain": [
       "Loss:   0%|          | 0/469 [00:00<?, ?it/s]"
      ]
     },
     "metadata": {},
     "output_type": "display_data"
    },
    {
     "name": "stdout",
     "output_type": "stream",
     "text": [
      "Epoch 128/150, training loss: 0.008404891364411565, validation loss: 0.4766361117362976\n",
      "\t     precision: 0.9359\n",
      "\t        recall: 0.9359\n",
      "\t            F1: 0.0000\n",
      "\t      accuracy: 0.9359\n"
     ]
    },
    {
     "data": {
      "application/vnd.jupyter.widget-view+json": {
       "model_id": "72373e78f4ac445ca5005131c5e35c10",
       "version_major": 2,
       "version_minor": 0
      },
      "text/plain": [
       "Loss:   0%|          | 0/469 [00:00<?, ?it/s]"
      ]
     },
     "metadata": {},
     "output_type": "display_data"
    },
    {
     "name": "stdout",
     "output_type": "stream",
     "text": [
      "Epoch 129/150, training loss: 0.001861918969666961, validation loss: 0.5250462293624878\n",
      "\t     precision: 0.9306\n",
      "\t        recall: 0.9306\n",
      "\t            F1: 0.0000\n",
      "\t      accuracy: 0.9306\n"
     ]
    },
    {
     "data": {
      "application/vnd.jupyter.widget-view+json": {
       "model_id": "4eee546b022d4423ac6496a7af977b7a",
       "version_major": 2,
       "version_minor": 0
      },
      "text/plain": [
       "Loss:   0%|          | 0/469 [00:00<?, ?it/s]"
      ]
     },
     "metadata": {},
     "output_type": "display_data"
    },
    {
     "name": "stdout",
     "output_type": "stream",
     "text": [
      "Epoch 130/150, training loss: 0.0006721323047650643, validation loss: 0.4917629659175873\n",
      "\t     precision: 0.9369\n",
      "\t        recall: 0.9369\n",
      "\t            F1: 0.0000\n",
      "\t      accuracy: 0.9369\n"
     ]
    },
    {
     "data": {
      "application/vnd.jupyter.widget-view+json": {
       "model_id": "938c0a639dee4f319a2105b795cf9e4b",
       "version_major": 2,
       "version_minor": 0
      },
      "text/plain": [
       "Loss:   0%|          | 0/469 [00:00<?, ?it/s]"
      ]
     },
     "metadata": {},
     "output_type": "display_data"
    },
    {
     "name": "stdout",
     "output_type": "stream",
     "text": [
      "Epoch 131/150, training loss: 0.0005558207161011222, validation loss: 0.5293680429458618\n",
      "\t     precision: 0.9289\n",
      "\t        recall: 0.9289\n",
      "\t            F1: 0.0000\n",
      "\t      accuracy: 0.9289\n"
     ]
    },
    {
     "data": {
      "application/vnd.jupyter.widget-view+json": {
       "model_id": "0c59cca72b45447fabd1d2c991a26425",
       "version_major": 2,
       "version_minor": 0
      },
      "text/plain": [
       "Loss:   0%|          | 0/469 [00:00<?, ?it/s]"
      ]
     },
     "metadata": {},
     "output_type": "display_data"
    },
    {
     "name": "stdout",
     "output_type": "stream",
     "text": [
      "Epoch 132/150, training loss: 0.008867056622281308, validation loss: 0.45295634865760803\n",
      "\t     precision: 0.9341\n",
      "\t        recall: 0.9341\n",
      "\t            F1: 0.0000\n",
      "\t      accuracy: 0.9341\n"
     ]
    },
    {
     "data": {
      "application/vnd.jupyter.widget-view+json": {
       "model_id": "71a7e0c94374462cae20af8615c8baba",
       "version_major": 2,
       "version_minor": 0
      },
      "text/plain": [
       "Loss:   0%|          | 0/469 [00:00<?, ?it/s]"
      ]
     },
     "metadata": {},
     "output_type": "display_data"
    },
    {
     "name": "stdout",
     "output_type": "stream",
     "text": [
      "Epoch 133/150, training loss: 0.0008807649743965464, validation loss: 0.47881969809532166\n",
      "\t     precision: 0.9356\n",
      "\t        recall: 0.9356\n",
      "\t            F1: 0.0000\n",
      "\t      accuracy: 0.9356\n"
     ]
    },
    {
     "data": {
      "application/vnd.jupyter.widget-view+json": {
       "model_id": "7bad983308e74263bcc48655187ac0bd",
       "version_major": 2,
       "version_minor": 0
      },
      "text/plain": [
       "Loss:   0%|          | 0/469 [00:00<?, ?it/s]"
      ]
     },
     "metadata": {},
     "output_type": "display_data"
    },
    {
     "name": "stdout",
     "output_type": "stream",
     "text": [
      "Epoch 134/150, training loss: 0.0001115450797846912, validation loss: 0.48602715134620667\n",
      "\t     precision: 0.9368\n",
      "\t        recall: 0.9368\n",
      "\t            F1: 0.0000\n",
      "\t      accuracy: 0.9368\n"
     ]
    },
    {
     "data": {
      "application/vnd.jupyter.widget-view+json": {
       "model_id": "a19586cda9e049039e5389d5093710fb",
       "version_major": 2,
       "version_minor": 0
      },
      "text/plain": [
       "Loss:   0%|          | 0/469 [00:00<?, ?it/s]"
      ]
     },
     "metadata": {},
     "output_type": "display_data"
    },
    {
     "name": "stdout",
     "output_type": "stream",
     "text": [
      "Epoch 135/150, training loss: 2.760765534994285e-05, validation loss: 0.48639410734176636\n",
      "\t     precision: 0.9375\n",
      "\t        recall: 0.9375\n",
      "\t            F1: 0.0000\n",
      "\t      accuracy: 0.9375\n"
     ]
    },
    {
     "data": {
      "application/vnd.jupyter.widget-view+json": {
       "model_id": "8cb3f1ae1ea74d239c36ff9b1a352693",
       "version_major": 2,
       "version_minor": 0
      },
      "text/plain": [
       "Loss:   0%|          | 0/469 [00:00<?, ?it/s]"
      ]
     },
     "metadata": {},
     "output_type": "display_data"
    },
    {
     "name": "stdout",
     "output_type": "stream",
     "text": [
      "Epoch 136/150, training loss: 0.007696720685238942, validation loss: 0.549488365650177\n",
      "\t     precision: 0.9242\n",
      "\t        recall: 0.9242\n",
      "\t            F1: 0.0000\n",
      "\t      accuracy: 0.9242\n"
     ]
    },
    {
     "data": {
      "application/vnd.jupyter.widget-view+json": {
       "model_id": "1aca52dd5ad548c79ad4486ad0d6a6f6",
       "version_major": 2,
       "version_minor": 0
      },
      "text/plain": [
       "Loss:   0%|          | 0/469 [00:00<?, ?it/s]"
      ]
     },
     "metadata": {},
     "output_type": "display_data"
    },
    {
     "name": "stdout",
     "output_type": "stream",
     "text": [
      "Epoch 137/150, training loss: 0.004927841997232075, validation loss: 0.47032320499420166\n",
      "\t     precision: 0.9327\n",
      "\t        recall: 0.9327\n",
      "\t            F1: 0.0000\n",
      "\t      accuracy: 0.9327\n"
     ]
    },
    {
     "data": {
      "application/vnd.jupyter.widget-view+json": {
       "model_id": "c139018341aa4182b91d2fa5a6ae28af",
       "version_major": 2,
       "version_minor": 0
      },
      "text/plain": [
       "Loss:   0%|          | 0/469 [00:00<?, ?it/s]"
      ]
     },
     "metadata": {},
     "output_type": "display_data"
    },
    {
     "name": "stdout",
     "output_type": "stream",
     "text": [
      "Epoch 138/150, training loss: 0.0007709871617228635, validation loss: 0.4767375588417053\n",
      "\t     precision: 0.9365\n",
      "\t        recall: 0.9365\n",
      "\t            F1: 0.0000\n",
      "\t      accuracy: 0.9365\n"
     ]
    },
    {
     "data": {
      "application/vnd.jupyter.widget-view+json": {
       "model_id": "1be2377427e74c7e8efed336edbb1d3a",
       "version_major": 2,
       "version_minor": 0
      },
      "text/plain": [
       "Loss:   0%|          | 0/469 [00:00<?, ?it/s]"
      ]
     },
     "metadata": {},
     "output_type": "display_data"
    },
    {
     "name": "stdout",
     "output_type": "stream",
     "text": [
      "Epoch 139/150, training loss: 0.00014898444751129794, validation loss: 0.4728265106678009\n",
      "\t     precision: 0.9388\n",
      "\t        recall: 0.9388\n",
      "\t            F1: 0.0000\n",
      "\t      accuracy: 0.9388\n"
     ]
    },
    {
     "data": {
      "application/vnd.jupyter.widget-view+json": {
       "model_id": "b810764db8f843529d29a45a8ca64dc8",
       "version_major": 2,
       "version_minor": 0
      },
      "text/plain": [
       "Loss:   0%|          | 0/469 [00:00<?, ?it/s]"
      ]
     },
     "metadata": {},
     "output_type": "display_data"
    },
    {
     "name": "stdout",
     "output_type": "stream",
     "text": [
      "Epoch 140/150, training loss: 2.1228822188445735e-05, validation loss: 0.47585564851760864\n",
      "\t     precision: 0.9388\n",
      "\t        recall: 0.9388\n",
      "\t            F1: 0.0000\n",
      "\t      accuracy: 0.9388\n"
     ]
    },
    {
     "data": {
      "application/vnd.jupyter.widget-view+json": {
       "model_id": "459b6a05659643db998e67e11a77d6e9",
       "version_major": 2,
       "version_minor": 0
      },
      "text/plain": [
       "Loss:   0%|          | 0/469 [00:00<?, ?it/s]"
      ]
     },
     "metadata": {},
     "output_type": "display_data"
    },
    {
     "name": "stdout",
     "output_type": "stream",
     "text": [
      "Epoch 141/150, training loss: 1.8980749747869686e-05, validation loss: 0.4822157621383667\n",
      "\t     precision: 0.9386\n",
      "\t        recall: 0.9386\n",
      "\t            F1: 0.0000\n",
      "\t      accuracy: 0.9386\n"
     ]
    },
    {
     "data": {
      "application/vnd.jupyter.widget-view+json": {
       "model_id": "501db5548c124ee08238aa5a21b0cced",
       "version_major": 2,
       "version_minor": 0
      },
      "text/plain": [
       "Loss:   0%|          | 0/469 [00:00<?, ?it/s]"
      ]
     },
     "metadata": {},
     "output_type": "display_data"
    },
    {
     "name": "stdout",
     "output_type": "stream",
     "text": [
      "Epoch 142/150, training loss: 1.1350368440956846e-05, validation loss: 0.48334890604019165\n",
      "\t     precision: 0.9390\n",
      "\t        recall: 0.9390\n",
      "\t            F1: 0.0000\n",
      "\t      accuracy: 0.9390\n"
     ]
    },
    {
     "data": {
      "application/vnd.jupyter.widget-view+json": {
       "model_id": "73faeb5715e24bc5a513e5cc02873966",
       "version_major": 2,
       "version_minor": 0
      },
      "text/plain": [
       "Loss:   0%|          | 0/469 [00:00<?, ?it/s]"
      ]
     },
     "metadata": {},
     "output_type": "display_data"
    },
    {
     "name": "stdout",
     "output_type": "stream",
     "text": [
      "Epoch 143/150, training loss: 6.598427833855451e-06, validation loss: 0.49167442321777344\n",
      "\t     precision: 0.9390\n",
      "\t        recall: 0.9390\n",
      "\t            F1: 0.0000\n",
      "\t      accuracy: 0.9390\n"
     ]
    },
    {
     "data": {
      "application/vnd.jupyter.widget-view+json": {
       "model_id": "66d44e56a9144cd99731204a019f59c8",
       "version_major": 2,
       "version_minor": 0
      },
      "text/plain": [
       "Loss:   0%|          | 0/469 [00:00<?, ?it/s]"
      ]
     },
     "metadata": {},
     "output_type": "display_data"
    },
    {
     "name": "stdout",
     "output_type": "stream",
     "text": [
      "Epoch 144/150, training loss: 7.075517277604737e-06, validation loss: 0.4924045503139496\n",
      "\t     precision: 0.9379\n",
      "\t        recall: 0.9379\n",
      "\t            F1: 0.0000\n",
      "\t      accuracy: 0.9379\n"
     ]
    },
    {
     "data": {
      "application/vnd.jupyter.widget-view+json": {
       "model_id": "870bfa64e63d4e40bf35ca9772554cab",
       "version_major": 2,
       "version_minor": 0
      },
      "text/plain": [
       "Loss:   0%|          | 0/469 [00:00<?, ?it/s]"
      ]
     },
     "metadata": {},
     "output_type": "display_data"
    },
    {
     "name": "stdout",
     "output_type": "stream",
     "text": [
      "Epoch 145/150, training loss: 4.6003735191236586e-06, validation loss: 0.49895912408828735\n",
      "\t     precision: 0.9386\n",
      "\t        recall: 0.9386\n",
      "\t            F1: 0.0000\n",
      "\t      accuracy: 0.9386\n"
     ]
    },
    {
     "data": {
      "application/vnd.jupyter.widget-view+json": {
       "model_id": "db3d2d54071d41aab9952ae899215467",
       "version_major": 2,
       "version_minor": 0
      },
      "text/plain": [
       "Loss:   0%|          | 0/469 [00:00<?, ?it/s]"
      ]
     },
     "metadata": {},
     "output_type": "display_data"
    },
    {
     "name": "stdout",
     "output_type": "stream",
     "text": [
      "Epoch 146/150, training loss: 3.6046982156784547e-06, validation loss: 0.5019792318344116\n",
      "\t     precision: 0.9386\n",
      "\t        recall: 0.9386\n",
      "\t            F1: 0.0000\n",
      "\t      accuracy: 0.9386\n"
     ]
    },
    {
     "data": {
      "application/vnd.jupyter.widget-view+json": {
       "model_id": "74b44ad851db4506847022387f73039c",
       "version_major": 2,
       "version_minor": 0
      },
      "text/plain": [
       "Loss:   0%|          | 0/469 [00:00<?, ?it/s]"
      ]
     },
     "metadata": {},
     "output_type": "display_data"
    },
    {
     "name": "stdout",
     "output_type": "stream",
     "text": [
      "Epoch 147/150, training loss: 3.0081733630305494e-06, validation loss: 0.5099392533302307\n",
      "\t     precision: 0.9390\n",
      "\t        recall: 0.9390\n",
      "\t            F1: 0.0000\n",
      "\t      accuracy: 0.9390\n"
     ]
    },
    {
     "data": {
      "application/vnd.jupyter.widget-view+json": {
       "model_id": "3f6f654b491941ec9ebd8733045b8145",
       "version_major": 2,
       "version_minor": 0
      },
      "text/plain": [
       "Loss:   0%|          | 0/469 [00:00<?, ?it/s]"
      ]
     },
     "metadata": {},
     "output_type": "display_data"
    },
    {
     "name": "stdout",
     "output_type": "stream",
     "text": [
      "Epoch 148/150, training loss: 2.1736061105280384e-06, validation loss: 0.5154621005058289\n",
      "\t     precision: 0.9392\n",
      "\t        recall: 0.9392\n",
      "\t            F1: 0.0000\n",
      "\t      accuracy: 0.9392\n"
     ]
    },
    {
     "data": {
      "application/vnd.jupyter.widget-view+json": {
       "model_id": "8ba93940ef1d4127bbc759f43aef9bbc",
       "version_major": 2,
       "version_minor": 0
      },
      "text/plain": [
       "Loss:   0%|          | 0/469 [00:00<?, ?it/s]"
      ]
     },
     "metadata": {},
     "output_type": "display_data"
    },
    {
     "name": "stdout",
     "output_type": "stream",
     "text": [
      "Epoch 149/150, training loss: 2.055412382892796e-06, validation loss: 0.516761064529419\n",
      "\t     precision: 0.9390\n",
      "\t        recall: 0.9390\n",
      "\t            F1: 0.0000\n",
      "\t      accuracy: 0.9390\n"
     ]
    },
    {
     "data": {
      "application/vnd.jupyter.widget-view+json": {
       "model_id": "101ce055336c4f13b5b9c3b182be3fbb",
       "version_major": 2,
       "version_minor": 0
      },
      "text/plain": [
       "Loss:   0%|          | 0/469 [00:00<?, ?it/s]"
      ]
     },
     "metadata": {},
     "output_type": "display_data"
    },
    {
     "name": "stdout",
     "output_type": "stream",
     "text": [
      "Epoch 150/150, training loss: 1.4294751581495792e-06, validation loss: 0.5269955396652222\n",
      "\t     precision: 0.9384\n",
      "\t        recall: 0.9384\n",
      "\t            F1: 0.0000\n",
      "\t      accuracy: 0.9384\n",
      "Training time: 45331.55771803856s\n"
     ]
    }
   ],
   "source": [
    "# IF PRETRAINED  SKIP THIS SECTION\n",
    "\n",
    "# loop for every epoch (training + evaluation)\n",
    "for epoch in range(epochs):\n",
    "    total_loss = 0\n",
    "\n",
    "    # progress bar (works in Jupyter notebook too!)\n",
    "    progress = tqdm(enumerate(train_loader), desc=\"Loss: \", total=batches)\n",
    "\n",
    "    # ----------------- TRAINING  -------------------- \n",
    "    # set model to training\n",
    "    model.train()\n",
    "    \n",
    "    for i, data in progress:\n",
    "        X, y = data[0].to(device), data[1].to(device)\n",
    "        \n",
    "        # training step for single batch\n",
    "        model.zero_grad()\n",
    "        outputs = model(X)\n",
    "        loss = loss_function(outputs, y)\n",
    "        loss.backward()\n",
    "        optimizer.step()\n",
    "\n",
    "        # getting training quality data\n",
    "        current_loss = loss.item()\n",
    "        total_loss += current_loss\n",
    "\n",
    "        # updating progress bar\n",
    "        progress.set_description(\"Loss: {:.4f}\".format(total_loss/(i+1)))\n",
    "        \n",
    "    # releasing unceseccary memory in GPU\n",
    "    if torch.cuda.is_available():\n",
    "        torch.cuda.empty_cache()\n",
    "    \n",
    "    # ----------------- VALIDATION  ----------------- \n",
    "    val_losses = 0\n",
    "    precision, recall, f1, accuracy = [], [], [], []\n",
    "    \n",
    "    # set model to evaluating (testing)\n",
    "    model.eval()\n",
    "    with torch.no_grad():\n",
    "        for i, data in enumerate(val_loader):\n",
    "            X, y = data[0].to(device), data[1].to(device)\n",
    "\n",
    "            outputs = model(X) # this get's the prediction from the network\n",
    "\n",
    "            val_losses += loss_function(outputs, y)\n",
    "\n",
    "            predicted_classes = torch.max(outputs, 1)[1] # get class from network's prediction\n",
    "            \n",
    "            # calculate P/R/F1/A metrics for batch\n",
    "            for acc, metric in zip((precision, recall, accuracy), \n",
    "                                   (precision_score, recall_score, accuracy_score)):\n",
    "                acc.append(\n",
    "                    calculate_metric(metric, y.cpu(), predicted_classes.cpu())\n",
    "                )\n",
    "          \n",
    "    print(f\"Epoch {epoch+1}/{epochs}, training loss: {total_loss/batches}, validation loss: {val_losses/val_batches}\")\n",
    "    print_scores(precision, recall, f1, accuracy, val_batches)\n",
    "    losses.append(total_loss/batches) # for plotting learning curve\n",
    "print(f\"Training time: {time.time()-start_ts}s\")\n",
    "\n",
    "            \n"
   ]
  },
  {
   "cell_type": "code",
   "execution_count": 9,
   "metadata": {
    "colab": {
     "base_uri": "https://localhost:8080/"
    },
    "executionInfo": {
     "elapsed": 1318,
     "status": "ok",
     "timestamp": 1633410548032,
     "user": {
      "displayName": "Ashraf Haddad",
      "photoUrl": "https://lh3.googleusercontent.com/a-/AOh14Gh_860lEjtF96d2NSUEmAqlYL7dhh3Uz8VnjUivUQ=s64",
      "userId": "13931689762732430725"
     },
     "user_tz": -240
    },
    "id": "l2zaqbB4JnEi",
    "outputId": "3fdb3439-522e-4432-8f98-670e047b91ad"
   },
   "outputs": [
    {
     "data": {
      "text/plain": [
       "<All keys matched successfully>"
      ]
     },
     "execution_count": 9,
     "metadata": {},
     "output_type": "execute_result"
    }
   ],
   "source": [
    "torch.save(model.state_dict(), \"./FashionMnist150\")    \n",
    "model = MnistResNet()\n",
    "model_state_dict = torch.load(\"./FashionMnist150\")\n",
    "model.load_state_dict(model_state_dict)"
   ]
  }
 ],
 "metadata": {
  "accelerator": "GPU",
  "colab": {
   "collapsed_sections": [],
   "name": "STDintroduction.ipynb",
   "provenance": []
  },
  "kernelspec": {
   "display_name": "Python 3 (ipykernel)",
   "language": "python",
   "name": "python3"
  },
  "language_info": {
   "codemirror_mode": {
    "name": "ipython",
    "version": 3
   },
   "file_extension": ".py",
   "mimetype": "text/x-python",
   "name": "python",
   "nbconvert_exporter": "python",
   "pygments_lexer": "ipython3",
   "version": "3.7.11"
  },
  "widgets": {
   "application/vnd.jupyter.widget-state+json": {
    "00f28e6fa51d47beb2c0214f7cfcd18e": {
     "model_module": "@jupyter-widgets/controls",
     "model_module_version": "1.5.0",
     "model_name": "HBoxModel",
     "state": {
      "_dom_classes": [],
      "_model_module": "@jupyter-widgets/controls",
      "_model_module_version": "1.5.0",
      "_model_name": "HBoxModel",
      "_view_count": null,
      "_view_module": "@jupyter-widgets/controls",
      "_view_module_version": "1.5.0",
      "_view_name": "HBoxView",
      "box_style": "",
      "children": [
       "IPY_MODEL_cb443bc99d3343da97358e51cb067635",
       "IPY_MODEL_2c09fb80eac84910ad5056bbfc08daca",
       "IPY_MODEL_bf6175b1b53e42ef916ad68973d012d8"
      ],
      "layout": "IPY_MODEL_e6f3bd80225d4b3bba8018c2cabbcc7e"
     }
    },
    "06814eb6c14f4f88b487527661fce89e": {
     "model_module": "@jupyter-widgets/controls",
     "model_module_version": "1.5.0",
     "model_name": "DescriptionStyleModel",
     "state": {
      "_model_module": "@jupyter-widgets/controls",
      "_model_module_version": "1.5.0",
      "_model_name": "DescriptionStyleModel",
      "_view_count": null,
      "_view_module": "@jupyter-widgets/base",
      "_view_module_version": "1.2.0",
      "_view_name": "StyleView",
      "description_width": ""
     }
    },
    "0862bdc3d6f544db8a28ca14e0fbb76d": {
     "model_module": "@jupyter-widgets/base",
     "model_module_version": "1.2.0",
     "model_name": "LayoutModel",
     "state": {
      "_model_module": "@jupyter-widgets/base",
      "_model_module_version": "1.2.0",
      "_model_name": "LayoutModel",
      "_view_count": null,
      "_view_module": "@jupyter-widgets/base",
      "_view_module_version": "1.2.0",
      "_view_name": "LayoutView",
      "align_content": null,
      "align_items": null,
      "align_self": null,
      "border": null,
      "bottom": null,
      "display": null,
      "flex": null,
      "flex_flow": null,
      "grid_area": null,
      "grid_auto_columns": null,
      "grid_auto_flow": null,
      "grid_auto_rows": null,
      "grid_column": null,
      "grid_gap": null,
      "grid_row": null,
      "grid_template_areas": null,
      "grid_template_columns": null,
      "grid_template_rows": null,
      "height": null,
      "justify_content": null,
      "justify_items": null,
      "left": null,
      "margin": null,
      "max_height": null,
      "max_width": null,
      "min_height": null,
      "min_width": null,
      "object_fit": null,
      "object_position": null,
      "order": null,
      "overflow": null,
      "overflow_x": null,
      "overflow_y": null,
      "padding": null,
      "right": null,
      "top": null,
      "visibility": null,
      "width": null
     }
    },
    "0979ace70edf4b0db2e394bdd0de8017": {
     "model_module": "@jupyter-widgets/base",
     "model_module_version": "1.2.0",
     "model_name": "LayoutModel",
     "state": {
      "_model_module": "@jupyter-widgets/base",
      "_model_module_version": "1.2.0",
      "_model_name": "LayoutModel",
      "_view_count": null,
      "_view_module": "@jupyter-widgets/base",
      "_view_module_version": "1.2.0",
      "_view_name": "LayoutView",
      "align_content": null,
      "align_items": null,
      "align_self": null,
      "border": null,
      "bottom": null,
      "display": null,
      "flex": null,
      "flex_flow": null,
      "grid_area": null,
      "grid_auto_columns": null,
      "grid_auto_flow": null,
      "grid_auto_rows": null,
      "grid_column": null,
      "grid_gap": null,
      "grid_row": null,
      "grid_template_areas": null,
      "grid_template_columns": null,
      "grid_template_rows": null,
      "height": null,
      "justify_content": null,
      "justify_items": null,
      "left": null,
      "margin": null,
      "max_height": null,
      "max_width": null,
      "min_height": null,
      "min_width": null,
      "object_fit": null,
      "object_position": null,
      "order": null,
      "overflow": null,
      "overflow_x": null,
      "overflow_y": null,
      "padding": null,
      "right": null,
      "top": null,
      "visibility": null,
      "width": null
     }
    },
    "0ae783d887cc49728ea39ce5ecfc468b": {
     "model_module": "@jupyter-widgets/controls",
     "model_module_version": "1.5.0",
     "model_name": "DescriptionStyleModel",
     "state": {
      "_model_module": "@jupyter-widgets/controls",
      "_model_module_version": "1.5.0",
      "_model_name": "DescriptionStyleModel",
      "_view_count": null,
      "_view_module": "@jupyter-widgets/base",
      "_view_module_version": "1.2.0",
      "_view_name": "StyleView",
      "description_width": ""
     }
    },
    "0f37df0617274f418a1f71226c724bc8": {
     "model_module": "@jupyter-widgets/base",
     "model_module_version": "1.2.0",
     "model_name": "LayoutModel",
     "state": {
      "_model_module": "@jupyter-widgets/base",
      "_model_module_version": "1.2.0",
      "_model_name": "LayoutModel",
      "_view_count": null,
      "_view_module": "@jupyter-widgets/base",
      "_view_module_version": "1.2.0",
      "_view_name": "LayoutView",
      "align_content": null,
      "align_items": null,
      "align_self": null,
      "border": null,
      "bottom": null,
      "display": null,
      "flex": null,
      "flex_flow": null,
      "grid_area": null,
      "grid_auto_columns": null,
      "grid_auto_flow": null,
      "grid_auto_rows": null,
      "grid_column": null,
      "grid_gap": null,
      "grid_row": null,
      "grid_template_areas": null,
      "grid_template_columns": null,
      "grid_template_rows": null,
      "height": null,
      "justify_content": null,
      "justify_items": null,
      "left": null,
      "margin": null,
      "max_height": null,
      "max_width": null,
      "min_height": null,
      "min_width": null,
      "object_fit": null,
      "object_position": null,
      "order": null,
      "overflow": null,
      "overflow_x": null,
      "overflow_y": null,
      "padding": null,
      "right": null,
      "top": null,
      "visibility": null,
      "width": null
     }
    },
    "0fdc7c3b7a23415ea4835590d632cea3": {
     "model_module": "@jupyter-widgets/controls",
     "model_module_version": "1.5.0",
     "model_name": "HBoxModel",
     "state": {
      "_dom_classes": [],
      "_model_module": "@jupyter-widgets/controls",
      "_model_module_version": "1.5.0",
      "_model_name": "HBoxModel",
      "_view_count": null,
      "_view_module": "@jupyter-widgets/controls",
      "_view_module_version": "1.5.0",
      "_view_name": "HBoxView",
      "box_style": "",
      "children": [
       "IPY_MODEL_d2e7b7d4251d451999884b1248af8f7d",
       "IPY_MODEL_8c2d356a24d44ed3bcbfdbc4aed02a0d",
       "IPY_MODEL_73b2527a331a48a5927198642e86fd0e"
      ],
      "layout": "IPY_MODEL_a86fad510d53494f9c3bae1f037be641"
     }
    },
    "108622e87f224b16a7fd0a1aed23b4f1": {
     "model_module": "@jupyter-widgets/base",
     "model_module_version": "1.2.0",
     "model_name": "LayoutModel",
     "state": {
      "_model_module": "@jupyter-widgets/base",
      "_model_module_version": "1.2.0",
      "_model_name": "LayoutModel",
      "_view_count": null,
      "_view_module": "@jupyter-widgets/base",
      "_view_module_version": "1.2.0",
      "_view_name": "LayoutView",
      "align_content": null,
      "align_items": null,
      "align_self": null,
      "border": null,
      "bottom": null,
      "display": null,
      "flex": null,
      "flex_flow": null,
      "grid_area": null,
      "grid_auto_columns": null,
      "grid_auto_flow": null,
      "grid_auto_rows": null,
      "grid_column": null,
      "grid_gap": null,
      "grid_row": null,
      "grid_template_areas": null,
      "grid_template_columns": null,
      "grid_template_rows": null,
      "height": null,
      "justify_content": null,
      "justify_items": null,
      "left": null,
      "margin": null,
      "max_height": null,
      "max_width": null,
      "min_height": null,
      "min_width": null,
      "object_fit": null,
      "object_position": null,
      "order": null,
      "overflow": null,
      "overflow_x": null,
      "overflow_y": null,
      "padding": null,
      "right": null,
      "top": null,
      "visibility": null,
      "width": null
     }
    },
    "11c7d60f4c0a4e55aaeeb7053228898e": {
     "model_module": "@jupyter-widgets/controls",
     "model_module_version": "1.5.0",
     "model_name": "DescriptionStyleModel",
     "state": {
      "_model_module": "@jupyter-widgets/controls",
      "_model_module_version": "1.5.0",
      "_model_name": "DescriptionStyleModel",
      "_view_count": null,
      "_view_module": "@jupyter-widgets/base",
      "_view_module_version": "1.2.0",
      "_view_name": "StyleView",
      "description_width": ""
     }
    },
    "1221cadf09a745f19b6b3072656defd4": {
     "model_module": "@jupyter-widgets/controls",
     "model_module_version": "1.5.0",
     "model_name": "FloatProgressModel",
     "state": {
      "_dom_classes": [],
      "_model_module": "@jupyter-widgets/controls",
      "_model_module_version": "1.5.0",
      "_model_name": "FloatProgressModel",
      "_view_count": null,
      "_view_module": "@jupyter-widgets/controls",
      "_view_module_version": "1.5.0",
      "_view_name": "ProgressView",
      "bar_style": "success",
      "description": "",
      "description_tooltip": null,
      "layout": "IPY_MODEL_c65d572097de4695aec0647e1e01482a",
      "max": 26421880,
      "min": 0,
      "orientation": "horizontal",
      "style": "IPY_MODEL_edef253ff3d045048d0406079872d31e",
      "value": 26421880
     }
    },
    "14886144ca4e4e55b4dfad5bd6790550": {
     "model_module": "@jupyter-widgets/controls",
     "model_module_version": "1.5.0",
     "model_name": "HTMLModel",
     "state": {
      "_dom_classes": [],
      "_model_module": "@jupyter-widgets/controls",
      "_model_module_version": "1.5.0",
      "_model_name": "HTMLModel",
      "_view_count": null,
      "_view_module": "@jupyter-widgets/controls",
      "_view_module_version": "1.5.0",
      "_view_name": "HTMLView",
      "description": "",
      "description_tooltip": null,
      "layout": "IPY_MODEL_77e052c7a7de420eafb6cf55d2d406b1",
      "placeholder": "​",
      "style": "IPY_MODEL_e28fa28cc9ec4a52a18037d911035b07",
      "value": "Loss: 2.3539:   0%"
     }
    },
    "1a73c880079d4baf803c8063b10050dd": {
     "model_module": "@jupyter-widgets/base",
     "model_module_version": "1.2.0",
     "model_name": "LayoutModel",
     "state": {
      "_model_module": "@jupyter-widgets/base",
      "_model_module_version": "1.2.0",
      "_model_name": "LayoutModel",
      "_view_count": null,
      "_view_module": "@jupyter-widgets/base",
      "_view_module_version": "1.2.0",
      "_view_name": "LayoutView",
      "align_content": null,
      "align_items": null,
      "align_self": null,
      "border": null,
      "bottom": null,
      "display": null,
      "flex": null,
      "flex_flow": null,
      "grid_area": null,
      "grid_auto_columns": null,
      "grid_auto_flow": null,
      "grid_auto_rows": null,
      "grid_column": null,
      "grid_gap": null,
      "grid_row": null,
      "grid_template_areas": null,
      "grid_template_columns": null,
      "grid_template_rows": null,
      "height": null,
      "justify_content": null,
      "justify_items": null,
      "left": null,
      "margin": null,
      "max_height": null,
      "max_width": null,
      "min_height": null,
      "min_width": null,
      "object_fit": null,
      "object_position": null,
      "order": null,
      "overflow": null,
      "overflow_x": null,
      "overflow_y": null,
      "padding": null,
      "right": null,
      "top": null,
      "visibility": null,
      "width": null
     }
    },
    "1ac52cddb3224b2f92d29e01439a05b5": {
     "model_module": "@jupyter-widgets/controls",
     "model_module_version": "1.5.0",
     "model_name": "HBoxModel",
     "state": {
      "_dom_classes": [],
      "_model_module": "@jupyter-widgets/controls",
      "_model_module_version": "1.5.0",
      "_model_name": "HBoxModel",
      "_view_count": null,
      "_view_module": "@jupyter-widgets/controls",
      "_view_module_version": "1.5.0",
      "_view_name": "HBoxView",
      "box_style": "",
      "children": [
       "IPY_MODEL_75e1a5e31a334d548df5d54cf4210eda",
       "IPY_MODEL_1221cadf09a745f19b6b3072656defd4",
       "IPY_MODEL_677f73839b6c471d921f248de40ea330"
      ],
      "layout": "IPY_MODEL_8ea40ef19c334b56bd2cab82cef6700d"
     }
    },
    "1e9ca34892db4804acee3ca07ae30280": {
     "model_module": "@jupyter-widgets/controls",
     "model_module_version": "1.5.0",
     "model_name": "FloatProgressModel",
     "state": {
      "_dom_classes": [],
      "_model_module": "@jupyter-widgets/controls",
      "_model_module_version": "1.5.0",
      "_model_name": "FloatProgressModel",
      "_view_count": null,
      "_view_module": "@jupyter-widgets/controls",
      "_view_module_version": "1.5.0",
      "_view_name": "ProgressView",
      "bar_style": "success",
      "description": "",
      "description_tooltip": null,
      "layout": "IPY_MODEL_108622e87f224b16a7fd0a1aed23b4f1",
      "max": 5148,
      "min": 0,
      "orientation": "horizontal",
      "style": "IPY_MODEL_873f5f6660b04911933f6a4f02e66a1e",
      "value": 5148
     }
    },
    "2c09fb80eac84910ad5056bbfc08daca": {
     "model_module": "@jupyter-widgets/controls",
     "model_module_version": "1.5.0",
     "model_name": "FloatProgressModel",
     "state": {
      "_dom_classes": [],
      "_model_module": "@jupyter-widgets/controls",
      "_model_module_version": "1.5.0",
      "_model_name": "FloatProgressModel",
      "_view_count": null,
      "_view_module": "@jupyter-widgets/controls",
      "_view_module_version": "1.5.0",
      "_view_name": "ProgressView",
      "bar_style": "success",
      "description": "",
      "description_tooltip": null,
      "layout": "IPY_MODEL_af0adeebc1714582b7505a502780e69f",
      "max": 29515,
      "min": 0,
      "orientation": "horizontal",
      "style": "IPY_MODEL_739b1aaa7b21423b840a283c758ee4af",
      "value": 29515
     }
    },
    "2e1919bd72464ea1bb675c8295e6e718": {
     "model_module": "@jupyter-widgets/controls",
     "model_module_version": "1.5.0",
     "model_name": "DescriptionStyleModel",
     "state": {
      "_model_module": "@jupyter-widgets/controls",
      "_model_module_version": "1.5.0",
      "_model_name": "DescriptionStyleModel",
      "_view_count": null,
      "_view_module": "@jupyter-widgets/base",
      "_view_module_version": "1.2.0",
      "_view_name": "StyleView",
      "description_width": ""
     }
    },
    "2ebd8e8beb1b4da8a1dd088b9dcacaa2": {
     "model_module": "@jupyter-widgets/controls",
     "model_module_version": "1.5.0",
     "model_name": "HTMLModel",
     "state": {
      "_dom_classes": [],
      "_model_module": "@jupyter-widgets/controls",
      "_model_module_version": "1.5.0",
      "_model_name": "HTMLModel",
      "_view_count": null,
      "_view_module": "@jupyter-widgets/controls",
      "_view_module_version": "1.5.0",
      "_view_name": "HTMLView",
      "description": "",
      "description_tooltip": null,
      "layout": "IPY_MODEL_5e315f4b022a4f03b6b05a9401fe9661",
      "placeholder": "​",
      "style": "IPY_MODEL_11c7d60f4c0a4e55aaeeb7053228898e",
      "value": ""
     }
    },
    "2edc7175628248ab82c4ca0434042934": {
     "model_module": "@jupyter-widgets/controls",
     "model_module_version": "1.5.0",
     "model_name": "FloatProgressModel",
     "state": {
      "_dom_classes": [],
      "_model_module": "@jupyter-widgets/controls",
      "_model_module_version": "1.5.0",
      "_model_name": "FloatProgressModel",
      "_view_count": null,
      "_view_module": "@jupyter-widgets/controls",
      "_view_module_version": "1.5.0",
      "_view_name": "ProgressView",
      "bar_style": "success",
      "description": "",
      "description_tooltip": null,
      "layout": "IPY_MODEL_d4f596b0bab443c0a1e04f58c8cb4a0d",
      "max": 4422102,
      "min": 0,
      "orientation": "horizontal",
      "style": "IPY_MODEL_491e50b8bf9d49599074f131d4e23b13",
      "value": 4422102
     }
    },
    "312db40f60d14f1e84c82682448ea9a4": {
     "model_module": "@jupyter-widgets/controls",
     "model_module_version": "1.5.0",
     "model_name": "DescriptionStyleModel",
     "state": {
      "_model_module": "@jupyter-widgets/controls",
      "_model_module_version": "1.5.0",
      "_model_name": "DescriptionStyleModel",
      "_view_count": null,
      "_view_module": "@jupyter-widgets/base",
      "_view_module_version": "1.2.0",
      "_view_name": "StyleView",
      "description_width": ""
     }
    },
    "326782502fe743988fa6657214216674": {
     "model_module": "@jupyter-widgets/controls",
     "model_module_version": "1.5.0",
     "model_name": "ProgressStyleModel",
     "state": {
      "_model_module": "@jupyter-widgets/controls",
      "_model_module_version": "1.5.0",
      "_model_name": "ProgressStyleModel",
      "_view_count": null,
      "_view_module": "@jupyter-widgets/base",
      "_view_module_version": "1.2.0",
      "_view_name": "StyleView",
      "bar_color": null,
      "description_width": ""
     }
    },
    "33e6a73b77b34192a21e3b53590d5787": {
     "model_module": "@jupyter-widgets/controls",
     "model_module_version": "1.5.0",
     "model_name": "FloatProgressModel",
     "state": {
      "_dom_classes": [],
      "_model_module": "@jupyter-widgets/controls",
      "_model_module_version": "1.5.0",
      "_model_name": "FloatProgressModel",
      "_view_count": null,
      "_view_module": "@jupyter-widgets/controls",
      "_view_module_version": "1.5.0",
      "_view_name": "ProgressView",
      "bar_style": "success",
      "description": "",
      "description_tooltip": null,
      "layout": "IPY_MODEL_e4298bd5dc4e4b0fb17a720eb109d49f",
      "max": 26421880,
      "min": 0,
      "orientation": "horizontal",
      "style": "IPY_MODEL_d07f7a788d464efc8a968b8097d1708b",
      "value": 26421880
     }
    },
    "372cec36e63543bd83b6db252ed9a12a": {
     "model_module": "@jupyter-widgets/controls",
     "model_module_version": "1.5.0",
     "model_name": "HBoxModel",
     "state": {
      "_dom_classes": [],
      "_model_module": "@jupyter-widgets/controls",
      "_model_module_version": "1.5.0",
      "_model_name": "HBoxModel",
      "_view_count": null,
      "_view_module": "@jupyter-widgets/controls",
      "_view_module_version": "1.5.0",
      "_view_name": "HBoxView",
      "box_style": "",
      "children": [
       "IPY_MODEL_14886144ca4e4e55b4dfad5bd6790550",
       "IPY_MODEL_9cdb2f1098454b7db1f3d84da34eb847",
       "IPY_MODEL_f38727e742b44cd0bf10df786020058d"
      ],
      "layout": "IPY_MODEL_4ce65f44a60a4751b7c658bbc09c55ed"
     }
    },
    "3add4542dd3e4a1e8f8b3b4b8254b62c": {
     "model_module": "@jupyter-widgets/controls",
     "model_module_version": "1.5.0",
     "model_name": "DescriptionStyleModel",
     "state": {
      "_model_module": "@jupyter-widgets/controls",
      "_model_module_version": "1.5.0",
      "_model_name": "DescriptionStyleModel",
      "_view_count": null,
      "_view_module": "@jupyter-widgets/base",
      "_view_module_version": "1.2.0",
      "_view_name": "StyleView",
      "description_width": ""
     }
    },
    "3cb22621e22140539237dd61dedf0b10": {
     "model_module": "@jupyter-widgets/controls",
     "model_module_version": "1.5.0",
     "model_name": "DescriptionStyleModel",
     "state": {
      "_model_module": "@jupyter-widgets/controls",
      "_model_module_version": "1.5.0",
      "_model_name": "DescriptionStyleModel",
      "_view_count": null,
      "_view_module": "@jupyter-widgets/base",
      "_view_module_version": "1.2.0",
      "_view_name": "StyleView",
      "description_width": ""
     }
    },
    "3e959312c9964531998497a38b19afe5": {
     "model_module": "@jupyter-widgets/controls",
     "model_module_version": "1.5.0",
     "model_name": "DescriptionStyleModel",
     "state": {
      "_model_module": "@jupyter-widgets/controls",
      "_model_module_version": "1.5.0",
      "_model_name": "DescriptionStyleModel",
      "_view_count": null,
      "_view_module": "@jupyter-widgets/base",
      "_view_module_version": "1.2.0",
      "_view_name": "StyleView",
      "description_width": ""
     }
    },
    "4363655a1cbb4cc492c081b241aee628": {
     "model_module": "@jupyter-widgets/controls",
     "model_module_version": "1.5.0",
     "model_name": "DescriptionStyleModel",
     "state": {
      "_model_module": "@jupyter-widgets/controls",
      "_model_module_version": "1.5.0",
      "_model_name": "DescriptionStyleModel",
      "_view_count": null,
      "_view_module": "@jupyter-widgets/base",
      "_view_module_version": "1.2.0",
      "_view_name": "StyleView",
      "description_width": ""
     }
    },
    "446af936e85448d2bd3b22af472cef4a": {
     "model_module": "@jupyter-widgets/base",
     "model_module_version": "1.2.0",
     "model_name": "LayoutModel",
     "state": {
      "_model_module": "@jupyter-widgets/base",
      "_model_module_version": "1.2.0",
      "_model_name": "LayoutModel",
      "_view_count": null,
      "_view_module": "@jupyter-widgets/base",
      "_view_module_version": "1.2.0",
      "_view_name": "LayoutView",
      "align_content": null,
      "align_items": null,
      "align_self": null,
      "border": null,
      "bottom": null,
      "display": null,
      "flex": null,
      "flex_flow": null,
      "grid_area": null,
      "grid_auto_columns": null,
      "grid_auto_flow": null,
      "grid_auto_rows": null,
      "grid_column": null,
      "grid_gap": null,
      "grid_row": null,
      "grid_template_areas": null,
      "grid_template_columns": null,
      "grid_template_rows": null,
      "height": null,
      "justify_content": null,
      "justify_items": null,
      "left": null,
      "margin": null,
      "max_height": null,
      "max_width": null,
      "min_height": null,
      "min_width": null,
      "object_fit": null,
      "object_position": null,
      "order": null,
      "overflow": null,
      "overflow_x": null,
      "overflow_y": null,
      "padding": null,
      "right": null,
      "top": null,
      "visibility": null,
      "width": null
     }
    },
    "491e50b8bf9d49599074f131d4e23b13": {
     "model_module": "@jupyter-widgets/controls",
     "model_module_version": "1.5.0",
     "model_name": "ProgressStyleModel",
     "state": {
      "_model_module": "@jupyter-widgets/controls",
      "_model_module_version": "1.5.0",
      "_model_name": "ProgressStyleModel",
      "_view_count": null,
      "_view_module": "@jupyter-widgets/base",
      "_view_module_version": "1.2.0",
      "_view_name": "StyleView",
      "bar_color": null,
      "description_width": ""
     }
    },
    "4ce65f44a60a4751b7c658bbc09c55ed": {
     "model_module": "@jupyter-widgets/base",
     "model_module_version": "1.2.0",
     "model_name": "LayoutModel",
     "state": {
      "_model_module": "@jupyter-widgets/base",
      "_model_module_version": "1.2.0",
      "_model_name": "LayoutModel",
      "_view_count": null,
      "_view_module": "@jupyter-widgets/base",
      "_view_module_version": "1.2.0",
      "_view_name": "LayoutView",
      "align_content": null,
      "align_items": null,
      "align_self": null,
      "border": null,
      "bottom": null,
      "display": null,
      "flex": null,
      "flex_flow": null,
      "grid_area": null,
      "grid_auto_columns": null,
      "grid_auto_flow": null,
      "grid_auto_rows": null,
      "grid_column": null,
      "grid_gap": null,
      "grid_row": null,
      "grid_template_areas": null,
      "grid_template_columns": null,
      "grid_template_rows": null,
      "height": null,
      "justify_content": null,
      "justify_items": null,
      "left": null,
      "margin": null,
      "max_height": null,
      "max_width": null,
      "min_height": null,
      "min_width": null,
      "object_fit": null,
      "object_position": null,
      "order": null,
      "overflow": null,
      "overflow_x": null,
      "overflow_y": null,
      "padding": null,
      "right": null,
      "top": null,
      "visibility": null,
      "width": null
     }
    },
    "5523dc495fdf4c89a7ec3c3d71fe2c30": {
     "model_module": "@jupyter-widgets/base",
     "model_module_version": "1.2.0",
     "model_name": "LayoutModel",
     "state": {
      "_model_module": "@jupyter-widgets/base",
      "_model_module_version": "1.2.0",
      "_model_name": "LayoutModel",
      "_view_count": null,
      "_view_module": "@jupyter-widgets/base",
      "_view_module_version": "1.2.0",
      "_view_name": "LayoutView",
      "align_content": null,
      "align_items": null,
      "align_self": null,
      "border": null,
      "bottom": null,
      "display": null,
      "flex": null,
      "flex_flow": null,
      "grid_area": null,
      "grid_auto_columns": null,
      "grid_auto_flow": null,
      "grid_auto_rows": null,
      "grid_column": null,
      "grid_gap": null,
      "grid_row": null,
      "grid_template_areas": null,
      "grid_template_columns": null,
      "grid_template_rows": null,
      "height": null,
      "justify_content": null,
      "justify_items": null,
      "left": null,
      "margin": null,
      "max_height": null,
      "max_width": null,
      "min_height": null,
      "min_width": null,
      "object_fit": null,
      "object_position": null,
      "order": null,
      "overflow": null,
      "overflow_x": null,
      "overflow_y": null,
      "padding": null,
      "right": null,
      "top": null,
      "visibility": null,
      "width": null
     }
    },
    "58a42e99a6964f71b60b0c3c0336b4fa": {
     "model_module": "@jupyter-widgets/controls",
     "model_module_version": "1.5.0",
     "model_name": "HTMLModel",
     "state": {
      "_dom_classes": [],
      "_model_module": "@jupyter-widgets/controls",
      "_model_module_version": "1.5.0",
      "_model_name": "HTMLModel",
      "_view_count": null,
      "_view_module": "@jupyter-widgets/controls",
      "_view_module_version": "1.5.0",
      "_view_name": "HTMLView",
      "description": "",
      "description_tooltip": null,
      "layout": "IPY_MODEL_d67a5443413c4843973a65e10779d67a",
      "placeholder": "​",
      "style": "IPY_MODEL_3e959312c9964531998497a38b19afe5",
      "value": " 4422656/? [00:00&lt;00:00, 7671730.57it/s]"
     }
    },
    "5a997a81ebc34a8db0d7b28d43572638": {
     "model_module": "@jupyter-widgets/controls",
     "model_module_version": "1.5.0",
     "model_name": "ProgressStyleModel",
     "state": {
      "_model_module": "@jupyter-widgets/controls",
      "_model_module_version": "1.5.0",
      "_model_name": "ProgressStyleModel",
      "_view_count": null,
      "_view_module": "@jupyter-widgets/base",
      "_view_module_version": "1.2.0",
      "_view_name": "StyleView",
      "bar_color": null,
      "description_width": ""
     }
    },
    "5d2d20f9acaa438aa3c359a209c4bc32": {
     "model_module": "@jupyter-widgets/controls",
     "model_module_version": "1.5.0",
     "model_name": "ProgressStyleModel",
     "state": {
      "_model_module": "@jupyter-widgets/controls",
      "_model_module_version": "1.5.0",
      "_model_name": "ProgressStyleModel",
      "_view_count": null,
      "_view_module": "@jupyter-widgets/base",
      "_view_module_version": "1.2.0",
      "_view_name": "StyleView",
      "bar_color": null,
      "description_width": ""
     }
    },
    "5dc16b3a9e9046ec956167a7e7235e50": {
     "model_module": "@jupyter-widgets/controls",
     "model_module_version": "1.5.0",
     "model_name": "HBoxModel",
     "state": {
      "_dom_classes": [],
      "_model_module": "@jupyter-widgets/controls",
      "_model_module_version": "1.5.0",
      "_model_name": "HBoxModel",
      "_view_count": null,
      "_view_module": "@jupyter-widgets/controls",
      "_view_module_version": "1.5.0",
      "_view_name": "HBoxView",
      "box_style": "",
      "children": [
       "IPY_MODEL_8d3252b88d51431fbeb83df09cdaac31",
       "IPY_MODEL_2edc7175628248ab82c4ca0434042934",
       "IPY_MODEL_58a42e99a6964f71b60b0c3c0336b4fa"
      ],
      "layout": "IPY_MODEL_e445e3284827419aad53b47225e9e643"
     }
    },
    "5e315f4b022a4f03b6b05a9401fe9661": {
     "model_module": "@jupyter-widgets/base",
     "model_module_version": "1.2.0",
     "model_name": "LayoutModel",
     "state": {
      "_model_module": "@jupyter-widgets/base",
      "_model_module_version": "1.2.0",
      "_model_name": "LayoutModel",
      "_view_count": null,
      "_view_module": "@jupyter-widgets/base",
      "_view_module_version": "1.2.0",
      "_view_name": "LayoutView",
      "align_content": null,
      "align_items": null,
      "align_self": null,
      "border": null,
      "bottom": null,
      "display": null,
      "flex": null,
      "flex_flow": null,
      "grid_area": null,
      "grid_auto_columns": null,
      "grid_auto_flow": null,
      "grid_auto_rows": null,
      "grid_column": null,
      "grid_gap": null,
      "grid_row": null,
      "grid_template_areas": null,
      "grid_template_columns": null,
      "grid_template_rows": null,
      "height": null,
      "justify_content": null,
      "justify_items": null,
      "left": null,
      "margin": null,
      "max_height": null,
      "max_width": null,
      "min_height": null,
      "min_width": null,
      "object_fit": null,
      "object_position": null,
      "order": null,
      "overflow": null,
      "overflow_x": null,
      "overflow_y": null,
      "padding": null,
      "right": null,
      "top": null,
      "visibility": null,
      "width": null
     }
    },
    "60c7e0c2b31046cb95d42cd9cac22df4": {
     "model_module": "@jupyter-widgets/controls",
     "model_module_version": "1.5.0",
     "model_name": "DescriptionStyleModel",
     "state": {
      "_model_module": "@jupyter-widgets/controls",
      "_model_module_version": "1.5.0",
      "_model_name": "DescriptionStyleModel",
      "_view_count": null,
      "_view_module": "@jupyter-widgets/base",
      "_view_module_version": "1.2.0",
      "_view_name": "StyleView",
      "description_width": ""
     }
    },
    "65cedc0fc7e04c919e30959b8d61d848": {
     "model_module": "@jupyter-widgets/base",
     "model_module_version": "1.2.0",
     "model_name": "LayoutModel",
     "state": {
      "_model_module": "@jupyter-widgets/base",
      "_model_module_version": "1.2.0",
      "_model_name": "LayoutModel",
      "_view_count": null,
      "_view_module": "@jupyter-widgets/base",
      "_view_module_version": "1.2.0",
      "_view_name": "LayoutView",
      "align_content": null,
      "align_items": null,
      "align_self": null,
      "border": null,
      "bottom": null,
      "display": null,
      "flex": null,
      "flex_flow": null,
      "grid_area": null,
      "grid_auto_columns": null,
      "grid_auto_flow": null,
      "grid_auto_rows": null,
      "grid_column": null,
      "grid_gap": null,
      "grid_row": null,
      "grid_template_areas": null,
      "grid_template_columns": null,
      "grid_template_rows": null,
      "height": null,
      "justify_content": null,
      "justify_items": null,
      "left": null,
      "margin": null,
      "max_height": null,
      "max_width": null,
      "min_height": null,
      "min_width": null,
      "object_fit": null,
      "object_position": null,
      "order": null,
      "overflow": null,
      "overflow_x": null,
      "overflow_y": null,
      "padding": null,
      "right": null,
      "top": null,
      "visibility": null,
      "width": null
     }
    },
    "677f73839b6c471d921f248de40ea330": {
     "model_module": "@jupyter-widgets/controls",
     "model_module_version": "1.5.0",
     "model_name": "HTMLModel",
     "state": {
      "_dom_classes": [],
      "_model_module": "@jupyter-widgets/controls",
      "_model_module_version": "1.5.0",
      "_model_name": "HTMLModel",
      "_view_count": null,
      "_view_module": "@jupyter-widgets/controls",
      "_view_module_version": "1.5.0",
      "_view_name": "HTMLView",
      "description": "",
      "description_tooltip": null,
      "layout": "IPY_MODEL_0862bdc3d6f544db8a28ca14e0fbb76d",
      "placeholder": "​",
      "style": "IPY_MODEL_60c7e0c2b31046cb95d42cd9cac22df4",
      "value": " 26422272/? [00:01&lt;00:00, 21776982.47it/s]"
     }
    },
    "68a9c9e32450495fbac90b6fbf36ea7c": {
     "model_module": "@jupyter-widgets/controls",
     "model_module_version": "1.5.0",
     "model_name": "HTMLModel",
     "state": {
      "_dom_classes": [],
      "_model_module": "@jupyter-widgets/controls",
      "_model_module_version": "1.5.0",
      "_model_name": "HTMLModel",
      "_view_count": null,
      "_view_module": "@jupyter-widgets/controls",
      "_view_module_version": "1.5.0",
      "_view_name": "HTMLView",
      "description": "",
      "description_tooltip": null,
      "layout": "IPY_MODEL_b244149bf46f4deea71c61ce9eb8f337",
      "placeholder": "​",
      "style": "IPY_MODEL_3cb22621e22140539237dd61dedf0b10",
      "value": " 6144/? [00:00&lt;00:00, 155351.15it/s]"
     }
    },
    "7335277b3f4a4704954617575b011224": {
     "model_module": "@jupyter-widgets/base",
     "model_module_version": "1.2.0",
     "model_name": "LayoutModel",
     "state": {
      "_model_module": "@jupyter-widgets/base",
      "_model_module_version": "1.2.0",
      "_model_name": "LayoutModel",
      "_view_count": null,
      "_view_module": "@jupyter-widgets/base",
      "_view_module_version": "1.2.0",
      "_view_name": "LayoutView",
      "align_content": null,
      "align_items": null,
      "align_self": null,
      "border": null,
      "bottom": null,
      "display": null,
      "flex": null,
      "flex_flow": null,
      "grid_area": null,
      "grid_auto_columns": null,
      "grid_auto_flow": null,
      "grid_auto_rows": null,
      "grid_column": null,
      "grid_gap": null,
      "grid_row": null,
      "grid_template_areas": null,
      "grid_template_columns": null,
      "grid_template_rows": null,
      "height": null,
      "justify_content": null,
      "justify_items": null,
      "left": null,
      "margin": null,
      "max_height": null,
      "max_width": null,
      "min_height": null,
      "min_width": null,
      "object_fit": null,
      "object_position": null,
      "order": null,
      "overflow": null,
      "overflow_x": null,
      "overflow_y": null,
      "padding": null,
      "right": null,
      "top": null,
      "visibility": null,
      "width": null
     }
    },
    "739b1aaa7b21423b840a283c758ee4af": {
     "model_module": "@jupyter-widgets/controls",
     "model_module_version": "1.5.0",
     "model_name": "ProgressStyleModel",
     "state": {
      "_model_module": "@jupyter-widgets/controls",
      "_model_module_version": "1.5.0",
      "_model_name": "ProgressStyleModel",
      "_view_count": null,
      "_view_module": "@jupyter-widgets/base",
      "_view_module_version": "1.2.0",
      "_view_name": "StyleView",
      "bar_color": null,
      "description_width": ""
     }
    },
    "73b2527a331a48a5927198642e86fd0e": {
     "model_module": "@jupyter-widgets/controls",
     "model_module_version": "1.5.0",
     "model_name": "HTMLModel",
     "state": {
      "_dom_classes": [],
      "_model_module": "@jupyter-widgets/controls",
      "_model_module_version": "1.5.0",
      "_model_name": "HTMLModel",
      "_view_count": null,
      "_view_module": "@jupyter-widgets/controls",
      "_view_module_version": "1.5.0",
      "_view_name": "HTMLView",
      "description": "",
      "description_tooltip": null,
      "layout": "IPY_MODEL_d5ac4be3271943868b2ecb3e6e896852",
      "placeholder": "​",
      "style": "IPY_MODEL_c7bcfedd63e94ffa9c083fdea5630211",
      "value": " 29696/? [00:00&lt;00:00, 135248.09it/s]"
     }
    },
    "75e1a5e31a334d548df5d54cf4210eda": {
     "model_module": "@jupyter-widgets/controls",
     "model_module_version": "1.5.0",
     "model_name": "HTMLModel",
     "state": {
      "_dom_classes": [],
      "_model_module": "@jupyter-widgets/controls",
      "_model_module_version": "1.5.0",
      "_model_name": "HTMLModel",
      "_view_count": null,
      "_view_module": "@jupyter-widgets/controls",
      "_view_module_version": "1.5.0",
      "_view_name": "HTMLView",
      "description": "",
      "description_tooltip": null,
      "layout": "IPY_MODEL_446af936e85448d2bd3b22af472cef4a",
      "placeholder": "​",
      "style": "IPY_MODEL_7cb57c2e5e8c473d9a8e000da52e92d1",
      "value": ""
     }
    },
    "77e052c7a7de420eafb6cf55d2d406b1": {
     "model_module": "@jupyter-widgets/base",
     "model_module_version": "1.2.0",
     "model_name": "LayoutModel",
     "state": {
      "_model_module": "@jupyter-widgets/base",
      "_model_module_version": "1.2.0",
      "_model_name": "LayoutModel",
      "_view_count": null,
      "_view_module": "@jupyter-widgets/base",
      "_view_module_version": "1.2.0",
      "_view_name": "LayoutView",
      "align_content": null,
      "align_items": null,
      "align_self": null,
      "border": null,
      "bottom": null,
      "display": null,
      "flex": null,
      "flex_flow": null,
      "grid_area": null,
      "grid_auto_columns": null,
      "grid_auto_flow": null,
      "grid_auto_rows": null,
      "grid_column": null,
      "grid_gap": null,
      "grid_row": null,
      "grid_template_areas": null,
      "grid_template_columns": null,
      "grid_template_rows": null,
      "height": null,
      "justify_content": null,
      "justify_items": null,
      "left": null,
      "margin": null,
      "max_height": null,
      "max_width": null,
      "min_height": null,
      "min_width": null,
      "object_fit": null,
      "object_position": null,
      "order": null,
      "overflow": null,
      "overflow_x": null,
      "overflow_y": null,
      "padding": null,
      "right": null,
      "top": null,
      "visibility": null,
      "width": null
     }
    },
    "7a803e47a12f46adac931bc1ed4065c7": {
     "model_module": "@jupyter-widgets/base",
     "model_module_version": "1.2.0",
     "model_name": "LayoutModel",
     "state": {
      "_model_module": "@jupyter-widgets/base",
      "_model_module_version": "1.2.0",
      "_model_name": "LayoutModel",
      "_view_count": null,
      "_view_module": "@jupyter-widgets/base",
      "_view_module_version": "1.2.0",
      "_view_name": "LayoutView",
      "align_content": null,
      "align_items": null,
      "align_self": null,
      "border": null,
      "bottom": null,
      "display": null,
      "flex": null,
      "flex_flow": null,
      "grid_area": null,
      "grid_auto_columns": null,
      "grid_auto_flow": null,
      "grid_auto_rows": null,
      "grid_column": null,
      "grid_gap": null,
      "grid_row": null,
      "grid_template_areas": null,
      "grid_template_columns": null,
      "grid_template_rows": null,
      "height": null,
      "justify_content": null,
      "justify_items": null,
      "left": null,
      "margin": null,
      "max_height": null,
      "max_width": null,
      "min_height": null,
      "min_width": null,
      "object_fit": null,
      "object_position": null,
      "order": null,
      "overflow": null,
      "overflow_x": null,
      "overflow_y": null,
      "padding": null,
      "right": null,
      "top": null,
      "visibility": null,
      "width": null
     }
    },
    "7cb57c2e5e8c473d9a8e000da52e92d1": {
     "model_module": "@jupyter-widgets/controls",
     "model_module_version": "1.5.0",
     "model_name": "DescriptionStyleModel",
     "state": {
      "_model_module": "@jupyter-widgets/controls",
      "_model_module_version": "1.5.0",
      "_model_name": "DescriptionStyleModel",
      "_view_count": null,
      "_view_module": "@jupyter-widgets/base",
      "_view_module_version": "1.2.0",
      "_view_name": "StyleView",
      "description_width": ""
     }
    },
    "7e659aaad49a48b1838b55c9321d53f1": {
     "model_module": "@jupyter-widgets/controls",
     "model_module_version": "1.5.0",
     "model_name": "ProgressStyleModel",
     "state": {
      "_model_module": "@jupyter-widgets/controls",
      "_model_module_version": "1.5.0",
      "_model_name": "ProgressStyleModel",
      "_view_count": null,
      "_view_module": "@jupyter-widgets/base",
      "_view_module_version": "1.2.0",
      "_view_name": "StyleView",
      "bar_color": null,
      "description_width": ""
     }
    },
    "81474be86175443b8aea101ed6a5d285": {
     "model_module": "@jupyter-widgets/controls",
     "model_module_version": "1.5.0",
     "model_name": "HBoxModel",
     "state": {
      "_dom_classes": [],
      "_model_module": "@jupyter-widgets/controls",
      "_model_module_version": "1.5.0",
      "_model_name": "HBoxModel",
      "_view_count": null,
      "_view_module": "@jupyter-widgets/controls",
      "_view_module_version": "1.5.0",
      "_view_name": "HBoxView",
      "box_style": "",
      "children": [
       "IPY_MODEL_8ccd320429584cbab91036357808a81e",
       "IPY_MODEL_1e9ca34892db4804acee3ca07ae30280",
       "IPY_MODEL_9953773274724e4daf5c342d008a16e6"
      ],
      "layout": "IPY_MODEL_bb44fe5d3ca141d0b64a184990375cef"
     }
    },
    "831e5bdbddf044dd8de88005c5308694": {
     "model_module": "@jupyter-widgets/controls",
     "model_module_version": "1.5.0",
     "model_name": "FloatProgressModel",
     "state": {
      "_dom_classes": [],
      "_model_module": "@jupyter-widgets/controls",
      "_model_module_version": "1.5.0",
      "_model_name": "FloatProgressModel",
      "_view_count": null,
      "_view_module": "@jupyter-widgets/controls",
      "_view_module_version": "1.5.0",
      "_view_name": "ProgressView",
      "bar_style": "success",
      "description": "",
      "description_tooltip": null,
      "layout": "IPY_MODEL_65cedc0fc7e04c919e30959b8d61d848",
      "max": 4422102,
      "min": 0,
      "orientation": "horizontal",
      "style": "IPY_MODEL_7e659aaad49a48b1838b55c9321d53f1",
      "value": 4422102
     }
    },
    "850817e0ff5f43b2b4d9e634b8e23354": {
     "model_module": "@jupyter-widgets/base",
     "model_module_version": "1.2.0",
     "model_name": "LayoutModel",
     "state": {
      "_model_module": "@jupyter-widgets/base",
      "_model_module_version": "1.2.0",
      "_model_name": "LayoutModel",
      "_view_count": null,
      "_view_module": "@jupyter-widgets/base",
      "_view_module_version": "1.2.0",
      "_view_name": "LayoutView",
      "align_content": null,
      "align_items": null,
      "align_self": null,
      "border": null,
      "bottom": null,
      "display": null,
      "flex": null,
      "flex_flow": null,
      "grid_area": null,
      "grid_auto_columns": null,
      "grid_auto_flow": null,
      "grid_auto_rows": null,
      "grid_column": null,
      "grid_gap": null,
      "grid_row": null,
      "grid_template_areas": null,
      "grid_template_columns": null,
      "grid_template_rows": null,
      "height": null,
      "justify_content": null,
      "justify_items": null,
      "left": null,
      "margin": null,
      "max_height": null,
      "max_width": null,
      "min_height": null,
      "min_width": null,
      "object_fit": null,
      "object_position": null,
      "order": null,
      "overflow": null,
      "overflow_x": null,
      "overflow_y": null,
      "padding": null,
      "right": null,
      "top": null,
      "visibility": null,
      "width": null
     }
    },
    "85a26bc32c694b3187014db03f2f0945": {
     "model_module": "@jupyter-widgets/controls",
     "model_module_version": "1.5.0",
     "model_name": "HBoxModel",
     "state": {
      "_dom_classes": [],
      "_model_module": "@jupyter-widgets/controls",
      "_model_module_version": "1.5.0",
      "_model_name": "HBoxModel",
      "_view_count": null,
      "_view_module": "@jupyter-widgets/controls",
      "_view_module_version": "1.5.0",
      "_view_name": "HBoxView",
      "box_style": "",
      "children": [
       "IPY_MODEL_a09bcbb9a8164e258996869b86d5c6fe",
       "IPY_MODEL_33e6a73b77b34192a21e3b53590d5787",
       "IPY_MODEL_b41a57951ea74a23a70cfbf5dc3f08bc"
      ],
      "layout": "IPY_MODEL_981ab63dcf574faab9269531fc9828e6"
     }
    },
    "873f5f6660b04911933f6a4f02e66a1e": {
     "model_module": "@jupyter-widgets/controls",
     "model_module_version": "1.5.0",
     "model_name": "ProgressStyleModel",
     "state": {
      "_model_module": "@jupyter-widgets/controls",
      "_model_module_version": "1.5.0",
      "_model_name": "ProgressStyleModel",
      "_view_count": null,
      "_view_module": "@jupyter-widgets/base",
      "_view_module_version": "1.2.0",
      "_view_name": "StyleView",
      "bar_color": null,
      "description_width": ""
     }
    },
    "8ab16354cfee4ba2bdc8cdd9c723127c": {
     "model_module": "@jupyter-widgets/controls",
     "model_module_version": "1.5.0",
     "model_name": "DescriptionStyleModel",
     "state": {
      "_model_module": "@jupyter-widgets/controls",
      "_model_module_version": "1.5.0",
      "_model_name": "DescriptionStyleModel",
      "_view_count": null,
      "_view_module": "@jupyter-widgets/base",
      "_view_module_version": "1.2.0",
      "_view_name": "StyleView",
      "description_width": ""
     }
    },
    "8c2d356a24d44ed3bcbfdbc4aed02a0d": {
     "model_module": "@jupyter-widgets/controls",
     "model_module_version": "1.5.0",
     "model_name": "FloatProgressModel",
     "state": {
      "_dom_classes": [],
      "_model_module": "@jupyter-widgets/controls",
      "_model_module_version": "1.5.0",
      "_model_name": "FloatProgressModel",
      "_view_count": null,
      "_view_module": "@jupyter-widgets/controls",
      "_view_module_version": "1.5.0",
      "_view_name": "ProgressView",
      "bar_style": "success",
      "description": "",
      "description_tooltip": null,
      "layout": "IPY_MODEL_850817e0ff5f43b2b4d9e634b8e23354",
      "max": 29515,
      "min": 0,
      "orientation": "horizontal",
      "style": "IPY_MODEL_326782502fe743988fa6657214216674",
      "value": 29515
     }
    },
    "8ccd320429584cbab91036357808a81e": {
     "model_module": "@jupyter-widgets/controls",
     "model_module_version": "1.5.0",
     "model_name": "HTMLModel",
     "state": {
      "_dom_classes": [],
      "_model_module": "@jupyter-widgets/controls",
      "_model_module_version": "1.5.0",
      "_model_name": "HTMLModel",
      "_view_count": null,
      "_view_module": "@jupyter-widgets/controls",
      "_view_module_version": "1.5.0",
      "_view_name": "HTMLView",
      "description": "",
      "description_tooltip": null,
      "layout": "IPY_MODEL_a4a2e6e9095a40739b5f0e29ea2b8954",
      "placeholder": "​",
      "style": "IPY_MODEL_dc35df41a2674099ac91707fcb8faea8",
      "value": ""
     }
    },
    "8d3252b88d51431fbeb83df09cdaac31": {
     "model_module": "@jupyter-widgets/controls",
     "model_module_version": "1.5.0",
     "model_name": "HTMLModel",
     "state": {
      "_dom_classes": [],
      "_model_module": "@jupyter-widgets/controls",
      "_model_module_version": "1.5.0",
      "_model_name": "HTMLModel",
      "_view_count": null,
      "_view_module": "@jupyter-widgets/controls",
      "_view_module_version": "1.5.0",
      "_view_name": "HTMLView",
      "description": "",
      "description_tooltip": null,
      "layout": "IPY_MODEL_b021446bcfda461584c7a084db4cb7f1",
      "placeholder": "​",
      "style": "IPY_MODEL_06814eb6c14f4f88b487527661fce89e",
      "value": ""
     }
    },
    "8ea40ef19c334b56bd2cab82cef6700d": {
     "model_module": "@jupyter-widgets/base",
     "model_module_version": "1.2.0",
     "model_name": "LayoutModel",
     "state": {
      "_model_module": "@jupyter-widgets/base",
      "_model_module_version": "1.2.0",
      "_model_name": "LayoutModel",
      "_view_count": null,
      "_view_module": "@jupyter-widgets/base",
      "_view_module_version": "1.2.0",
      "_view_name": "LayoutView",
      "align_content": null,
      "align_items": null,
      "align_self": null,
      "border": null,
      "bottom": null,
      "display": null,
      "flex": null,
      "flex_flow": null,
      "grid_area": null,
      "grid_auto_columns": null,
      "grid_auto_flow": null,
      "grid_auto_rows": null,
      "grid_column": null,
      "grid_gap": null,
      "grid_row": null,
      "grid_template_areas": null,
      "grid_template_columns": null,
      "grid_template_rows": null,
      "height": null,
      "justify_content": null,
      "justify_items": null,
      "left": null,
      "margin": null,
      "max_height": null,
      "max_width": null,
      "min_height": null,
      "min_width": null,
      "object_fit": null,
      "object_position": null,
      "order": null,
      "overflow": null,
      "overflow_x": null,
      "overflow_y": null,
      "padding": null,
      "right": null,
      "top": null,
      "visibility": null,
      "width": null
     }
    },
    "92ce37b6b97047b8823434b3db78968d": {
     "model_module": "@jupyter-widgets/controls",
     "model_module_version": "1.5.0",
     "model_name": "HTMLModel",
     "state": {
      "_dom_classes": [],
      "_model_module": "@jupyter-widgets/controls",
      "_model_module_version": "1.5.0",
      "_model_name": "HTMLModel",
      "_view_count": null,
      "_view_module": "@jupyter-widgets/controls",
      "_view_module_version": "1.5.0",
      "_view_name": "HTMLView",
      "description": "",
      "description_tooltip": null,
      "layout": "IPY_MODEL_1a73c880079d4baf803c8063b10050dd",
      "placeholder": "​",
      "style": "IPY_MODEL_9628882373bc4873921d2223219573d2",
      "value": " 4422656/? [00:00&lt;00:00, 7796672.39it/s]"
     }
    },
    "9628882373bc4873921d2223219573d2": {
     "model_module": "@jupyter-widgets/controls",
     "model_module_version": "1.5.0",
     "model_name": "DescriptionStyleModel",
     "state": {
      "_model_module": "@jupyter-widgets/controls",
      "_model_module_version": "1.5.0",
      "_model_name": "DescriptionStyleModel",
      "_view_count": null,
      "_view_module": "@jupyter-widgets/base",
      "_view_module_version": "1.2.0",
      "_view_name": "StyleView",
      "description_width": ""
     }
    },
    "981ab63dcf574faab9269531fc9828e6": {
     "model_module": "@jupyter-widgets/base",
     "model_module_version": "1.2.0",
     "model_name": "LayoutModel",
     "state": {
      "_model_module": "@jupyter-widgets/base",
      "_model_module_version": "1.2.0",
      "_model_name": "LayoutModel",
      "_view_count": null,
      "_view_module": "@jupyter-widgets/base",
      "_view_module_version": "1.2.0",
      "_view_name": "LayoutView",
      "align_content": null,
      "align_items": null,
      "align_self": null,
      "border": null,
      "bottom": null,
      "display": null,
      "flex": null,
      "flex_flow": null,
      "grid_area": null,
      "grid_auto_columns": null,
      "grid_auto_flow": null,
      "grid_auto_rows": null,
      "grid_column": null,
      "grid_gap": null,
      "grid_row": null,
      "grid_template_areas": null,
      "grid_template_columns": null,
      "grid_template_rows": null,
      "height": null,
      "justify_content": null,
      "justify_items": null,
      "left": null,
      "margin": null,
      "max_height": null,
      "max_width": null,
      "min_height": null,
      "min_width": null,
      "object_fit": null,
      "object_position": null,
      "order": null,
      "overflow": null,
      "overflow_x": null,
      "overflow_y": null,
      "padding": null,
      "right": null,
      "top": null,
      "visibility": null,
      "width": null
     }
    },
    "9953773274724e4daf5c342d008a16e6": {
     "model_module": "@jupyter-widgets/controls",
     "model_module_version": "1.5.0",
     "model_name": "HTMLModel",
     "state": {
      "_dom_classes": [],
      "_model_module": "@jupyter-widgets/controls",
      "_model_module_version": "1.5.0",
      "_model_name": "HTMLModel",
      "_view_count": null,
      "_view_module": "@jupyter-widgets/controls",
      "_view_module_version": "1.5.0",
      "_view_name": "HTMLView",
      "description": "",
      "description_tooltip": null,
      "layout": "IPY_MODEL_bbf02400db0e4bcc98dbc9a09537442e",
      "placeholder": "​",
      "style": "IPY_MODEL_2e1919bd72464ea1bb675c8295e6e718",
      "value": " 6144/? [00:00&lt;00:00, 178053.10it/s]"
     }
    },
    "9cdb2f1098454b7db1f3d84da34eb847": {
     "model_module": "@jupyter-widgets/controls",
     "model_module_version": "1.5.0",
     "model_name": "FloatProgressModel",
     "state": {
      "_dom_classes": [],
      "_model_module": "@jupyter-widgets/controls",
      "_model_module_version": "1.5.0",
      "_model_name": "FloatProgressModel",
      "_view_count": null,
      "_view_module": "@jupyter-widgets/controls",
      "_view_module_version": "1.5.0",
      "_view_name": "ProgressView",
      "bar_style": "",
      "description": "",
      "description_tooltip": null,
      "layout": "IPY_MODEL_ab34633ae4864e859b6b3bc1929c30c7",
      "max": 1200,
      "min": 0,
      "orientation": "horizontal",
      "style": "IPY_MODEL_5a997a81ebc34a8db0d7b28d43572638",
      "value": 4
     }
    },
    "9f06f93037c04c4cab9e77f808ec0e20": {
     "model_module": "@jupyter-widgets/base",
     "model_module_version": "1.2.0",
     "model_name": "LayoutModel",
     "state": {
      "_model_module": "@jupyter-widgets/base",
      "_model_module_version": "1.2.0",
      "_model_name": "LayoutModel",
      "_view_count": null,
      "_view_module": "@jupyter-widgets/base",
      "_view_module_version": "1.2.0",
      "_view_name": "LayoutView",
      "align_content": null,
      "align_items": null,
      "align_self": null,
      "border": null,
      "bottom": null,
      "display": null,
      "flex": null,
      "flex_flow": null,
      "grid_area": null,
      "grid_auto_columns": null,
      "grid_auto_flow": null,
      "grid_auto_rows": null,
      "grid_column": null,
      "grid_gap": null,
      "grid_row": null,
      "grid_template_areas": null,
      "grid_template_columns": null,
      "grid_template_rows": null,
      "height": null,
      "justify_content": null,
      "justify_items": null,
      "left": null,
      "margin": null,
      "max_height": null,
      "max_width": null,
      "min_height": null,
      "min_width": null,
      "object_fit": null,
      "object_position": null,
      "order": null,
      "overflow": null,
      "overflow_x": null,
      "overflow_y": null,
      "padding": null,
      "right": null,
      "top": null,
      "visibility": null,
      "width": null
     }
    },
    "9f3bc71605364c458c5d05db36bc4472": {
     "model_module": "@jupyter-widgets/controls",
     "model_module_version": "1.5.0",
     "model_name": "HTMLModel",
     "state": {
      "_dom_classes": [],
      "_model_module": "@jupyter-widgets/controls",
      "_model_module_version": "1.5.0",
      "_model_name": "HTMLModel",
      "_view_count": null,
      "_view_module": "@jupyter-widgets/controls",
      "_view_module_version": "1.5.0",
      "_view_name": "HTMLView",
      "description": "",
      "description_tooltip": null,
      "layout": "IPY_MODEL_0f37df0617274f418a1f71226c724bc8",
      "placeholder": "​",
      "style": "IPY_MODEL_e4f19f90571f4628b8716884b942598f",
      "value": ""
     }
    },
    "a09bcbb9a8164e258996869b86d5c6fe": {
     "model_module": "@jupyter-widgets/controls",
     "model_module_version": "1.5.0",
     "model_name": "HTMLModel",
     "state": {
      "_dom_classes": [],
      "_model_module": "@jupyter-widgets/controls",
      "_model_module_version": "1.5.0",
      "_model_name": "HTMLModel",
      "_view_count": null,
      "_view_module": "@jupyter-widgets/controls",
      "_view_module_version": "1.5.0",
      "_view_name": "HTMLView",
      "description": "",
      "description_tooltip": null,
      "layout": "IPY_MODEL_5523dc495fdf4c89a7ec3c3d71fe2c30",
      "placeholder": "​",
      "style": "IPY_MODEL_312db40f60d14f1e84c82682448ea9a4",
      "value": ""
     }
    },
    "a4a2e6e9095a40739b5f0e29ea2b8954": {
     "model_module": "@jupyter-widgets/base",
     "model_module_version": "1.2.0",
     "model_name": "LayoutModel",
     "state": {
      "_model_module": "@jupyter-widgets/base",
      "_model_module_version": "1.2.0",
      "_model_name": "LayoutModel",
      "_view_count": null,
      "_view_module": "@jupyter-widgets/base",
      "_view_module_version": "1.2.0",
      "_view_name": "LayoutView",
      "align_content": null,
      "align_items": null,
      "align_self": null,
      "border": null,
      "bottom": null,
      "display": null,
      "flex": null,
      "flex_flow": null,
      "grid_area": null,
      "grid_auto_columns": null,
      "grid_auto_flow": null,
      "grid_auto_rows": null,
      "grid_column": null,
      "grid_gap": null,
      "grid_row": null,
      "grid_template_areas": null,
      "grid_template_columns": null,
      "grid_template_rows": null,
      "height": null,
      "justify_content": null,
      "justify_items": null,
      "left": null,
      "margin": null,
      "max_height": null,
      "max_width": null,
      "min_height": null,
      "min_width": null,
      "object_fit": null,
      "object_position": null,
      "order": null,
      "overflow": null,
      "overflow_x": null,
      "overflow_y": null,
      "padding": null,
      "right": null,
      "top": null,
      "visibility": null,
      "width": null
     }
    },
    "a86fad510d53494f9c3bae1f037be641": {
     "model_module": "@jupyter-widgets/base",
     "model_module_version": "1.2.0",
     "model_name": "LayoutModel",
     "state": {
      "_model_module": "@jupyter-widgets/base",
      "_model_module_version": "1.2.0",
      "_model_name": "LayoutModel",
      "_view_count": null,
      "_view_module": "@jupyter-widgets/base",
      "_view_module_version": "1.2.0",
      "_view_name": "LayoutView",
      "align_content": null,
      "align_items": null,
      "align_self": null,
      "border": null,
      "bottom": null,
      "display": null,
      "flex": null,
      "flex_flow": null,
      "grid_area": null,
      "grid_auto_columns": null,
      "grid_auto_flow": null,
      "grid_auto_rows": null,
      "grid_column": null,
      "grid_gap": null,
      "grid_row": null,
      "grid_template_areas": null,
      "grid_template_columns": null,
      "grid_template_rows": null,
      "height": null,
      "justify_content": null,
      "justify_items": null,
      "left": null,
      "margin": null,
      "max_height": null,
      "max_width": null,
      "min_height": null,
      "min_width": null,
      "object_fit": null,
      "object_position": null,
      "order": null,
      "overflow": null,
      "overflow_x": null,
      "overflow_y": null,
      "padding": null,
      "right": null,
      "top": null,
      "visibility": null,
      "width": null
     }
    },
    "ab34633ae4864e859b6b3bc1929c30c7": {
     "model_module": "@jupyter-widgets/base",
     "model_module_version": "1.2.0",
     "model_name": "LayoutModel",
     "state": {
      "_model_module": "@jupyter-widgets/base",
      "_model_module_version": "1.2.0",
      "_model_name": "LayoutModel",
      "_view_count": null,
      "_view_module": "@jupyter-widgets/base",
      "_view_module_version": "1.2.0",
      "_view_name": "LayoutView",
      "align_content": null,
      "align_items": null,
      "align_self": null,
      "border": null,
      "bottom": null,
      "display": null,
      "flex": null,
      "flex_flow": null,
      "grid_area": null,
      "grid_auto_columns": null,
      "grid_auto_flow": null,
      "grid_auto_rows": null,
      "grid_column": null,
      "grid_gap": null,
      "grid_row": null,
      "grid_template_areas": null,
      "grid_template_columns": null,
      "grid_template_rows": null,
      "height": null,
      "justify_content": null,
      "justify_items": null,
      "left": null,
      "margin": null,
      "max_height": null,
      "max_width": null,
      "min_height": null,
      "min_width": null,
      "object_fit": null,
      "object_position": null,
      "order": null,
      "overflow": null,
      "overflow_x": null,
      "overflow_y": null,
      "padding": null,
      "right": null,
      "top": null,
      "visibility": null,
      "width": null
     }
    },
    "af0adeebc1714582b7505a502780e69f": {
     "model_module": "@jupyter-widgets/base",
     "model_module_version": "1.2.0",
     "model_name": "LayoutModel",
     "state": {
      "_model_module": "@jupyter-widgets/base",
      "_model_module_version": "1.2.0",
      "_model_name": "LayoutModel",
      "_view_count": null,
      "_view_module": "@jupyter-widgets/base",
      "_view_module_version": "1.2.0",
      "_view_name": "LayoutView",
      "align_content": null,
      "align_items": null,
      "align_self": null,
      "border": null,
      "bottom": null,
      "display": null,
      "flex": null,
      "flex_flow": null,
      "grid_area": null,
      "grid_auto_columns": null,
      "grid_auto_flow": null,
      "grid_auto_rows": null,
      "grid_column": null,
      "grid_gap": null,
      "grid_row": null,
      "grid_template_areas": null,
      "grid_template_columns": null,
      "grid_template_rows": null,
      "height": null,
      "justify_content": null,
      "justify_items": null,
      "left": null,
      "margin": null,
      "max_height": null,
      "max_width": null,
      "min_height": null,
      "min_width": null,
      "object_fit": null,
      "object_position": null,
      "order": null,
      "overflow": null,
      "overflow_x": null,
      "overflow_y": null,
      "padding": null,
      "right": null,
      "top": null,
      "visibility": null,
      "width": null
     }
    },
    "b021446bcfda461584c7a084db4cb7f1": {
     "model_module": "@jupyter-widgets/base",
     "model_module_version": "1.2.0",
     "model_name": "LayoutModel",
     "state": {
      "_model_module": "@jupyter-widgets/base",
      "_model_module_version": "1.2.0",
      "_model_name": "LayoutModel",
      "_view_count": null,
      "_view_module": "@jupyter-widgets/base",
      "_view_module_version": "1.2.0",
      "_view_name": "LayoutView",
      "align_content": null,
      "align_items": null,
      "align_self": null,
      "border": null,
      "bottom": null,
      "display": null,
      "flex": null,
      "flex_flow": null,
      "grid_area": null,
      "grid_auto_columns": null,
      "grid_auto_flow": null,
      "grid_auto_rows": null,
      "grid_column": null,
      "grid_gap": null,
      "grid_row": null,
      "grid_template_areas": null,
      "grid_template_columns": null,
      "grid_template_rows": null,
      "height": null,
      "justify_content": null,
      "justify_items": null,
      "left": null,
      "margin": null,
      "max_height": null,
      "max_width": null,
      "min_height": null,
      "min_width": null,
      "object_fit": null,
      "object_position": null,
      "order": null,
      "overflow": null,
      "overflow_x": null,
      "overflow_y": null,
      "padding": null,
      "right": null,
      "top": null,
      "visibility": null,
      "width": null
     }
    },
    "b244149bf46f4deea71c61ce9eb8f337": {
     "model_module": "@jupyter-widgets/base",
     "model_module_version": "1.2.0",
     "model_name": "LayoutModel",
     "state": {
      "_model_module": "@jupyter-widgets/base",
      "_model_module_version": "1.2.0",
      "_model_name": "LayoutModel",
      "_view_count": null,
      "_view_module": "@jupyter-widgets/base",
      "_view_module_version": "1.2.0",
      "_view_name": "LayoutView",
      "align_content": null,
      "align_items": null,
      "align_self": null,
      "border": null,
      "bottom": null,
      "display": null,
      "flex": null,
      "flex_flow": null,
      "grid_area": null,
      "grid_auto_columns": null,
      "grid_auto_flow": null,
      "grid_auto_rows": null,
      "grid_column": null,
      "grid_gap": null,
      "grid_row": null,
      "grid_template_areas": null,
      "grid_template_columns": null,
      "grid_template_rows": null,
      "height": null,
      "justify_content": null,
      "justify_items": null,
      "left": null,
      "margin": null,
      "max_height": null,
      "max_width": null,
      "min_height": null,
      "min_width": null,
      "object_fit": null,
      "object_position": null,
      "order": null,
      "overflow": null,
      "overflow_x": null,
      "overflow_y": null,
      "padding": null,
      "right": null,
      "top": null,
      "visibility": null,
      "width": null
     }
    },
    "b39f0a1b76224ec58863b132f5e8ff77": {
     "model_module": "@jupyter-widgets/base",
     "model_module_version": "1.2.0",
     "model_name": "LayoutModel",
     "state": {
      "_model_module": "@jupyter-widgets/base",
      "_model_module_version": "1.2.0",
      "_model_name": "LayoutModel",
      "_view_count": null,
      "_view_module": "@jupyter-widgets/base",
      "_view_module_version": "1.2.0",
      "_view_name": "LayoutView",
      "align_content": null,
      "align_items": null,
      "align_self": null,
      "border": null,
      "bottom": null,
      "display": null,
      "flex": null,
      "flex_flow": null,
      "grid_area": null,
      "grid_auto_columns": null,
      "grid_auto_flow": null,
      "grid_auto_rows": null,
      "grid_column": null,
      "grid_gap": null,
      "grid_row": null,
      "grid_template_areas": null,
      "grid_template_columns": null,
      "grid_template_rows": null,
      "height": null,
      "justify_content": null,
      "justify_items": null,
      "left": null,
      "margin": null,
      "max_height": null,
      "max_width": null,
      "min_height": null,
      "min_width": null,
      "object_fit": null,
      "object_position": null,
      "order": null,
      "overflow": null,
      "overflow_x": null,
      "overflow_y": null,
      "padding": null,
      "right": null,
      "top": null,
      "visibility": null,
      "width": null
     }
    },
    "b41a57951ea74a23a70cfbf5dc3f08bc": {
     "model_module": "@jupyter-widgets/controls",
     "model_module_version": "1.5.0",
     "model_name": "HTMLModel",
     "state": {
      "_dom_classes": [],
      "_model_module": "@jupyter-widgets/controls",
      "_model_module_version": "1.5.0",
      "_model_name": "HTMLModel",
      "_view_count": null,
      "_view_module": "@jupyter-widgets/controls",
      "_view_module_version": "1.5.0",
      "_view_name": "HTMLView",
      "description": "",
      "description_tooltip": null,
      "layout": "IPY_MODEL_7335277b3f4a4704954617575b011224",
      "placeholder": "​",
      "style": "IPY_MODEL_8ab16354cfee4ba2bdc8cdd9c723127c",
      "value": " 26422272/? [00:01&lt;00:00, 20362929.96it/s]"
     }
    },
    "b560701a7a6548fc89bde2111c33f8dc": {
     "model_module": "@jupyter-widgets/base",
     "model_module_version": "1.2.0",
     "model_name": "LayoutModel",
     "state": {
      "_model_module": "@jupyter-widgets/base",
      "_model_module_version": "1.2.0",
      "_model_name": "LayoutModel",
      "_view_count": null,
      "_view_module": "@jupyter-widgets/base",
      "_view_module_version": "1.2.0",
      "_view_name": "LayoutView",
      "align_content": null,
      "align_items": null,
      "align_self": null,
      "border": null,
      "bottom": null,
      "display": null,
      "flex": null,
      "flex_flow": null,
      "grid_area": null,
      "grid_auto_columns": null,
      "grid_auto_flow": null,
      "grid_auto_rows": null,
      "grid_column": null,
      "grid_gap": null,
      "grid_row": null,
      "grid_template_areas": null,
      "grid_template_columns": null,
      "grid_template_rows": null,
      "height": null,
      "justify_content": null,
      "justify_items": null,
      "left": null,
      "margin": null,
      "max_height": null,
      "max_width": null,
      "min_height": null,
      "min_width": null,
      "object_fit": null,
      "object_position": null,
      "order": null,
      "overflow": null,
      "overflow_x": null,
      "overflow_y": null,
      "padding": null,
      "right": null,
      "top": null,
      "visibility": null,
      "width": null
     }
    },
    "b830b87dbe794524850f1b3515ccf4f3": {
     "model_module": "@jupyter-widgets/base",
     "model_module_version": "1.2.0",
     "model_name": "LayoutModel",
     "state": {
      "_model_module": "@jupyter-widgets/base",
      "_model_module_version": "1.2.0",
      "_model_name": "LayoutModel",
      "_view_count": null,
      "_view_module": "@jupyter-widgets/base",
      "_view_module_version": "1.2.0",
      "_view_name": "LayoutView",
      "align_content": null,
      "align_items": null,
      "align_self": null,
      "border": null,
      "bottom": null,
      "display": null,
      "flex": null,
      "flex_flow": null,
      "grid_area": null,
      "grid_auto_columns": null,
      "grid_auto_flow": null,
      "grid_auto_rows": null,
      "grid_column": null,
      "grid_gap": null,
      "grid_row": null,
      "grid_template_areas": null,
      "grid_template_columns": null,
      "grid_template_rows": null,
      "height": null,
      "justify_content": null,
      "justify_items": null,
      "left": null,
      "margin": null,
      "max_height": null,
      "max_width": null,
      "min_height": null,
      "min_width": null,
      "object_fit": null,
      "object_position": null,
      "order": null,
      "overflow": null,
      "overflow_x": null,
      "overflow_y": null,
      "padding": null,
      "right": null,
      "top": null,
      "visibility": null,
      "width": null
     }
    },
    "bb44fe5d3ca141d0b64a184990375cef": {
     "model_module": "@jupyter-widgets/base",
     "model_module_version": "1.2.0",
     "model_name": "LayoutModel",
     "state": {
      "_model_module": "@jupyter-widgets/base",
      "_model_module_version": "1.2.0",
      "_model_name": "LayoutModel",
      "_view_count": null,
      "_view_module": "@jupyter-widgets/base",
      "_view_module_version": "1.2.0",
      "_view_name": "LayoutView",
      "align_content": null,
      "align_items": null,
      "align_self": null,
      "border": null,
      "bottom": null,
      "display": null,
      "flex": null,
      "flex_flow": null,
      "grid_area": null,
      "grid_auto_columns": null,
      "grid_auto_flow": null,
      "grid_auto_rows": null,
      "grid_column": null,
      "grid_gap": null,
      "grid_row": null,
      "grid_template_areas": null,
      "grid_template_columns": null,
      "grid_template_rows": null,
      "height": null,
      "justify_content": null,
      "justify_items": null,
      "left": null,
      "margin": null,
      "max_height": null,
      "max_width": null,
      "min_height": null,
      "min_width": null,
      "object_fit": null,
      "object_position": null,
      "order": null,
      "overflow": null,
      "overflow_x": null,
      "overflow_y": null,
      "padding": null,
      "right": null,
      "top": null,
      "visibility": null,
      "width": null
     }
    },
    "bb93c5ac624c4b2caf44ea61ce66e1ea": {
     "model_module": "@jupyter-widgets/base",
     "model_module_version": "1.2.0",
     "model_name": "LayoutModel",
     "state": {
      "_model_module": "@jupyter-widgets/base",
      "_model_module_version": "1.2.0",
      "_model_name": "LayoutModel",
      "_view_count": null,
      "_view_module": "@jupyter-widgets/base",
      "_view_module_version": "1.2.0",
      "_view_name": "LayoutView",
      "align_content": null,
      "align_items": null,
      "align_self": null,
      "border": null,
      "bottom": null,
      "display": null,
      "flex": null,
      "flex_flow": null,
      "grid_area": null,
      "grid_auto_columns": null,
      "grid_auto_flow": null,
      "grid_auto_rows": null,
      "grid_column": null,
      "grid_gap": null,
      "grid_row": null,
      "grid_template_areas": null,
      "grid_template_columns": null,
      "grid_template_rows": null,
      "height": null,
      "justify_content": null,
      "justify_items": null,
      "left": null,
      "margin": null,
      "max_height": null,
      "max_width": null,
      "min_height": null,
      "min_width": null,
      "object_fit": null,
      "object_position": null,
      "order": null,
      "overflow": null,
      "overflow_x": null,
      "overflow_y": null,
      "padding": null,
      "right": null,
      "top": null,
      "visibility": null,
      "width": null
     }
    },
    "bbf02400db0e4bcc98dbc9a09537442e": {
     "model_module": "@jupyter-widgets/base",
     "model_module_version": "1.2.0",
     "model_name": "LayoutModel",
     "state": {
      "_model_module": "@jupyter-widgets/base",
      "_model_module_version": "1.2.0",
      "_model_name": "LayoutModel",
      "_view_count": null,
      "_view_module": "@jupyter-widgets/base",
      "_view_module_version": "1.2.0",
      "_view_name": "LayoutView",
      "align_content": null,
      "align_items": null,
      "align_self": null,
      "border": null,
      "bottom": null,
      "display": null,
      "flex": null,
      "flex_flow": null,
      "grid_area": null,
      "grid_auto_columns": null,
      "grid_auto_flow": null,
      "grid_auto_rows": null,
      "grid_column": null,
      "grid_gap": null,
      "grid_row": null,
      "grid_template_areas": null,
      "grid_template_columns": null,
      "grid_template_rows": null,
      "height": null,
      "justify_content": null,
      "justify_items": null,
      "left": null,
      "margin": null,
      "max_height": null,
      "max_width": null,
      "min_height": null,
      "min_width": null,
      "object_fit": null,
      "object_position": null,
      "order": null,
      "overflow": null,
      "overflow_x": null,
      "overflow_y": null,
      "padding": null,
      "right": null,
      "top": null,
      "visibility": null,
      "width": null
     }
    },
    "bf3cc9a41b3a4b1b82c8141505fb43d1": {
     "model_module": "@jupyter-widgets/controls",
     "model_module_version": "1.5.0",
     "model_name": "HBoxModel",
     "state": {
      "_dom_classes": [],
      "_model_module": "@jupyter-widgets/controls",
      "_model_module_version": "1.5.0",
      "_model_name": "HBoxModel",
      "_view_count": null,
      "_view_module": "@jupyter-widgets/controls",
      "_view_module_version": "1.5.0",
      "_view_name": "HBoxView",
      "box_style": "",
      "children": [
       "IPY_MODEL_2ebd8e8beb1b4da8a1dd088b9dcacaa2",
       "IPY_MODEL_831e5bdbddf044dd8de88005c5308694",
       "IPY_MODEL_92ce37b6b97047b8823434b3db78968d"
      ],
      "layout": "IPY_MODEL_b830b87dbe794524850f1b3515ccf4f3"
     }
    },
    "bf6175b1b53e42ef916ad68973d012d8": {
     "model_module": "@jupyter-widgets/controls",
     "model_module_version": "1.5.0",
     "model_name": "HTMLModel",
     "state": {
      "_dom_classes": [],
      "_model_module": "@jupyter-widgets/controls",
      "_model_module_version": "1.5.0",
      "_model_name": "HTMLModel",
      "_view_count": null,
      "_view_module": "@jupyter-widgets/controls",
      "_view_module_version": "1.5.0",
      "_view_name": "HTMLView",
      "description": "",
      "description_tooltip": null,
      "layout": "IPY_MODEL_b560701a7a6548fc89bde2111c33f8dc",
      "placeholder": "​",
      "style": "IPY_MODEL_3add4542dd3e4a1e8f8b3b4b8254b62c",
      "value": " 29696/? [00:00&lt;00:00, 135258.43it/s]"
     }
    },
    "c65d572097de4695aec0647e1e01482a": {
     "model_module": "@jupyter-widgets/base",
     "model_module_version": "1.2.0",
     "model_name": "LayoutModel",
     "state": {
      "_model_module": "@jupyter-widgets/base",
      "_model_module_version": "1.2.0",
      "_model_name": "LayoutModel",
      "_view_count": null,
      "_view_module": "@jupyter-widgets/base",
      "_view_module_version": "1.2.0",
      "_view_name": "LayoutView",
      "align_content": null,
      "align_items": null,
      "align_self": null,
      "border": null,
      "bottom": null,
      "display": null,
      "flex": null,
      "flex_flow": null,
      "grid_area": null,
      "grid_auto_columns": null,
      "grid_auto_flow": null,
      "grid_auto_rows": null,
      "grid_column": null,
      "grid_gap": null,
      "grid_row": null,
      "grid_template_areas": null,
      "grid_template_columns": null,
      "grid_template_rows": null,
      "height": null,
      "justify_content": null,
      "justify_items": null,
      "left": null,
      "margin": null,
      "max_height": null,
      "max_width": null,
      "min_height": null,
      "min_width": null,
      "object_fit": null,
      "object_position": null,
      "order": null,
      "overflow": null,
      "overflow_x": null,
      "overflow_y": null,
      "padding": null,
      "right": null,
      "top": null,
      "visibility": null,
      "width": null
     }
    },
    "c7bcfedd63e94ffa9c083fdea5630211": {
     "model_module": "@jupyter-widgets/controls",
     "model_module_version": "1.5.0",
     "model_name": "DescriptionStyleModel",
     "state": {
      "_model_module": "@jupyter-widgets/controls",
      "_model_module_version": "1.5.0",
      "_model_name": "DescriptionStyleModel",
      "_view_count": null,
      "_view_module": "@jupyter-widgets/base",
      "_view_module_version": "1.2.0",
      "_view_name": "StyleView",
      "description_width": ""
     }
    },
    "cb443bc99d3343da97358e51cb067635": {
     "model_module": "@jupyter-widgets/controls",
     "model_module_version": "1.5.0",
     "model_name": "HTMLModel",
     "state": {
      "_dom_classes": [],
      "_model_module": "@jupyter-widgets/controls",
      "_model_module_version": "1.5.0",
      "_model_name": "HTMLModel",
      "_view_count": null,
      "_view_module": "@jupyter-widgets/controls",
      "_view_module_version": "1.5.0",
      "_view_name": "HTMLView",
      "description": "",
      "description_tooltip": null,
      "layout": "IPY_MODEL_bb93c5ac624c4b2caf44ea61ce66e1ea",
      "placeholder": "​",
      "style": "IPY_MODEL_cd21c6f158c1442982166651169ab325",
      "value": ""
     }
    },
    "cd21c6f158c1442982166651169ab325": {
     "model_module": "@jupyter-widgets/controls",
     "model_module_version": "1.5.0",
     "model_name": "DescriptionStyleModel",
     "state": {
      "_model_module": "@jupyter-widgets/controls",
      "_model_module_version": "1.5.0",
      "_model_name": "DescriptionStyleModel",
      "_view_count": null,
      "_view_module": "@jupyter-widgets/base",
      "_view_module_version": "1.2.0",
      "_view_name": "StyleView",
      "description_width": ""
     }
    },
    "d07f7a788d464efc8a968b8097d1708b": {
     "model_module": "@jupyter-widgets/controls",
     "model_module_version": "1.5.0",
     "model_name": "ProgressStyleModel",
     "state": {
      "_model_module": "@jupyter-widgets/controls",
      "_model_module_version": "1.5.0",
      "_model_name": "ProgressStyleModel",
      "_view_count": null,
      "_view_module": "@jupyter-widgets/base",
      "_view_module_version": "1.2.0",
      "_view_name": "StyleView",
      "bar_color": null,
      "description_width": ""
     }
    },
    "d2e7b7d4251d451999884b1248af8f7d": {
     "model_module": "@jupyter-widgets/controls",
     "model_module_version": "1.5.0",
     "model_name": "HTMLModel",
     "state": {
      "_dom_classes": [],
      "_model_module": "@jupyter-widgets/controls",
      "_model_module_version": "1.5.0",
      "_model_name": "HTMLModel",
      "_view_count": null,
      "_view_module": "@jupyter-widgets/controls",
      "_view_module_version": "1.5.0",
      "_view_name": "HTMLView",
      "description": "",
      "description_tooltip": null,
      "layout": "IPY_MODEL_7a803e47a12f46adac931bc1ed4065c7",
      "placeholder": "​",
      "style": "IPY_MODEL_0ae783d887cc49728ea39ce5ecfc468b",
      "value": ""
     }
    },
    "d4f596b0bab443c0a1e04f58c8cb4a0d": {
     "model_module": "@jupyter-widgets/base",
     "model_module_version": "1.2.0",
     "model_name": "LayoutModel",
     "state": {
      "_model_module": "@jupyter-widgets/base",
      "_model_module_version": "1.2.0",
      "_model_name": "LayoutModel",
      "_view_count": null,
      "_view_module": "@jupyter-widgets/base",
      "_view_module_version": "1.2.0",
      "_view_name": "LayoutView",
      "align_content": null,
      "align_items": null,
      "align_self": null,
      "border": null,
      "bottom": null,
      "display": null,
      "flex": null,
      "flex_flow": null,
      "grid_area": null,
      "grid_auto_columns": null,
      "grid_auto_flow": null,
      "grid_auto_rows": null,
      "grid_column": null,
      "grid_gap": null,
      "grid_row": null,
      "grid_template_areas": null,
      "grid_template_columns": null,
      "grid_template_rows": null,
      "height": null,
      "justify_content": null,
      "justify_items": null,
      "left": null,
      "margin": null,
      "max_height": null,
      "max_width": null,
      "min_height": null,
      "min_width": null,
      "object_fit": null,
      "object_position": null,
      "order": null,
      "overflow": null,
      "overflow_x": null,
      "overflow_y": null,
      "padding": null,
      "right": null,
      "top": null,
      "visibility": null,
      "width": null
     }
    },
    "d5ac4be3271943868b2ecb3e6e896852": {
     "model_module": "@jupyter-widgets/base",
     "model_module_version": "1.2.0",
     "model_name": "LayoutModel",
     "state": {
      "_model_module": "@jupyter-widgets/base",
      "_model_module_version": "1.2.0",
      "_model_name": "LayoutModel",
      "_view_count": null,
      "_view_module": "@jupyter-widgets/base",
      "_view_module_version": "1.2.0",
      "_view_name": "LayoutView",
      "align_content": null,
      "align_items": null,
      "align_self": null,
      "border": null,
      "bottom": null,
      "display": null,
      "flex": null,
      "flex_flow": null,
      "grid_area": null,
      "grid_auto_columns": null,
      "grid_auto_flow": null,
      "grid_auto_rows": null,
      "grid_column": null,
      "grid_gap": null,
      "grid_row": null,
      "grid_template_areas": null,
      "grid_template_columns": null,
      "grid_template_rows": null,
      "height": null,
      "justify_content": null,
      "justify_items": null,
      "left": null,
      "margin": null,
      "max_height": null,
      "max_width": null,
      "min_height": null,
      "min_width": null,
      "object_fit": null,
      "object_position": null,
      "order": null,
      "overflow": null,
      "overflow_x": null,
      "overflow_y": null,
      "padding": null,
      "right": null,
      "top": null,
      "visibility": null,
      "width": null
     }
    },
    "d67a5443413c4843973a65e10779d67a": {
     "model_module": "@jupyter-widgets/base",
     "model_module_version": "1.2.0",
     "model_name": "LayoutModel",
     "state": {
      "_model_module": "@jupyter-widgets/base",
      "_model_module_version": "1.2.0",
      "_model_name": "LayoutModel",
      "_view_count": null,
      "_view_module": "@jupyter-widgets/base",
      "_view_module_version": "1.2.0",
      "_view_name": "LayoutView",
      "align_content": null,
      "align_items": null,
      "align_self": null,
      "border": null,
      "bottom": null,
      "display": null,
      "flex": null,
      "flex_flow": null,
      "grid_area": null,
      "grid_auto_columns": null,
      "grid_auto_flow": null,
      "grid_auto_rows": null,
      "grid_column": null,
      "grid_gap": null,
      "grid_row": null,
      "grid_template_areas": null,
      "grid_template_columns": null,
      "grid_template_rows": null,
      "height": null,
      "justify_content": null,
      "justify_items": null,
      "left": null,
      "margin": null,
      "max_height": null,
      "max_width": null,
      "min_height": null,
      "min_width": null,
      "object_fit": null,
      "object_position": null,
      "order": null,
      "overflow": null,
      "overflow_x": null,
      "overflow_y": null,
      "padding": null,
      "right": null,
      "top": null,
      "visibility": null,
      "width": null
     }
    },
    "d9b30370091749e9a38e3067d92625dd": {
     "model_module": "@jupyter-widgets/controls",
     "model_module_version": "1.5.0",
     "model_name": "FloatProgressModel",
     "state": {
      "_dom_classes": [],
      "_model_module": "@jupyter-widgets/controls",
      "_model_module_version": "1.5.0",
      "_model_name": "FloatProgressModel",
      "_view_count": null,
      "_view_module": "@jupyter-widgets/controls",
      "_view_module_version": "1.5.0",
      "_view_name": "ProgressView",
      "bar_style": "success",
      "description": "",
      "description_tooltip": null,
      "layout": "IPY_MODEL_b39f0a1b76224ec58863b132f5e8ff77",
      "max": 5148,
      "min": 0,
      "orientation": "horizontal",
      "style": "IPY_MODEL_5d2d20f9acaa438aa3c359a209c4bc32",
      "value": 5148
     }
    },
    "dc35df41a2674099ac91707fcb8faea8": {
     "model_module": "@jupyter-widgets/controls",
     "model_module_version": "1.5.0",
     "model_name": "DescriptionStyleModel",
     "state": {
      "_model_module": "@jupyter-widgets/controls",
      "_model_module_version": "1.5.0",
      "_model_name": "DescriptionStyleModel",
      "_view_count": null,
      "_view_module": "@jupyter-widgets/base",
      "_view_module_version": "1.2.0",
      "_view_name": "StyleView",
      "description_width": ""
     }
    },
    "e28fa28cc9ec4a52a18037d911035b07": {
     "model_module": "@jupyter-widgets/controls",
     "model_module_version": "1.5.0",
     "model_name": "DescriptionStyleModel",
     "state": {
      "_model_module": "@jupyter-widgets/controls",
      "_model_module_version": "1.5.0",
      "_model_name": "DescriptionStyleModel",
      "_view_count": null,
      "_view_module": "@jupyter-widgets/base",
      "_view_module_version": "1.2.0",
      "_view_name": "StyleView",
      "description_width": ""
     }
    },
    "e4298bd5dc4e4b0fb17a720eb109d49f": {
     "model_module": "@jupyter-widgets/base",
     "model_module_version": "1.2.0",
     "model_name": "LayoutModel",
     "state": {
      "_model_module": "@jupyter-widgets/base",
      "_model_module_version": "1.2.0",
      "_model_name": "LayoutModel",
      "_view_count": null,
      "_view_module": "@jupyter-widgets/base",
      "_view_module_version": "1.2.0",
      "_view_name": "LayoutView",
      "align_content": null,
      "align_items": null,
      "align_self": null,
      "border": null,
      "bottom": null,
      "display": null,
      "flex": null,
      "flex_flow": null,
      "grid_area": null,
      "grid_auto_columns": null,
      "grid_auto_flow": null,
      "grid_auto_rows": null,
      "grid_column": null,
      "grid_gap": null,
      "grid_row": null,
      "grid_template_areas": null,
      "grid_template_columns": null,
      "grid_template_rows": null,
      "height": null,
      "justify_content": null,
      "justify_items": null,
      "left": null,
      "margin": null,
      "max_height": null,
      "max_width": null,
      "min_height": null,
      "min_width": null,
      "object_fit": null,
      "object_position": null,
      "order": null,
      "overflow": null,
      "overflow_x": null,
      "overflow_y": null,
      "padding": null,
      "right": null,
      "top": null,
      "visibility": null,
      "width": null
     }
    },
    "e445e3284827419aad53b47225e9e643": {
     "model_module": "@jupyter-widgets/base",
     "model_module_version": "1.2.0",
     "model_name": "LayoutModel",
     "state": {
      "_model_module": "@jupyter-widgets/base",
      "_model_module_version": "1.2.0",
      "_model_name": "LayoutModel",
      "_view_count": null,
      "_view_module": "@jupyter-widgets/base",
      "_view_module_version": "1.2.0",
      "_view_name": "LayoutView",
      "align_content": null,
      "align_items": null,
      "align_self": null,
      "border": null,
      "bottom": null,
      "display": null,
      "flex": null,
      "flex_flow": null,
      "grid_area": null,
      "grid_auto_columns": null,
      "grid_auto_flow": null,
      "grid_auto_rows": null,
      "grid_column": null,
      "grid_gap": null,
      "grid_row": null,
      "grid_template_areas": null,
      "grid_template_columns": null,
      "grid_template_rows": null,
      "height": null,
      "justify_content": null,
      "justify_items": null,
      "left": null,
      "margin": null,
      "max_height": null,
      "max_width": null,
      "min_height": null,
      "min_width": null,
      "object_fit": null,
      "object_position": null,
      "order": null,
      "overflow": null,
      "overflow_x": null,
      "overflow_y": null,
      "padding": null,
      "right": null,
      "top": null,
      "visibility": null,
      "width": null
     }
    },
    "e4f19f90571f4628b8716884b942598f": {
     "model_module": "@jupyter-widgets/controls",
     "model_module_version": "1.5.0",
     "model_name": "DescriptionStyleModel",
     "state": {
      "_model_module": "@jupyter-widgets/controls",
      "_model_module_version": "1.5.0",
      "_model_name": "DescriptionStyleModel",
      "_view_count": null,
      "_view_module": "@jupyter-widgets/base",
      "_view_module_version": "1.2.0",
      "_view_name": "StyleView",
      "description_width": ""
     }
    },
    "e6f3bd80225d4b3bba8018c2cabbcc7e": {
     "model_module": "@jupyter-widgets/base",
     "model_module_version": "1.2.0",
     "model_name": "LayoutModel",
     "state": {
      "_model_module": "@jupyter-widgets/base",
      "_model_module_version": "1.2.0",
      "_model_name": "LayoutModel",
      "_view_count": null,
      "_view_module": "@jupyter-widgets/base",
      "_view_module_version": "1.2.0",
      "_view_name": "LayoutView",
      "align_content": null,
      "align_items": null,
      "align_self": null,
      "border": null,
      "bottom": null,
      "display": null,
      "flex": null,
      "flex_flow": null,
      "grid_area": null,
      "grid_auto_columns": null,
      "grid_auto_flow": null,
      "grid_auto_rows": null,
      "grid_column": null,
      "grid_gap": null,
      "grid_row": null,
      "grid_template_areas": null,
      "grid_template_columns": null,
      "grid_template_rows": null,
      "height": null,
      "justify_content": null,
      "justify_items": null,
      "left": null,
      "margin": null,
      "max_height": null,
      "max_width": null,
      "min_height": null,
      "min_width": null,
      "object_fit": null,
      "object_position": null,
      "order": null,
      "overflow": null,
      "overflow_x": null,
      "overflow_y": null,
      "padding": null,
      "right": null,
      "top": null,
      "visibility": null,
      "width": null
     }
    },
    "edef253ff3d045048d0406079872d31e": {
     "model_module": "@jupyter-widgets/controls",
     "model_module_version": "1.5.0",
     "model_name": "ProgressStyleModel",
     "state": {
      "_model_module": "@jupyter-widgets/controls",
      "_model_module_version": "1.5.0",
      "_model_name": "ProgressStyleModel",
      "_view_count": null,
      "_view_module": "@jupyter-widgets/base",
      "_view_module_version": "1.2.0",
      "_view_name": "StyleView",
      "bar_color": null,
      "description_width": ""
     }
    },
    "f38727e742b44cd0bf10df786020058d": {
     "model_module": "@jupyter-widgets/controls",
     "model_module_version": "1.5.0",
     "model_name": "HTMLModel",
     "state": {
      "_dom_classes": [],
      "_model_module": "@jupyter-widgets/controls",
      "_model_module_version": "1.5.0",
      "_model_name": "HTMLModel",
      "_view_count": null,
      "_view_module": "@jupyter-widgets/controls",
      "_view_module_version": "1.5.0",
      "_view_name": "HTMLView",
      "description": "",
      "description_tooltip": null,
      "layout": "IPY_MODEL_0979ace70edf4b0db2e394bdd0de8017",
      "placeholder": "​",
      "style": "IPY_MODEL_4363655a1cbb4cc492c081b241aee628",
      "value": " 4/1200 [00:04&lt;23:25,  1.17s/it]"
     }
    },
    "ff768b9dd13041ba8d1a4fc97268650c": {
     "model_module": "@jupyter-widgets/controls",
     "model_module_version": "1.5.0",
     "model_name": "HBoxModel",
     "state": {
      "_dom_classes": [],
      "_model_module": "@jupyter-widgets/controls",
      "_model_module_version": "1.5.0",
      "_model_name": "HBoxModel",
      "_view_count": null,
      "_view_module": "@jupyter-widgets/controls",
      "_view_module_version": "1.5.0",
      "_view_name": "HBoxView",
      "box_style": "",
      "children": [
       "IPY_MODEL_9f3bc71605364c458c5d05db36bc4472",
       "IPY_MODEL_d9b30370091749e9a38e3067d92625dd",
       "IPY_MODEL_68a9c9e32450495fbac90b6fbf36ea7c"
      ],
      "layout": "IPY_MODEL_9f06f93037c04c4cab9e77f808ec0e20"
     }
    }
   }
  }
 },
 "nbformat": 4,
 "nbformat_minor": 1
}
